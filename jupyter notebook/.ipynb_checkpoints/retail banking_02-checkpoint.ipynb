{
 "cells": [
  {
   "cell_type": "markdown",
   "id": "b8b40684-5653-4fbf-8264-1865c42a8892",
   "metadata": {},
   "source": [
    "# 🏦 Optimizing Retail Banking Strategies Through RFM-Based Customer Segmentation\n",
    "\n",
    "Retail banks are increasingly leveraging **RFM (Recency, Frequency, Monetary)** analysis to segment customers based on their transaction behavior. This data-driven approach enables personalized engagement, improved retention, and strategic resource allocation.\n",
    "\n",
    "---\n",
    "By scoring customers on these dimensions, we can classify them into meaningful segments:\n",
    "- **Champions**: High R, F, M — loyal and profitable  \n",
    "- **At-risk**: Low R, moderate F/M — previously active, now disengaged  \n",
    "- **New Customers**: High R, low F/M — recently onboarded  \n",
    "- **Dormant**: Low R, F, M — inactive accounts\n",
    "\n",
    "---\n",
    "> RFM segmentation transforms raw transaction data into strategic customer insights—empowering banks to act with precision and empathy.\n",
    ">\n",
    "---"
   ]
  },
  {
   "cell_type": "markdown",
   "id": "9af030b3-046c-4dc7-972a-d482c83e606f",
   "metadata": {},
   "source": [
    "## 📦 Importing Required Libraries\n",
    "\n",
    "To begin the RFM-based customer segmentation workflow, we import essential Python libraries for data manipulation, visualization, and modeling."
   ]
  },
  {
   "cell_type": "code",
   "execution_count": 3,
   "id": "6a1fb81e-cb3f-40c7-ad43-9645648b450b",
   "metadata": {},
   "outputs": [],
   "source": [
    "import pandas as pd                   # for data processing\n",
    "import numpy as np                    # for data processing\n",
    "import matplotlib.pyplot as plt       # for visualizations \n",
    "import seaborn as sns                 # for visualizations \n",
    "from datetime import datetime         # for working with date and time objects\n",
    "import datetime as dt                 # for working with date and time objects\n",
    "import warnings\n",
    "warnings.filterwarnings('ignore')     # for preventing unwanted warning message"
   ]
  },
  {
   "cell_type": "code",
   "execution_count": 5,
   "id": "f71bac87-4ce9-47eb-92c0-e67d6c022cec",
   "metadata": {},
   "outputs": [],
   "source": [
    "df = pd.read_csv(r'../raw_data/bank_data_C.csv')"
   ]
  },
  {
   "cell_type": "code",
   "execution_count": 6,
   "id": "e735eab0-cbf1-4c19-90ec-0d9407c7dd33",
   "metadata": {},
   "outputs": [
    {
     "data": {
      "text/html": [
       "<div>\n",
       "<style scoped>\n",
       "    .dataframe tbody tr th:only-of-type {\n",
       "        vertical-align: middle;\n",
       "    }\n",
       "\n",
       "    .dataframe tbody tr th {\n",
       "        vertical-align: top;\n",
       "    }\n",
       "\n",
       "    .dataframe thead th {\n",
       "        text-align: right;\n",
       "    }\n",
       "</style>\n",
       "<table border=\"1\" class=\"dataframe\">\n",
       "  <thead>\n",
       "    <tr style=\"text-align: right;\">\n",
       "      <th></th>\n",
       "      <th>TransactionID</th>\n",
       "      <th>CustomerID</th>\n",
       "      <th>CustomerDOB</th>\n",
       "      <th>CustGender</th>\n",
       "      <th>CustLocation</th>\n",
       "      <th>CustAccountBalance</th>\n",
       "      <th>TransactionDate</th>\n",
       "      <th>TransactionTime</th>\n",
       "      <th>TransactionAmount (INR)</th>\n",
       "    </tr>\n",
       "  </thead>\n",
       "  <tbody>\n",
       "    <tr>\n",
       "      <th>0</th>\n",
       "      <td>T1</td>\n",
       "      <td>C5841053</td>\n",
       "      <td>10/1/94</td>\n",
       "      <td>F</td>\n",
       "      <td>JAMSHEDPUR</td>\n",
       "      <td>17819.05</td>\n",
       "      <td>2/8/16</td>\n",
       "      <td>143207</td>\n",
       "      <td>25.0</td>\n",
       "    </tr>\n",
       "    <tr>\n",
       "      <th>1</th>\n",
       "      <td>T2</td>\n",
       "      <td>C2142763</td>\n",
       "      <td>4/4/57</td>\n",
       "      <td>M</td>\n",
       "      <td>JHAJJAR</td>\n",
       "      <td>2270.69</td>\n",
       "      <td>2/8/16</td>\n",
       "      <td>141858</td>\n",
       "      <td>27999.0</td>\n",
       "    </tr>\n",
       "    <tr>\n",
       "      <th>2</th>\n",
       "      <td>T3</td>\n",
       "      <td>C4417068</td>\n",
       "      <td>26/11/96</td>\n",
       "      <td>F</td>\n",
       "      <td>MUMBAI</td>\n",
       "      <td>17874.44</td>\n",
       "      <td>2/8/16</td>\n",
       "      <td>142712</td>\n",
       "      <td>459.0</td>\n",
       "    </tr>\n",
       "    <tr>\n",
       "      <th>3</th>\n",
       "      <td>T4</td>\n",
       "      <td>C5342380</td>\n",
       "      <td>14/9/73</td>\n",
       "      <td>F</td>\n",
       "      <td>MUMBAI</td>\n",
       "      <td>866503.21</td>\n",
       "      <td>2/8/16</td>\n",
       "      <td>142714</td>\n",
       "      <td>2060.0</td>\n",
       "    </tr>\n",
       "    <tr>\n",
       "      <th>4</th>\n",
       "      <td>T5</td>\n",
       "      <td>C9031234</td>\n",
       "      <td>24/3/88</td>\n",
       "      <td>F</td>\n",
       "      <td>NAVI MUMBAI</td>\n",
       "      <td>6714.43</td>\n",
       "      <td>2/8/16</td>\n",
       "      <td>181156</td>\n",
       "      <td>1762.5</td>\n",
       "    </tr>\n",
       "  </tbody>\n",
       "</table>\n",
       "</div>"
      ],
      "text/plain": [
       "  TransactionID CustomerID CustomerDOB CustGender CustLocation  \\\n",
       "0            T1   C5841053     10/1/94          F   JAMSHEDPUR   \n",
       "1            T2   C2142763      4/4/57          M      JHAJJAR   \n",
       "2            T3   C4417068    26/11/96          F       MUMBAI   \n",
       "3            T4   C5342380     14/9/73          F       MUMBAI   \n",
       "4            T5   C9031234     24/3/88          F  NAVI MUMBAI   \n",
       "\n",
       "   CustAccountBalance TransactionDate  TransactionTime  \\\n",
       "0            17819.05          2/8/16           143207   \n",
       "1             2270.69          2/8/16           141858   \n",
       "2            17874.44          2/8/16           142712   \n",
       "3           866503.21          2/8/16           142714   \n",
       "4             6714.43          2/8/16           181156   \n",
       "\n",
       "   TransactionAmount (INR)  \n",
       "0                     25.0  \n",
       "1                  27999.0  \n",
       "2                    459.0  \n",
       "3                   2060.0  \n",
       "4                   1762.5  "
      ]
     },
     "execution_count": 6,
     "metadata": {},
     "output_type": "execute_result"
    }
   ],
   "source": [
    "df.head()"
   ]
  },
  {
   "cell_type": "markdown",
   "id": "7219e2f5-b157-4230-ac7f-e11dfb1b7e53",
   "metadata": {},
   "source": [
    "### Cheking if there are mising values within the datset, and also the datatypes of the columnsm"
   ]
  },
  {
   "cell_type": "code",
   "execution_count": 8,
   "id": "2ee12e3d-6d09-46cd-8f00-553fd8f6b1cd",
   "metadata": {},
   "outputs": [
    {
     "data": {
      "text/plain": [
       "TransactionID              0\n",
       "CustomerID                 0\n",
       "CustomerDOB                0\n",
       "CustGender                 0\n",
       "CustLocation               0\n",
       "CustAccountBalance         0\n",
       "TransactionDate            0\n",
       "TransactionTime            0\n",
       "TransactionAmount (INR)    0\n",
       "dtype: int64"
      ]
     },
     "execution_count": 8,
     "metadata": {},
     "output_type": "execute_result"
    }
   ],
   "source": [
    "df.isna().sum()"
   ]
  },
  {
   "cell_type": "code",
   "execution_count": 9,
   "id": "17d7c25c-8e12-4f5b-9921-d1e1f43b78c0",
   "metadata": {},
   "outputs": [
    {
     "data": {
      "text/plain": [
       "(1041614, 9)"
      ]
     },
     "execution_count": 9,
     "metadata": {},
     "output_type": "execute_result"
    }
   ],
   "source": [
    "df.shape"
   ]
  },
  {
   "cell_type": "code",
   "execution_count": 10,
   "id": "0286d4a7-2bcb-40ca-ac5c-2b5c5e9b5afc",
   "metadata": {},
   "outputs": [
    {
     "data": {
      "text/plain": [
       "TransactionID               object\n",
       "CustomerID                  object\n",
       "CustomerDOB                 object\n",
       "CustGender                  object\n",
       "CustLocation                object\n",
       "CustAccountBalance         float64\n",
       "TransactionDate             object\n",
       "TransactionTime              int64\n",
       "TransactionAmount (INR)    float64\n",
       "dtype: object"
      ]
     },
     "execution_count": 10,
     "metadata": {},
     "output_type": "execute_result"
    }
   ],
   "source": [
    "df.dtypes"
   ]
  },
  {
   "cell_type": "markdown",
   "id": "096c8965-b1df-48ab-ad64-872dcf49a4cd",
   "metadata": {},
   "source": [
    "### 🗃️ Datatype Conversion\n",
    "We converted the following columns from `object` to `datetime` format to enable accurate time-based analysis:\n",
    "- `CustomerDOB` → `datetime`\n",
    "- `TransactionDate` → `datetime`\n",
    "This ensures proper handling of date operations such as filtering, sorting, and time-series analysis."
   ]
  },
  {
   "cell_type": "code",
   "execution_count": 12,
   "id": "c04554c3-98c0-463d-80bd-8e6034adca8f",
   "metadata": {},
   "outputs": [],
   "source": [
    "df['CustomerDOB'] = pd.to_datetime(df['CustomerDOB'], errors='coerce')\n",
    "df['TransactionDate'] = pd.to_datetime(df['TransactionDate'], errors='coerce')"
   ]
  },
  {
   "cell_type": "code",
   "execution_count": 13,
   "id": "11722886-97fc-419a-a770-bd073b37f944",
   "metadata": {},
   "outputs": [
    {
     "data": {
      "text/plain": [
       "TransactionID                      object\n",
       "CustomerID                         object\n",
       "CustomerDOB                datetime64[ns]\n",
       "CustGender                         object\n",
       "CustLocation                       object\n",
       "CustAccountBalance                float64\n",
       "TransactionDate            datetime64[ns]\n",
       "TransactionTime                     int64\n",
       "TransactionAmount (INR)           float64\n",
       "dtype: object"
      ]
     },
     "execution_count": 13,
     "metadata": {},
     "output_type": "execute_result"
    }
   ],
   "source": [
    "df.dtypes"
   ]
  },
  {
   "cell_type": "markdown",
   "id": "02740f0f-5320-4098-b448-bd3e883cb7fb",
   "metadata": {},
   "source": [
    "### 📅 Verifying Transaction Period\n",
    "\n",
    "Before proceeding with age calculations and time-based analysis, I first verify the period during which all transactions occurred. This helps ensure consistency when deriving features like `CustomerAge` and supports accurate temporal segmentation.\n",
    "\n",
    "I'll inspect the `TransactionDate` column to confirm the year range of recorded activity."
   ]
  },
  {
   "cell_type": "code",
   "execution_count": 15,
   "id": "265e7635-e806-44b9-8d9a-282f74d29192",
   "metadata": {},
   "outputs": [
    {
     "data": {
      "text/plain": [
       "55"
      ]
     },
     "execution_count": 15,
     "metadata": {},
     "output_type": "execute_result"
    }
   ],
   "source": [
    "df['TransactionDate'].nunique()"
   ]
  },
  {
   "cell_type": "code",
   "execution_count": 16,
   "id": "134fce09-953b-430d-ac9a-2bc14803252c",
   "metadata": {},
   "outputs": [
    {
     "data": {
      "text/plain": [
       "<DatetimeArray>\n",
       "['2016-02-08 00:00:00', '2016-01-08 00:00:00', '2016-03-08 00:00:00',\n",
       " '2016-05-08 00:00:00', '2016-04-08 00:00:00', '2016-06-08 00:00:00',\n",
       " '2016-09-08 00:00:00', '2016-08-08 00:00:00', '2016-12-08 00:00:00',\n",
       " '2016-07-08 00:00:00', '2016-10-21 00:00:00', '2016-10-16 00:00:00',\n",
       " '2016-10-08 00:00:00', '2016-08-14 00:00:00', '2016-08-17 00:00:00',\n",
       " '2016-08-21 00:00:00', '2016-08-19 00:00:00', '2016-08-24 00:00:00',\n",
       " '2016-08-22 00:00:00', '2016-08-29 00:00:00', '2016-08-31 00:00:00',\n",
       " '2016-09-22 00:00:00', '2016-09-23 00:00:00', '2016-08-13 00:00:00',\n",
       " '2016-08-25 00:00:00', '2016-08-28 00:00:00', '2016-08-15 00:00:00',\n",
       " '2016-08-27 00:00:00', '2016-08-20 00:00:00', '2016-08-23 00:00:00',\n",
       " '2016-08-30 00:00:00', '2016-11-08 00:00:00', '2016-08-16 00:00:00',\n",
       " '2016-08-26 00:00:00', '2016-09-27 00:00:00', '2016-08-18 00:00:00',\n",
       " '2016-09-25 00:00:00', '2016-09-26 00:00:00', '2016-09-30 00:00:00',\n",
       " '2016-03-09 00:00:00', '2016-02-09 00:00:00', '2016-01-09 00:00:00',\n",
       " '2016-06-09 00:00:00', '2016-05-09 00:00:00', '2016-04-09 00:00:00',\n",
       " '2016-09-09 00:00:00', '2016-08-09 00:00:00', '2016-07-09 00:00:00',\n",
       " '2016-12-09 00:00:00', '2016-11-09 00:00:00', '2016-10-09 00:00:00',\n",
       " '2016-09-15 00:00:00', '2016-09-14 00:00:00', '2016-09-13 00:00:00',\n",
       " '2016-09-18 00:00:00']\n",
       "Length: 55, dtype: datetime64[ns]"
      ]
     },
     "execution_count": 16,
     "metadata": {},
     "output_type": "execute_result"
    }
   ],
   "source": [
    "df['TransactionDate'].unique()"
   ]
  },
  {
   "cell_type": "markdown",
   "id": "eb99457e-e879-4fdf-b7d6-1cd93050f589",
   "metadata": {},
   "source": [
    "### 📅 Reference Year for Age Calculation\n",
    "\n",
    "All transactions in the dataset occurred during the year **2016**. Therefore, we will calculate each customer's age based on their `CustomerDOB` relative to this fixed reference year.\n",
    "\n",
    "This approach ensures consistency across age-related features and avoids inaccuracies that could arise from using the current system date.\n",
    "\n",
    "---"
   ]
  },
  {
   "cell_type": "markdown",
   "id": "fe5d06c9-3699-4504-983b-2bddadbc1513",
   "metadata": {},
   "source": [
    "#"
   ]
  },
  {
   "cell_type": "markdown",
   "id": "296fd3f4-7830-4275-a6b3-562f574edb17",
   "metadata": {},
   "source": [
    "### 🧮 Calculating Customer Age\n",
    "\n",
    "I'll define a function to compute each customer's age by subtracting their year of birth from the transaction year. Since all transactions occurred in 2016, this year will serve as the reference point for age calculation.\n",
    "\n",
    "This derived `CustomerAge` feature will support demographic segmentation and age-based analysis."
   ]
  },
  {
   "cell_type": "code",
   "execution_count": 20,
   "id": "baa4caa1-ba9f-427a-a4c5-8b6654ba2771",
   "metadata": {},
   "outputs": [],
   "source": [
    "def cal_customer_age(age):\n",
    "    df['CustomerAge'] = df['TransactionDate'].dt.year - df['CustomerDOB'].dt.year\n",
    "    return df"
   ]
  },
  {
   "cell_type": "code",
   "execution_count": 21,
   "id": "24a84285-9dcf-4d24-8b3e-e90ee514f56f",
   "metadata": {},
   "outputs": [],
   "source": [
    "df = cal_customer_age(df)"
   ]
  },
  {
   "cell_type": "code",
   "execution_count": 22,
   "id": "7eefab7b-56aa-41fa-b00d-eadb78526216",
   "metadata": {},
   "outputs": [
    {
     "data": {
      "text/html": [
       "<div>\n",
       "<style scoped>\n",
       "    .dataframe tbody tr th:only-of-type {\n",
       "        vertical-align: middle;\n",
       "    }\n",
       "\n",
       "    .dataframe tbody tr th {\n",
       "        vertical-align: top;\n",
       "    }\n",
       "\n",
       "    .dataframe thead th {\n",
       "        text-align: right;\n",
       "    }\n",
       "</style>\n",
       "<table border=\"1\" class=\"dataframe\">\n",
       "  <thead>\n",
       "    <tr style=\"text-align: right;\">\n",
       "      <th></th>\n",
       "      <th>TransactionID</th>\n",
       "      <th>CustomerID</th>\n",
       "      <th>CustomerDOB</th>\n",
       "      <th>CustGender</th>\n",
       "      <th>CustLocation</th>\n",
       "      <th>CustAccountBalance</th>\n",
       "      <th>TransactionDate</th>\n",
       "      <th>TransactionTime</th>\n",
       "      <th>TransactionAmount (INR)</th>\n",
       "      <th>CustomerAge</th>\n",
       "    </tr>\n",
       "  </thead>\n",
       "  <tbody>\n",
       "    <tr>\n",
       "      <th>0</th>\n",
       "      <td>T1</td>\n",
       "      <td>C5841053</td>\n",
       "      <td>1994-10-01</td>\n",
       "      <td>F</td>\n",
       "      <td>JAMSHEDPUR</td>\n",
       "      <td>17819.05</td>\n",
       "      <td>2016-02-08</td>\n",
       "      <td>143207</td>\n",
       "      <td>25.0</td>\n",
       "      <td>22</td>\n",
       "    </tr>\n",
       "    <tr>\n",
       "      <th>1</th>\n",
       "      <td>T2</td>\n",
       "      <td>C2142763</td>\n",
       "      <td>2057-04-04</td>\n",
       "      <td>M</td>\n",
       "      <td>JHAJJAR</td>\n",
       "      <td>2270.69</td>\n",
       "      <td>2016-02-08</td>\n",
       "      <td>141858</td>\n",
       "      <td>27999.0</td>\n",
       "      <td>-41</td>\n",
       "    </tr>\n",
       "    <tr>\n",
       "      <th>2</th>\n",
       "      <td>T3</td>\n",
       "      <td>C4417068</td>\n",
       "      <td>1996-11-26</td>\n",
       "      <td>F</td>\n",
       "      <td>MUMBAI</td>\n",
       "      <td>17874.44</td>\n",
       "      <td>2016-02-08</td>\n",
       "      <td>142712</td>\n",
       "      <td>459.0</td>\n",
       "      <td>20</td>\n",
       "    </tr>\n",
       "    <tr>\n",
       "      <th>3</th>\n",
       "      <td>T4</td>\n",
       "      <td>C5342380</td>\n",
       "      <td>2073-09-14</td>\n",
       "      <td>F</td>\n",
       "      <td>MUMBAI</td>\n",
       "      <td>866503.21</td>\n",
       "      <td>2016-02-08</td>\n",
       "      <td>142714</td>\n",
       "      <td>2060.0</td>\n",
       "      <td>-57</td>\n",
       "    </tr>\n",
       "    <tr>\n",
       "      <th>4</th>\n",
       "      <td>T5</td>\n",
       "      <td>C9031234</td>\n",
       "      <td>1988-03-24</td>\n",
       "      <td>F</td>\n",
       "      <td>NAVI MUMBAI</td>\n",
       "      <td>6714.43</td>\n",
       "      <td>2016-02-08</td>\n",
       "      <td>181156</td>\n",
       "      <td>1762.5</td>\n",
       "      <td>28</td>\n",
       "    </tr>\n",
       "  </tbody>\n",
       "</table>\n",
       "</div>"
      ],
      "text/plain": [
       "  TransactionID CustomerID CustomerDOB CustGender CustLocation  \\\n",
       "0            T1   C5841053  1994-10-01          F   JAMSHEDPUR   \n",
       "1            T2   C2142763  2057-04-04          M      JHAJJAR   \n",
       "2            T3   C4417068  1996-11-26          F       MUMBAI   \n",
       "3            T4   C5342380  2073-09-14          F       MUMBAI   \n",
       "4            T5   C9031234  1988-03-24          F  NAVI MUMBAI   \n",
       "\n",
       "   CustAccountBalance TransactionDate  TransactionTime  \\\n",
       "0            17819.05      2016-02-08           143207   \n",
       "1             2270.69      2016-02-08           141858   \n",
       "2            17874.44      2016-02-08           142712   \n",
       "3           866503.21      2016-02-08           142714   \n",
       "4             6714.43      2016-02-08           181156   \n",
       "\n",
       "   TransactionAmount (INR)  CustomerAge  \n",
       "0                     25.0           22  \n",
       "1                  27999.0          -41  \n",
       "2                    459.0           20  \n",
       "3                   2060.0          -57  \n",
       "4                   1762.5           28  "
      ]
     },
     "execution_count": 22,
     "metadata": {},
     "output_type": "execute_result"
    }
   ],
   "source": [
    "df.head()"
   ]
  },
  {
   "cell_type": "markdown",
   "id": "4ae29229-bc96-4bce-8dc4-56a955d00356",
   "metadata": {},
   "source": [
    "### 🧼 Handling Invalid Age Values\n",
    "\n",
    "After calculating `CustomerAge`, I observed some entries with **negative values**, indicating errors in the recorded `CustomerDOB`.\n",
    "\n",
    "To address this, I'll define a function that: _Flags and removes unrealistic ages (e.g., negative values)_"
   ]
  },
  {
   "cell_type": "code",
   "execution_count": 24,
   "id": "90a21565-513e-4b3a-8709-5b1db1a011f8",
   "metadata": {},
   "outputs": [
    {
     "data": {
      "text/plain": [
       "8270"
      ]
     },
     "execution_count": 24,
     "metadata": {},
     "output_type": "execute_result"
    }
   ],
   "source": [
    "df[df['CustomerAge'] < 0]['CustomerDOB'].nunique()   # to show the total number of records with negative values"
   ]
  },
  {
   "cell_type": "code",
   "execution_count": 25,
   "id": "82b68238-8f7a-42b8-b104-9238f84ae52f",
   "metadata": {},
   "outputs": [],
   "source": [
    "def correct_Age(date):\n",
    "    if date.year > 2016:\n",
    "        date = date.replace(year = date.year - 100)\n",
    "    return date"
   ]
  },
  {
   "cell_type": "code",
   "execution_count": 26,
   "id": "9d843bf5-16e9-42f5-a1d5-ba436c906a40",
   "metadata": {},
   "outputs": [],
   "source": [
    "df['CustomerDOB'] = df['CustomerDOB'].apply(correct_Age)"
   ]
  },
  {
   "cell_type": "code",
   "execution_count": 27,
   "id": "e0cb69cb-f025-49a1-b4da-21bde02dc242",
   "metadata": {},
   "outputs": [
    {
     "data": {
      "text/plain": [
       "8270"
      ]
     },
     "execution_count": 27,
     "metadata": {},
     "output_type": "execute_result"
    }
   ],
   "source": [
    "df[df['CustomerAge'] < 0]['CustomerDOB'].nunique()   # to verify the effectiveness of the \"correct_Age\" function"
   ]
  },
  {
   "cell_type": "code",
   "execution_count": 28,
   "id": "f44ab378-1623-44c0-9da3-de46e2daaf0b",
   "metadata": {},
   "outputs": [],
   "source": [
    "df = cal_customer_age(df)   # re-calculating the customer's age again"
   ]
  },
  {
   "cell_type": "code",
   "execution_count": 29,
   "id": "e8ebb595-2abd-4727-868e-a4fccc07b69b",
   "metadata": {},
   "outputs": [
    {
     "data": {
      "text/plain": [
       "0"
      ]
     },
     "execution_count": 29,
     "metadata": {},
     "output_type": "execute_result"
    }
   ],
   "source": [
    "df[df['CustomerAge'] < 0]['CustomerDOB'].nunique()   # to verify the effectiveness of the \"correct_Age\" function"
   ]
  },
  {
   "cell_type": "code",
   "execution_count": 30,
   "id": "4599e132-1739-474e-831f-d1925225a984",
   "metadata": {},
   "outputs": [
    {
     "data": {
      "text/html": [
       "<div>\n",
       "<style scoped>\n",
       "    .dataframe tbody tr th:only-of-type {\n",
       "        vertical-align: middle;\n",
       "    }\n",
       "\n",
       "    .dataframe tbody tr th {\n",
       "        vertical-align: top;\n",
       "    }\n",
       "\n",
       "    .dataframe thead th {\n",
       "        text-align: right;\n",
       "    }\n",
       "</style>\n",
       "<table border=\"1\" class=\"dataframe\">\n",
       "  <thead>\n",
       "    <tr style=\"text-align: right;\">\n",
       "      <th></th>\n",
       "      <th>TransactionID</th>\n",
       "      <th>CustomerID</th>\n",
       "      <th>CustomerDOB</th>\n",
       "      <th>CustGender</th>\n",
       "      <th>CustLocation</th>\n",
       "      <th>CustAccountBalance</th>\n",
       "      <th>TransactionDate</th>\n",
       "      <th>TransactionTime</th>\n",
       "      <th>TransactionAmount (INR)</th>\n",
       "      <th>CustomerAge</th>\n",
       "    </tr>\n",
       "  </thead>\n",
       "  <tbody>\n",
       "    <tr>\n",
       "      <th>0</th>\n",
       "      <td>T1</td>\n",
       "      <td>C5841053</td>\n",
       "      <td>1994-10-01</td>\n",
       "      <td>F</td>\n",
       "      <td>JAMSHEDPUR</td>\n",
       "      <td>17819.05</td>\n",
       "      <td>2016-02-08</td>\n",
       "      <td>143207</td>\n",
       "      <td>25.0</td>\n",
       "      <td>22</td>\n",
       "    </tr>\n",
       "    <tr>\n",
       "      <th>1</th>\n",
       "      <td>T2</td>\n",
       "      <td>C2142763</td>\n",
       "      <td>1957-04-04</td>\n",
       "      <td>M</td>\n",
       "      <td>JHAJJAR</td>\n",
       "      <td>2270.69</td>\n",
       "      <td>2016-02-08</td>\n",
       "      <td>141858</td>\n",
       "      <td>27999.0</td>\n",
       "      <td>59</td>\n",
       "    </tr>\n",
       "    <tr>\n",
       "      <th>2</th>\n",
       "      <td>T3</td>\n",
       "      <td>C4417068</td>\n",
       "      <td>1996-11-26</td>\n",
       "      <td>F</td>\n",
       "      <td>MUMBAI</td>\n",
       "      <td>17874.44</td>\n",
       "      <td>2016-02-08</td>\n",
       "      <td>142712</td>\n",
       "      <td>459.0</td>\n",
       "      <td>20</td>\n",
       "    </tr>\n",
       "    <tr>\n",
       "      <th>3</th>\n",
       "      <td>T4</td>\n",
       "      <td>C5342380</td>\n",
       "      <td>1973-09-14</td>\n",
       "      <td>F</td>\n",
       "      <td>MUMBAI</td>\n",
       "      <td>866503.21</td>\n",
       "      <td>2016-02-08</td>\n",
       "      <td>142714</td>\n",
       "      <td>2060.0</td>\n",
       "      <td>43</td>\n",
       "    </tr>\n",
       "    <tr>\n",
       "      <th>4</th>\n",
       "      <td>T5</td>\n",
       "      <td>C9031234</td>\n",
       "      <td>1988-03-24</td>\n",
       "      <td>F</td>\n",
       "      <td>NAVI MUMBAI</td>\n",
       "      <td>6714.43</td>\n",
       "      <td>2016-02-08</td>\n",
       "      <td>181156</td>\n",
       "      <td>1762.5</td>\n",
       "      <td>28</td>\n",
       "    </tr>\n",
       "  </tbody>\n",
       "</table>\n",
       "</div>"
      ],
      "text/plain": [
       "  TransactionID CustomerID CustomerDOB CustGender CustLocation  \\\n",
       "0            T1   C5841053  1994-10-01          F   JAMSHEDPUR   \n",
       "1            T2   C2142763  1957-04-04          M      JHAJJAR   \n",
       "2            T3   C4417068  1996-11-26          F       MUMBAI   \n",
       "3            T4   C5342380  1973-09-14          F       MUMBAI   \n",
       "4            T5   C9031234  1988-03-24          F  NAVI MUMBAI   \n",
       "\n",
       "   CustAccountBalance TransactionDate  TransactionTime  \\\n",
       "0            17819.05      2016-02-08           143207   \n",
       "1             2270.69      2016-02-08           141858   \n",
       "2            17874.44      2016-02-08           142712   \n",
       "3           866503.21      2016-02-08           142714   \n",
       "4             6714.43      2016-02-08           181156   \n",
       "\n",
       "   TransactionAmount (INR)  CustomerAge  \n",
       "0                     25.0           22  \n",
       "1                  27999.0           59  \n",
       "2                    459.0           20  \n",
       "3                   2060.0           43  \n",
       "4                   1762.5           28  "
      ]
     },
     "execution_count": 30,
     "metadata": {},
     "output_type": "execute_result"
    }
   ],
   "source": [
    "df.head()"
   ]
  },
  {
   "cell_type": "markdown",
   "id": "c6161245-0d0c-4862-ac66-f13fbce199e3",
   "metadata": {},
   "source": [
    "### 📊 Observing Customer Age Distribution\n",
    "\n",
    "To understand the demographic spread of our customers, I plot a histogram of the `CustomerAge` feature. This helps identify dominant age groups, detect skewness, and guide age-based segmentation strategies."
   ]
  },
  {
   "cell_type": "code",
   "execution_count": 32,
   "id": "affa2ac6-be09-41fc-9e01-4b3b8764b206",
   "metadata": {},
   "outputs": [
    {
     "data": {
      "image/png": "[encoded data removed]",
      "text/plain": [
       "<Figure size 1500x300 with 1 Axes>"
      ]
     },
     "metadata": {},
     "output_type": "display_data"
    }
   ],
   "source": [
    "plt.figure(figsize=(15,3))\n",
    "sns.histplot(df['CustomerAge'], kde=False, bins=10, color='teal')\n",
    "plt.title('Customer Age Gistribution', weight='bold')\n",
    "plt.xlabel('Age Distribution', weight='bold')\n",
    "plt.ylabel('Frequency', weight='bold')\n",
    "plt.show()"
   ]
  },
  {
   "cell_type": "markdown",
   "id": "02f54276-6221-416a-914a-4c2d50b2c437",
   "metadata": {},
   "source": [
    "### 🚨 Detecting Outliers in Customer Age Distribution\n",
    "\n",
    "The histogram of `CustomerAge` reveals the presence of **outliers**, which may result from data entry errors, unrealistic birth dates, or inconsistencies in transaction records.\n",
    "\n",
    "---"
   ]
  },
  {
   "cell_type": "code",
   "execution_count": 34,
   "id": "3ae6bafa-74f4-408b-b54a-70e38d2d063b",
   "metadata": {},
   "outputs": [
    {
     "data": {
      "text/plain": [
       "CustomerDOB\n",
       "1800-01-01    56292\n",
       "Name: count, dtype: int64"
      ]
     },
     "execution_count": 34,
     "metadata": {},
     "output_type": "execute_result"
    }
   ],
   "source": [
    "df[df['CustomerAge'] > 100 ]['CustomerDOB'].value_counts()"
   ]
  },
  {
   "cell_type": "markdown",
   "id": "d0ffca07-be9b-4861-a455-160059cfc9a2",
   "metadata": {},
   "source": [
    "#### 🔧 Handling Large Volume of Age Anomalies\n",
    "\n",
    "A total of **56,292** customer records were identified with anomalous age values, above 100. Given the size of this group, I opted to **replace these invalid ages** with the average age of valid customers instead of dropping them.\n",
    "\n",
    "This approach preserves valuable transaction data while maintaining demographic consistency."
   ]
  },
  {
   "cell_type": "code",
   "execution_count": 36,
   "id": "b372db56-89c4-4a57-9123-2954408cd33c",
   "metadata": {},
   "outputs": [
    {
     "data": {
      "text/plain": [
       "31.02953653729441"
      ]
     },
     "execution_count": 36,
     "metadata": {},
     "output_type": "execute_result"
    }
   ],
   "source": [
    "avg_age = df.loc[df['CustomerAge'] <= 100]['CustomerAge'].mean()\n",
    "avg_age"
   ]
  },
  {
   "cell_type": "code",
   "execution_count": 37,
   "id": "b2144163-734b-4528-8649-beaf166ed56e",
   "metadata": {},
   "outputs": [],
   "source": [
    "df.loc[df['CustomerAge'] > 100, 'CustomerAge'] = avg_age"
   ]
  },
  {
   "cell_type": "markdown",
   "id": "1707bef0-1459-4b79-ad40-241d00c28589",
   "metadata": {},
   "source": [
    "#### 📊 Re-observing Customer Age Distribution"
   ]
  },
  {
   "cell_type": "code",
   "execution_count": 39,
   "id": "b4545141-d95b-4ff6-9364-6a55668fc715",
   "metadata": {},
   "outputs": [
    {
     "data": {
      "text/plain": [
       "Series([], Name: CustomerDOB, dtype: datetime64[ns])"
      ]
     },
     "execution_count": 39,
     "metadata": {},
     "output_type": "execute_result"
    }
   ],
   "source": [
    "df[df['CustomerAge'] > 100 ]['CustomerDOB']"
   ]
  },
  {
   "cell_type": "code",
   "execution_count": 40,
   "id": "ea461a3f-6214-4c18-98db-e8fe55b8d91f",
   "metadata": {},
   "outputs": [
    {
     "data": {
      "image/png": "[encoded data removed]",
      "text/plain": [
       "<Figure size 1500x300 with 1 Axes>"
      ]
     },
     "metadata": {},
     "output_type": "display_data"
    }
   ],
   "source": [
    "plt.figure(figsize=(15,3))\n",
    "sns.histplot(df['CustomerAge'], kde=False, bins=10, color='teal')\n",
    "plt.title('Customer Age Gistribution', weight='bold')\n",
    "plt.xlabel('Age Distribution', weight='bold')\n",
    "plt.ylabel('Frequency', weight='bold')\n",
    "plt.show()"
   ]
  },
  {
   "cell_type": "markdown",
   "id": "b6e47a03-9d01-4a95-aac9-ac3ec7381917",
   "metadata": {},
   "source": [
    "#"
   ]
  },
  {
   "cell_type": "markdown",
   "id": "21c221b4-9d9c-419d-8fe4-eefbf35413f0",
   "metadata": {},
   "source": [
    "### 🧼 Standardizing Gender Entries: Correcting the inconsistency noticed in the `Customer Gender` column\n",
    "\n",
    "Here, I addressed inconsistencies in the `CustomerGender` column by standardising values across the dataset. This involved correcting typos, harmonising variations (e.g., \"M\", \"Male\", \"male\" → \"Male\"), and ensuring uniform representation for accurate grouping and analysis.\n",
    "\n",
    "Consistent gender labels improve the reliability of demographic segmentation and support clearer visualisations and reporting."
   ]
  },
  {
   "cell_type": "code",
   "execution_count": 43,
   "id": "a115c2b7-6b30-4a74-98ef-928868b6322e",
   "metadata": {},
   "outputs": [],
   "source": [
    "def correctCustGender(x):\n",
    "    if x == 'M':\n",
    "        return x\n",
    "    elif x == 'F':\n",
    "        return x\n",
    "    else:\n",
    "        return 'M'"
   ]
  },
  {
   "cell_type": "code",
   "execution_count": 44,
   "id": "2af6d6f5-3fc0-4cd1-b9bb-d210efbdbd92",
   "metadata": {},
   "outputs": [],
   "source": [
    "df['CustGender'] = df['CustGender'].apply(correctCustGender)"
   ]
  },
  {
   "cell_type": "code",
   "execution_count": 45,
   "id": "1f59d181-f410-42b8-9877-cee13d889b9c",
   "metadata": {},
   "outputs": [
    {
     "name": "stdout",
     "output_type": "stream",
     "text": [
      "['F' 'M']\n"
     ]
    }
   ],
   "source": [
    "print(df['CustGender'].unique())"
   ]
  },
  {
   "cell_type": "code",
   "execution_count": 46,
   "id": "be0c55b6-06ab-47cd-83a9-d547d90fae1b",
   "metadata": {},
   "outputs": [
    {
     "data": {
      "text/html": [
       "<div>\n",
       "<style scoped>\n",
       "    .dataframe tbody tr th:only-of-type {\n",
       "        vertical-align: middle;\n",
       "    }\n",
       "\n",
       "    .dataframe tbody tr th {\n",
       "        vertical-align: top;\n",
       "    }\n",
       "\n",
       "    .dataframe thead th {\n",
       "        text-align: right;\n",
       "    }\n",
       "</style>\n",
       "<table border=\"1\" class=\"dataframe\">\n",
       "  <thead>\n",
       "    <tr style=\"text-align: right;\">\n",
       "      <th></th>\n",
       "      <th>TransactionID</th>\n",
       "      <th>CustomerID</th>\n",
       "      <th>CustomerDOB</th>\n",
       "      <th>CustGender</th>\n",
       "      <th>CustLocation</th>\n",
       "      <th>CustAccountBalance</th>\n",
       "      <th>TransactionDate</th>\n",
       "      <th>TransactionTime</th>\n",
       "      <th>TransactionAmount (INR)</th>\n",
       "      <th>CustomerAge</th>\n",
       "    </tr>\n",
       "  </thead>\n",
       "  <tbody>\n",
       "    <tr>\n",
       "      <th>0</th>\n",
       "      <td>T1</td>\n",
       "      <td>C5841053</td>\n",
       "      <td>1994-10-01</td>\n",
       "      <td>F</td>\n",
       "      <td>JAMSHEDPUR</td>\n",
       "      <td>17819.05</td>\n",
       "      <td>2016-02-08</td>\n",
       "      <td>143207</td>\n",
       "      <td>25.0</td>\n",
       "      <td>22.0</td>\n",
       "    </tr>\n",
       "    <tr>\n",
       "      <th>1</th>\n",
       "      <td>T2</td>\n",
       "      <td>C2142763</td>\n",
       "      <td>1957-04-04</td>\n",
       "      <td>M</td>\n",
       "      <td>JHAJJAR</td>\n",
       "      <td>2270.69</td>\n",
       "      <td>2016-02-08</td>\n",
       "      <td>141858</td>\n",
       "      <td>27999.0</td>\n",
       "      <td>59.0</td>\n",
       "    </tr>\n",
       "  </tbody>\n",
       "</table>\n",
       "</div>"
      ],
      "text/plain": [
       "  TransactionID CustomerID CustomerDOB CustGender CustLocation  \\\n",
       "0            T1   C5841053  1994-10-01          F   JAMSHEDPUR   \n",
       "1            T2   C2142763  1957-04-04          M      JHAJJAR   \n",
       "\n",
       "   CustAccountBalance TransactionDate  TransactionTime  \\\n",
       "0            17819.05      2016-02-08           143207   \n",
       "1             2270.69      2016-02-08           141858   \n",
       "\n",
       "   TransactionAmount (INR)  CustomerAge  \n",
       "0                     25.0         22.0  \n",
       "1                  27999.0         59.0  "
      ]
     },
     "execution_count": 46,
     "metadata": {},
     "output_type": "execute_result"
    }
   ],
   "source": [
    "df.head(2)"
   ]
  },
  {
   "cell_type": "markdown",
   "id": "0d0ef8b8-f53a-432a-ab61-ec04ea5201f1",
   "metadata": {},
   "source": [
    "### 🧾 Verifying Empty or Insignificant Transaction Values\n",
    "\n",
    "To maintain data integrity and analytical relevance, I examine the `TransactionAmount` column for entries that are: **`Empty or null`** and **`Zero-valued`** (if not meaningful in context) are dropped"
   ]
  },
  {
   "cell_type": "code",
   "execution_count": 48,
   "id": "f0061b3b-0f1f-4fc7-b7aa-5549578dcd22",
   "metadata": {},
   "outputs": [
    {
     "data": {
      "text/plain": [
       "308944          0.00\n",
       "746400          0.00\n",
       "746393          0.00\n",
       "684462          0.00\n",
       "746124          0.00\n",
       "             ...    \n",
       "56155      720001.16\n",
       "744124     724122.00\n",
       "528263     991132.22\n",
       "574916    1380002.88\n",
       "396280    1560034.99\n",
       "Name: TransactionAmount (INR), Length: 1041614, dtype: float64"
      ]
     },
     "execution_count": 48,
     "metadata": {},
     "output_type": "execute_result"
    }
   ],
   "source": [
    "df['TransactionAmount (INR)'].sort_values(ascending=True)"
   ]
  },
  {
   "cell_type": "code",
   "execution_count": 49,
   "id": "7c323501-7550-45c7-a5f9-7bb5e3921146",
   "metadata": {},
   "outputs": [
    {
     "data": {
      "text/plain": [
       "820"
      ]
     },
     "execution_count": 49,
     "metadata": {},
     "output_type": "execute_result"
    }
   ],
   "source": [
    "df[df['TransactionAmount (INR)'] == 0].value_counts().sum()"
   ]
  },
  {
   "cell_type": "code",
   "execution_count": 50,
   "id": "25e55874-2355-43a5-9a0b-c40c48c59985",
   "metadata": {},
   "outputs": [],
   "source": [
    "df.drop(df[df['TransactionAmount (INR)'] == 0].index, axis=0, inplace=True)  # dropping the records/rows with irrelevant transaction amount"
   ]
  },
  {
   "cell_type": "code",
   "execution_count": 51,
   "id": "323e3b8b-01e5-4bdf-95e7-ffb2beb085f9",
   "metadata": {},
   "outputs": [
    {
     "data": {
      "text/plain": [
       "0"
      ]
     },
     "execution_count": 51,
     "metadata": {},
     "output_type": "execute_result"
    }
   ],
   "source": [
    "df[df['TransactionAmount (INR)'] == 0].value_counts().sum()"
   ]
  },
  {
   "cell_type": "code",
   "execution_count": 52,
   "id": "44496dba-bdbd-4267-bbd6-fd8a273144a1",
   "metadata": {},
   "outputs": [
    {
     "data": {
      "text/plain": [
       "(1040794, 10)"
      ]
     },
     "execution_count": 52,
     "metadata": {},
     "output_type": "execute_result"
    }
   ],
   "source": [
    "df.shape"
   ]
  },
  {
   "cell_type": "code",
   "execution_count": 53,
   "id": "18e89cbe-34ca-41df-b16d-ae68f9bf3cd7",
   "metadata": {},
   "outputs": [
    {
     "data": {
      "text/html": [
       "<div>\n",
       "<style scoped>\n",
       "    .dataframe tbody tr th:only-of-type {\n",
       "        vertical-align: middle;\n",
       "    }\n",
       "\n",
       "    .dataframe tbody tr th {\n",
       "        vertical-align: top;\n",
       "    }\n",
       "\n",
       "    .dataframe thead th {\n",
       "        text-align: right;\n",
       "    }\n",
       "</style>\n",
       "<table border=\"1\" class=\"dataframe\">\n",
       "  <thead>\n",
       "    <tr style=\"text-align: right;\">\n",
       "      <th></th>\n",
       "      <th>TransactionID</th>\n",
       "      <th>CustomerID</th>\n",
       "      <th>CustomerDOB</th>\n",
       "      <th>CustGender</th>\n",
       "      <th>CustLocation</th>\n",
       "      <th>CustAccountBalance</th>\n",
       "      <th>TransactionDate</th>\n",
       "      <th>TransactionTime</th>\n",
       "      <th>TransactionAmount (INR)</th>\n",
       "      <th>CustomerAge</th>\n",
       "    </tr>\n",
       "  </thead>\n",
       "  <tbody>\n",
       "    <tr>\n",
       "      <th>0</th>\n",
       "      <td>T1</td>\n",
       "      <td>C5841053</td>\n",
       "      <td>1994-10-01</td>\n",
       "      <td>F</td>\n",
       "      <td>JAMSHEDPUR</td>\n",
       "      <td>17819.05</td>\n",
       "      <td>2016-02-08</td>\n",
       "      <td>143207</td>\n",
       "      <td>25.0</td>\n",
       "      <td>22.0</td>\n",
       "    </tr>\n",
       "    <tr>\n",
       "      <th>1</th>\n",
       "      <td>T2</td>\n",
       "      <td>C2142763</td>\n",
       "      <td>1957-04-04</td>\n",
       "      <td>M</td>\n",
       "      <td>JHAJJAR</td>\n",
       "      <td>2270.69</td>\n",
       "      <td>2016-02-08</td>\n",
       "      <td>141858</td>\n",
       "      <td>27999.0</td>\n",
       "      <td>59.0</td>\n",
       "    </tr>\n",
       "    <tr>\n",
       "      <th>2</th>\n",
       "      <td>T3</td>\n",
       "      <td>C4417068</td>\n",
       "      <td>1996-11-26</td>\n",
       "      <td>F</td>\n",
       "      <td>MUMBAI</td>\n",
       "      <td>17874.44</td>\n",
       "      <td>2016-02-08</td>\n",
       "      <td>142712</td>\n",
       "      <td>459.0</td>\n",
       "      <td>20.0</td>\n",
       "    </tr>\n",
       "    <tr>\n",
       "      <th>3</th>\n",
       "      <td>T4</td>\n",
       "      <td>C5342380</td>\n",
       "      <td>1973-09-14</td>\n",
       "      <td>F</td>\n",
       "      <td>MUMBAI</td>\n",
       "      <td>866503.21</td>\n",
       "      <td>2016-02-08</td>\n",
       "      <td>142714</td>\n",
       "      <td>2060.0</td>\n",
       "      <td>43.0</td>\n",
       "    </tr>\n",
       "    <tr>\n",
       "      <th>4</th>\n",
       "      <td>T5</td>\n",
       "      <td>C9031234</td>\n",
       "      <td>1988-03-24</td>\n",
       "      <td>F</td>\n",
       "      <td>NAVI MUMBAI</td>\n",
       "      <td>6714.43</td>\n",
       "      <td>2016-02-08</td>\n",
       "      <td>181156</td>\n",
       "      <td>1762.5</td>\n",
       "      <td>28.0</td>\n",
       "    </tr>\n",
       "  </tbody>\n",
       "</table>\n",
       "</div>"
      ],
      "text/plain": [
       "  TransactionID CustomerID CustomerDOB CustGender CustLocation  \\\n",
       "0            T1   C5841053  1994-10-01          F   JAMSHEDPUR   \n",
       "1            T2   C2142763  1957-04-04          M      JHAJJAR   \n",
       "2            T3   C4417068  1996-11-26          F       MUMBAI   \n",
       "3            T4   C5342380  1973-09-14          F       MUMBAI   \n",
       "4            T5   C9031234  1988-03-24          F  NAVI MUMBAI   \n",
       "\n",
       "   CustAccountBalance TransactionDate  TransactionTime  \\\n",
       "0            17819.05      2016-02-08           143207   \n",
       "1             2270.69      2016-02-08           141858   \n",
       "2            17874.44      2016-02-08           142712   \n",
       "3           866503.21      2016-02-08           142714   \n",
       "4             6714.43      2016-02-08           181156   \n",
       "\n",
       "   TransactionAmount (INR)  CustomerAge  \n",
       "0                     25.0         22.0  \n",
       "1                  27999.0         59.0  \n",
       "2                    459.0         20.0  \n",
       "3                   2060.0         43.0  \n",
       "4                   1762.5         28.0  "
      ]
     },
     "execution_count": 53,
     "metadata": {},
     "output_type": "execute_result"
    }
   ],
   "source": [
    "df.head()"
   ]
  },
  {
   "cell_type": "code",
   "execution_count": 54,
   "id": "15d55b6a-09de-41d2-9ef5-a479ddcb37d0",
   "metadata": {},
   "outputs": [],
   "source": [
    "df.to_csv(\"C:/Users/user/Desktop/retail banking/processed_data/processed_data_v1.2.csv\", index=False)"
   ]
  },
  {
   "cell_type": "markdown",
   "id": "756cac02-a78d-4950-9a9d-c3d9aa0abff4",
   "metadata": {},
   "source": [
    "#"
   ]
  },
  {
   "cell_type": "markdown",
   "id": "46480ae8-f5c8-40d9-a239-e5055d047a29",
   "metadata": {},
   "source": [
    "### 📊 Creating an RFM Table\n",
    "\n",
    "To perform RFM-based customer segmentation, I construct an RFM table that aggregates customer behaviour across three key dimensions:\n",
    "\n",
    "- **Recency**: Days since the customer's last transaction  \n",
    "- **Frequency**: Total number of transactions  \n",
    "- **Monetary**: Total amount spent\n",
    "\n",
    "This table serves as the foundation for scoring and clustering customers into actionable segments.\n"
   ]
  },
  {
   "cell_type": "code",
   "execution_count": 57,
   "id": "d1be7e02-6dc9-4abc-850d-bff02f85b6ab",
   "metadata": {},
   "outputs": [
    {
     "data": {
      "text/plain": [
       "Timestamp('2016-12-09 00:00:00')"
      ]
     },
     "execution_count": 57,
     "metadata": {},
     "output_type": "execute_result"
    }
   ],
   "source": [
    "last_transaction_day = df['TransactionDate'].max()\n",
    "last_transaction_day"
   ]
  },
  {
   "cell_type": "code",
   "execution_count": 58,
   "id": "27a5d61d-66a2-4dac-9480-ec6f5bb7b2c1",
   "metadata": {},
   "outputs": [],
   "source": [
    "rfm_table = df.groupby('CustomerID').agg({\n",
    "    'TransactionDate': lambda x: (last_transaction_day - x.max()).days+1,\n",
    "    'TransactionID': 'count',\n",
    "    'TransactionAmount (INR)': 'sum'\n",
    "})"
   ]
  },
  {
   "cell_type": "markdown",
   "id": "c42b04a7-5e87-45e4-80b6-fb60f3561e5b",
   "metadata": {},
   "source": [
    "### ✏️ Renaming Columns for RFM Analysis\n",
    "\n",
    "To align with the RFM framework, we rename key transaction columns as follows:\n",
    "\n",
    "- `'TransactionDate'` → **`Recency`**  \n",
    "- `'TransactionID'` → **`Frequency`**  \n",
    "- `'TransactionAmount (INR)'` → **`Monetary`**\n",
    "\n",
    "This standardization simplifies downstream analysis and improves clarity when applying RFM segmentation techniques."
   ]
  },
  {
   "cell_type": "code",
   "execution_count": 60,
   "id": "f6acbcd8-41fe-46cb-baf9-ba1711a3c638",
   "metadata": {},
   "outputs": [],
   "source": [
    "rfm_table.rename(columns = {\n",
    "    'TransactionDate': 'Recency',\n",
    "    'TransactionID': 'Frequency',\n",
    "    'TransactionAmount (INR)': 'Monetary'\n",
    "}, inplace=True)"
   ]
  },
  {
   "cell_type": "code",
   "execution_count": 61,
   "id": "7bde76a2-c55a-4db2-a82c-852a2207c90b",
   "metadata": {},
   "outputs": [
    {
     "data": {
      "text/html": [
       "<div>\n",
       "<style scoped>\n",
       "    .dataframe tbody tr th:only-of-type {\n",
       "        vertical-align: middle;\n",
       "    }\n",
       "\n",
       "    .dataframe tbody tr th {\n",
       "        vertical-align: top;\n",
       "    }\n",
       "\n",
       "    .dataframe thead th {\n",
       "        text-align: right;\n",
       "    }\n",
       "</style>\n",
       "<table border=\"1\" class=\"dataframe\">\n",
       "  <thead>\n",
       "    <tr style=\"text-align: right;\">\n",
       "      <th></th>\n",
       "      <th>Recency</th>\n",
       "      <th>Frequency</th>\n",
       "      <th>Monetary</th>\n",
       "    </tr>\n",
       "    <tr>\n",
       "      <th>CustomerID</th>\n",
       "      <th></th>\n",
       "      <th></th>\n",
       "      <th></th>\n",
       "    </tr>\n",
       "  </thead>\n",
       "  <tbody>\n",
       "    <tr>\n",
       "      <th>C1010011</th>\n",
       "      <td>75</td>\n",
       "      <td>2</td>\n",
       "      <td>5106.0</td>\n",
       "    </tr>\n",
       "    <tr>\n",
       "      <th>C1010012</th>\n",
       "      <td>118</td>\n",
       "      <td>1</td>\n",
       "      <td>1499.0</td>\n",
       "    </tr>\n",
       "    <tr>\n",
       "      <th>C1010014</th>\n",
       "      <td>155</td>\n",
       "      <td>2</td>\n",
       "      <td>1455.0</td>\n",
       "    </tr>\n",
       "    <tr>\n",
       "      <th>C1010018</th>\n",
       "      <td>86</td>\n",
       "      <td>1</td>\n",
       "      <td>30.0</td>\n",
       "    </tr>\n",
       "    <tr>\n",
       "      <th>C1010024</th>\n",
       "      <td>114</td>\n",
       "      <td>1</td>\n",
       "      <td>5000.0</td>\n",
       "    </tr>\n",
       "  </tbody>\n",
       "</table>\n",
       "</div>"
      ],
      "text/plain": [
       "            Recency  Frequency  Monetary\n",
       "CustomerID                              \n",
       "C1010011         75          2    5106.0\n",
       "C1010012        118          1    1499.0\n",
       "C1010014        155          2    1455.0\n",
       "C1010018         86          1      30.0\n",
       "C1010024        114          1    5000.0"
      ]
     },
     "execution_count": 61,
     "metadata": {},
     "output_type": "execute_result"
    }
   ],
   "source": [
    "rfm_table.head()"
   ]
  },
  {
   "cell_type": "code",
   "execution_count": 62,
   "id": "11848f73-0335-421e-949d-af893f91772b",
   "metadata": {},
   "outputs": [
    {
     "data": {
      "text/plain": [
       "6"
      ]
     },
     "execution_count": 62,
     "metadata": {},
     "output_type": "execute_result"
    }
   ],
   "source": [
    "rfm_table['Frequency'].nunique()"
   ]
  },
  {
   "cell_type": "markdown",
   "id": "0669048d-3f1c-4c74-92c1-e65bde7fe8b5",
   "metadata": {},
   "source": [
    "### 📊 Visualizing RFM Metrics\n",
    "\n",
    "To understand the distribution of customer behaviour, I plot histograms for each RFM component:"
   ]
  },
  {
   "cell_type": "code",
   "execution_count": 64,
   "id": "c1fff215-8533-4683-a375-7f66a4f52966",
   "metadata": {},
   "outputs": [
    {
     "data": {
      "image/png": "[encoded data removed]",
      "text/plain": [
       "<Figure size 2000x400 with 2 Axes>"
      ]
     },
     "metadata": {},
     "output_type": "display_data"
    }
   ],
   "source": [
    "plt.figure(figsize=(20,4))\n",
    "plt.subplot(1,2, 1)\n",
    "sns.histplot(rfm_table['Recency'], bins=10, color='Teal', edgecolor='black')\n",
    "plt.title(f'Histogram for: {'Recency'} Distribution', weight='bold')\n",
    "plt.xlabel('Recency values', weight='bold')\n",
    "plt.ylabel('Count', weight='bold')\n",
    "\n",
    "plt.subplot(1, 2, 2)\n",
    "sns.histplot(rfm_table['Frequency'], bins=10, color='Teal', edgecolor='black')\n",
    "plt.title(f'Histogram for: {'Frequency'} Distribution', weight='bold')\n",
    "plt.xlabel('Frequency values', weight='bold')\n",
    "plt.ylabel('Count', weight='bold')\n",
    "\n",
    "plt.tight_layout()\n",
    "plt.show();"
   ]
  },
  {
   "cell_type": "code",
   "execution_count": 65,
   "id": "d3a70b53-64ec-45cc-999c-d8aad339169c",
   "metadata": {},
   "outputs": [
    {
     "data": {
      "image/png": "[encoded data removed]",
      "text/plain": [
       "<Figure size 2000x400 with 1 Axes>"
      ]
     },
     "metadata": {},
     "output_type": "display_data"
    }
   ],
   "source": [
    "plt.figure(figsize=(20,4))\n",
    "sns.histplot(rfm_table['Monetary'], bins=np.logspace(0,2,20), color='Teal', edgecolor=\"Black\")\n",
    "plt.xscale('log')\n",
    "plt.yscale('log')\n",
    "plt.title(f'Histogram for: {'Frequency'} Distribution', weight='bold')\n",
    "plt.xlabel('Monetary value', weight='bold')\n",
    "plt.ylabel('Count', weight='bold')\n",
    "\n",
    "plt.show();"
   ]
  },
  {
   "cell_type": "markdown",
   "id": "264c4a97-ce12-4d09-a9ec-42498e67104d",
   "metadata": {},
   "source": [
    "### 🧮 Scoring RFM Metrics (1 to 5 Scale)\n",
    "\n",
    "To prepare for customer segmentation, I score each RFM metric on a scale from **1 (lowest)** to **5 (highest)**\n"
   ]
  },
  {
   "cell_type": "code",
   "execution_count": 67,
   "id": "b1352554-5d10-486a-859b-1070c46755a8",
   "metadata": {},
   "outputs": [],
   "source": [
    "rfm_table['R'] = pd.qcut(rfm_table['Recency'].rank(method='first'), q=5, labels= range(5,0,-1))\n",
    "rfm_table['F'] = pd.qcut(rfm_table['Frequency'].rank(method='first'), q=5, labels= range(1,6))\n",
    "rfm_table['M'] = pd.qcut(rfm_table['Monetary'].rank(method='first'), q=5, labels= range(1,6))"
   ]
  },
  {
   "cell_type": "code",
   "execution_count": 68,
   "id": "76d25163-4ab3-48cf-818c-57d4d8e8381d",
   "metadata": {},
   "outputs": [
    {
     "data": {
      "text/html": [
       "<div>\n",
       "<style scoped>\n",
       "    .dataframe tbody tr th:only-of-type {\n",
       "        vertical-align: middle;\n",
       "    }\n",
       "\n",
       "    .dataframe tbody tr th {\n",
       "        vertical-align: top;\n",
       "    }\n",
       "\n",
       "    .dataframe thead th {\n",
       "        text-align: right;\n",
       "    }\n",
       "</style>\n",
       "<table border=\"1\" class=\"dataframe\">\n",
       "  <thead>\n",
       "    <tr style=\"text-align: right;\">\n",
       "      <th></th>\n",
       "      <th>Recency</th>\n",
       "      <th>Frequency</th>\n",
       "      <th>Monetary</th>\n",
       "      <th>R</th>\n",
       "      <th>F</th>\n",
       "      <th>M</th>\n",
       "    </tr>\n",
       "    <tr>\n",
       "      <th>CustomerID</th>\n",
       "      <th></th>\n",
       "      <th></th>\n",
       "      <th></th>\n",
       "      <th></th>\n",
       "      <th></th>\n",
       "      <th></th>\n",
       "    </tr>\n",
       "  </thead>\n",
       "  <tbody>\n",
       "    <tr>\n",
       "      <th>C1010011</th>\n",
       "      <td>75</td>\n",
       "      <td>2</td>\n",
       "      <td>5106.0</td>\n",
       "      <td>5</td>\n",
       "      <td>5</td>\n",
       "      <td>5</td>\n",
       "    </tr>\n",
       "    <tr>\n",
       "      <th>C1010012</th>\n",
       "      <td>118</td>\n",
       "      <td>1</td>\n",
       "      <td>1499.0</td>\n",
       "      <td>2</td>\n",
       "      <td>1</td>\n",
       "      <td>4</td>\n",
       "    </tr>\n",
       "    <tr>\n",
       "      <th>C1010014</th>\n",
       "      <td>155</td>\n",
       "      <td>2</td>\n",
       "      <td>1455.0</td>\n",
       "      <td>2</td>\n",
       "      <td>5</td>\n",
       "      <td>4</td>\n",
       "    </tr>\n",
       "    <tr>\n",
       "      <th>C1010018</th>\n",
       "      <td>86</td>\n",
       "      <td>1</td>\n",
       "      <td>30.0</td>\n",
       "      <td>4</td>\n",
       "      <td>1</td>\n",
       "      <td>1</td>\n",
       "    </tr>\n",
       "    <tr>\n",
       "      <th>C1010024</th>\n",
       "      <td>114</td>\n",
       "      <td>1</td>\n",
       "      <td>5000.0</td>\n",
       "      <td>3</td>\n",
       "      <td>1</td>\n",
       "      <td>5</td>\n",
       "    </tr>\n",
       "  </tbody>\n",
       "</table>\n",
       "</div>"
      ],
      "text/plain": [
       "            Recency  Frequency  Monetary  R  F  M\n",
       "CustomerID                                       \n",
       "C1010011         75          2    5106.0  5  5  5\n",
       "C1010012        118          1    1499.0  2  1  4\n",
       "C1010014        155          2    1455.0  2  5  4\n",
       "C1010018         86          1      30.0  4  1  1\n",
       "C1010024        114          1    5000.0  3  1  5"
      ]
     },
     "execution_count": 68,
     "metadata": {},
     "output_type": "execute_result"
    }
   ],
   "source": [
    "rfm_table.head()"
   ]
  },
  {
   "cell_type": "code",
   "execution_count": 69,
   "id": "63a8601a-db6d-4883-9eec-f4590cb66844",
   "metadata": {},
   "outputs": [],
   "source": [
    "rfm_table['RFM_Group'] = rfm_table['R'].astype(str) + rfm_table['F'].astype(str) + rfm_table['M'].astype(str)"
   ]
  },
  {
   "cell_type": "code",
   "execution_count": 70,
   "id": "aa5f59a1-eb20-45ee-a751-531c472e139c",
   "metadata": {},
   "outputs": [
    {
     "data": {
      "text/html": [
       "<div>\n",
       "<style scoped>\n",
       "    .dataframe tbody tr th:only-of-type {\n",
       "        vertical-align: middle;\n",
       "    }\n",
       "\n",
       "    .dataframe tbody tr th {\n",
       "        vertical-align: top;\n",
       "    }\n",
       "\n",
       "    .dataframe thead th {\n",
       "        text-align: right;\n",
       "    }\n",
       "</style>\n",
       "<table border=\"1\" class=\"dataframe\">\n",
       "  <thead>\n",
       "    <tr style=\"text-align: right;\">\n",
       "      <th></th>\n",
       "      <th>Recency</th>\n",
       "      <th>Frequency</th>\n",
       "      <th>Monetary</th>\n",
       "      <th>R</th>\n",
       "      <th>F</th>\n",
       "      <th>M</th>\n",
       "      <th>RFM_Group</th>\n",
       "    </tr>\n",
       "    <tr>\n",
       "      <th>CustomerID</th>\n",
       "      <th></th>\n",
       "      <th></th>\n",
       "      <th></th>\n",
       "      <th></th>\n",
       "      <th></th>\n",
       "      <th></th>\n",
       "      <th></th>\n",
       "    </tr>\n",
       "  </thead>\n",
       "  <tbody>\n",
       "    <tr>\n",
       "      <th>C1010011</th>\n",
       "      <td>75</td>\n",
       "      <td>2</td>\n",
       "      <td>5106.0</td>\n",
       "      <td>5</td>\n",
       "      <td>5</td>\n",
       "      <td>5</td>\n",
       "      <td>555</td>\n",
       "    </tr>\n",
       "    <tr>\n",
       "      <th>C1010012</th>\n",
       "      <td>118</td>\n",
       "      <td>1</td>\n",
       "      <td>1499.0</td>\n",
       "      <td>2</td>\n",
       "      <td>1</td>\n",
       "      <td>4</td>\n",
       "      <td>214</td>\n",
       "    </tr>\n",
       "    <tr>\n",
       "      <th>C1010014</th>\n",
       "      <td>155</td>\n",
       "      <td>2</td>\n",
       "      <td>1455.0</td>\n",
       "      <td>2</td>\n",
       "      <td>5</td>\n",
       "      <td>4</td>\n",
       "      <td>254</td>\n",
       "    </tr>\n",
       "  </tbody>\n",
       "</table>\n",
       "</div>"
      ],
      "text/plain": [
       "            Recency  Frequency  Monetary  R  F  M RFM_Group\n",
       "CustomerID                                                 \n",
       "C1010011         75          2    5106.0  5  5  5       555\n",
       "C1010012        118          1    1499.0  2  1  4       214\n",
       "C1010014        155          2    1455.0  2  5  4       254"
      ]
     },
     "execution_count": 70,
     "metadata": {},
     "output_type": "execute_result"
    }
   ],
   "source": [
    "rfm_table.head(3)"
   ]
  },
  {
   "cell_type": "code",
   "execution_count": 71,
   "id": "4422ef28-1e86-44ad-8bf6-58418b1184dc",
   "metadata": {},
   "outputs": [],
   "source": [
    "rfm_table['RFM_Score'] = rfm_table[['R', 'F', 'M']].sum(axis=1)"
   ]
  },
  {
   "cell_type": "code",
   "execution_count": 72,
   "id": "f9cf3078-927a-4b33-bd44-510c4e0f883e",
   "metadata": {},
   "outputs": [
    {
     "data": {
      "text/html": [
       "<div>\n",
       "<style scoped>\n",
       "    .dataframe tbody tr th:only-of-type {\n",
       "        vertical-align: middle;\n",
       "    }\n",
       "\n",
       "    .dataframe tbody tr th {\n",
       "        vertical-align: top;\n",
       "    }\n",
       "\n",
       "    .dataframe thead th {\n",
       "        text-align: right;\n",
       "    }\n",
       "</style>\n",
       "<table border=\"1\" class=\"dataframe\">\n",
       "  <thead>\n",
       "    <tr style=\"text-align: right;\">\n",
       "      <th></th>\n",
       "      <th>Recency</th>\n",
       "      <th>Frequency</th>\n",
       "      <th>Monetary</th>\n",
       "      <th>R</th>\n",
       "      <th>F</th>\n",
       "      <th>M</th>\n",
       "      <th>RFM_Group</th>\n",
       "      <th>RFM_Score</th>\n",
       "    </tr>\n",
       "    <tr>\n",
       "      <th>CustomerID</th>\n",
       "      <th></th>\n",
       "      <th></th>\n",
       "      <th></th>\n",
       "      <th></th>\n",
       "      <th></th>\n",
       "      <th></th>\n",
       "      <th></th>\n",
       "      <th></th>\n",
       "    </tr>\n",
       "  </thead>\n",
       "  <tbody>\n",
       "    <tr>\n",
       "      <th>C1010011</th>\n",
       "      <td>75</td>\n",
       "      <td>2</td>\n",
       "      <td>5106.0</td>\n",
       "      <td>5</td>\n",
       "      <td>5</td>\n",
       "      <td>5</td>\n",
       "      <td>555</td>\n",
       "      <td>15</td>\n",
       "    </tr>\n",
       "    <tr>\n",
       "      <th>C1010012</th>\n",
       "      <td>118</td>\n",
       "      <td>1</td>\n",
       "      <td>1499.0</td>\n",
       "      <td>2</td>\n",
       "      <td>1</td>\n",
       "      <td>4</td>\n",
       "      <td>214</td>\n",
       "      <td>7</td>\n",
       "    </tr>\n",
       "    <tr>\n",
       "      <th>C1010014</th>\n",
       "      <td>155</td>\n",
       "      <td>2</td>\n",
       "      <td>1455.0</td>\n",
       "      <td>2</td>\n",
       "      <td>5</td>\n",
       "      <td>4</td>\n",
       "      <td>254</td>\n",
       "      <td>11</td>\n",
       "    </tr>\n",
       "  </tbody>\n",
       "</table>\n",
       "</div>"
      ],
      "text/plain": [
       "            Recency  Frequency  Monetary  R  F  M RFM_Group  RFM_Score\n",
       "CustomerID                                                            \n",
       "C1010011         75          2    5106.0  5  5  5       555         15\n",
       "C1010012        118          1    1499.0  2  1  4       214          7\n",
       "C1010014        155          2    1455.0  2  5  4       254         11"
      ]
     },
     "execution_count": 72,
     "metadata": {},
     "output_type": "execute_result"
    }
   ],
   "source": [
    "rfm_table.head(3)"
   ]
  },
  {
   "cell_type": "markdown",
   "id": "e0066754-364c-41e8-9dab-c6250b56ca00",
   "metadata": {},
   "source": [
    "#"
   ]
  },
  {
   "cell_type": "markdown",
   "id": "a29650ea-2567-421b-8702-d68a9f198980",
   "metadata": {},
   "source": [
    "## 🧩 Classifying Customers into 7 Segments\n",
    "\n",
    "Using the combined RFM scores, I will be classifying customers into **7 distinct segments** based on behavioural thresholds. This segmentation helps tailor marketing strategies and prioritise customer engagement.\n",
    "\n",
    "### Example Segments:\n",
    "- **Champions**: High R, F, and M scores  \n",
    "- **Loyal Customers**: High F and M, moderate R  \n",
    "- **Potential Loyalists**: High F or M, recent activity  \n",
    "- **New Customers**: High R, low F and M  \n",
    "- **Customers Needing Attention**: Low R, moderate F and M  \n",
    "- **At Risk**: High M, low R and F  \n",
    "- **Lost**: Low across all scores\n"
   ]
  },
  {
   "cell_type": "code",
   "execution_count": 75,
   "id": "8646220e-b9f1-45f6-ab3b-37124685d29f",
   "metadata": {},
   "outputs": [
    {
     "data": {
      "text/plain": [
       "3"
      ]
     },
     "execution_count": 75,
     "metadata": {},
     "output_type": "execute_result"
    }
   ],
   "source": [
    "rfm_table['RFM_Score'].min()"
   ]
  },
  {
   "cell_type": "code",
   "execution_count": 76,
   "id": "b4c2ba4b-b596-4bef-a209-ae5e271acfd8",
   "metadata": {},
   "outputs": [
    {
     "data": {
      "text/plain": [
       "15"
      ]
     },
     "execution_count": 76,
     "metadata": {},
     "output_type": "execute_result"
    }
   ],
   "source": [
    "rfm_table['RFM_Score'].max()"
   ]
  },
  {
   "cell_type": "code",
   "execution_count": 77,
   "id": "8ddce49d-300a-4dc3-904c-c7b795201292",
   "metadata": {},
   "outputs": [],
   "source": [
    "def segment_customers(RFM_Score):\n",
    "    if RFM_Score >= 13:\n",
    "        return 'Champions'\n",
    "    elif RFM_Score >= 10:\n",
    "        return 'Loyal Customers'\n",
    "    elif RFM_Score >= 8:\n",
    "        return 'Potential Loyalists'\n",
    "    elif RFM_Score >= 6:\n",
    "        return 'New Customers'\n",
    "    elif RFM_Score == 5:\n",
    "        return 'Customers Needing Attention'\n",
    "    elif RFM_Score >= 3:\n",
    "        return 'At Risk'\n",
    "    else:\n",
    "        return 'Lost'"
   ]
  },
  {
   "cell_type": "code",
   "execution_count": 78,
   "id": "2e00abd9-6b19-4f55-add5-92ea734b8606",
   "metadata": {},
   "outputs": [],
   "source": [
    "rfm_table['RFM_Segment'] = rfm_table['RFM_Score'].apply(segment_customers)"
   ]
  },
  {
   "cell_type": "code",
   "execution_count": 79,
   "id": "8a57fe69-8e5d-4bc1-90bc-48beeb6cb960",
   "metadata": {},
   "outputs": [
    {
     "data": {
      "text/html": [
       "<div>\n",
       "<style scoped>\n",
       "    .dataframe tbody tr th:only-of-type {\n",
       "        vertical-align: middle;\n",
       "    }\n",
       "\n",
       "    .dataframe tbody tr th {\n",
       "        vertical-align: top;\n",
       "    }\n",
       "\n",
       "    .dataframe thead th {\n",
       "        text-align: right;\n",
       "    }\n",
       "</style>\n",
       "<table border=\"1\" class=\"dataframe\">\n",
       "  <thead>\n",
       "    <tr style=\"text-align: right;\">\n",
       "      <th></th>\n",
       "      <th>Recency</th>\n",
       "      <th>Frequency</th>\n",
       "      <th>Monetary</th>\n",
       "      <th>R</th>\n",
       "      <th>F</th>\n",
       "      <th>M</th>\n",
       "      <th>RFM_Group</th>\n",
       "      <th>RFM_Score</th>\n",
       "      <th>RFM_Segment</th>\n",
       "    </tr>\n",
       "    <tr>\n",
       "      <th>CustomerID</th>\n",
       "      <th></th>\n",
       "      <th></th>\n",
       "      <th></th>\n",
       "      <th></th>\n",
       "      <th></th>\n",
       "      <th></th>\n",
       "      <th></th>\n",
       "      <th></th>\n",
       "      <th></th>\n",
       "    </tr>\n",
       "  </thead>\n",
       "  <tbody>\n",
       "    <tr>\n",
       "      <th>C1010011</th>\n",
       "      <td>75</td>\n",
       "      <td>2</td>\n",
       "      <td>5106.0</td>\n",
       "      <td>5</td>\n",
       "      <td>5</td>\n",
       "      <td>5</td>\n",
       "      <td>555</td>\n",
       "      <td>15</td>\n",
       "      <td>Champions</td>\n",
       "    </tr>\n",
       "    <tr>\n",
       "      <th>C1010012</th>\n",
       "      <td>118</td>\n",
       "      <td>1</td>\n",
       "      <td>1499.0</td>\n",
       "      <td>2</td>\n",
       "      <td>1</td>\n",
       "      <td>4</td>\n",
       "      <td>214</td>\n",
       "      <td>7</td>\n",
       "      <td>New Customers</td>\n",
       "    </tr>\n",
       "    <tr>\n",
       "      <th>C1010014</th>\n",
       "      <td>155</td>\n",
       "      <td>2</td>\n",
       "      <td>1455.0</td>\n",
       "      <td>2</td>\n",
       "      <td>5</td>\n",
       "      <td>4</td>\n",
       "      <td>254</td>\n",
       "      <td>11</td>\n",
       "      <td>Loyal Customers</td>\n",
       "    </tr>\n",
       "    <tr>\n",
       "      <th>C1010018</th>\n",
       "      <td>86</td>\n",
       "      <td>1</td>\n",
       "      <td>30.0</td>\n",
       "      <td>4</td>\n",
       "      <td>1</td>\n",
       "      <td>1</td>\n",
       "      <td>411</td>\n",
       "      <td>6</td>\n",
       "      <td>New Customers</td>\n",
       "    </tr>\n",
       "    <tr>\n",
       "      <th>C1010024</th>\n",
       "      <td>114</td>\n",
       "      <td>1</td>\n",
       "      <td>5000.0</td>\n",
       "      <td>3</td>\n",
       "      <td>1</td>\n",
       "      <td>5</td>\n",
       "      <td>315</td>\n",
       "      <td>9</td>\n",
       "      <td>Potential Loyalists</td>\n",
       "    </tr>\n",
       "  </tbody>\n",
       "</table>\n",
       "</div>"
      ],
      "text/plain": [
       "            Recency  Frequency  Monetary  R  F  M RFM_Group  RFM_Score  \\\n",
       "CustomerID                                                               \n",
       "C1010011         75          2    5106.0  5  5  5       555         15   \n",
       "C1010012        118          1    1499.0  2  1  4       214          7   \n",
       "C1010014        155          2    1455.0  2  5  4       254         11   \n",
       "C1010018         86          1      30.0  4  1  1       411          6   \n",
       "C1010024        114          1    5000.0  3  1  5       315          9   \n",
       "\n",
       "                    RFM_Segment  \n",
       "CustomerID                       \n",
       "C1010011              Champions  \n",
       "C1010012          New Customers  \n",
       "C1010014        Loyal Customers  \n",
       "C1010018          New Customers  \n",
       "C1010024    Potential Loyalists  "
      ]
     },
     "execution_count": 79,
     "metadata": {},
     "output_type": "execute_result"
    }
   ],
   "source": [
    "rfm_table.head()"
   ]
  },
  {
   "cell_type": "markdown",
   "id": "0e9b7024-0f44-45e5-ba70-f8a26a43b77c",
   "metadata": {},
   "source": [
    "### 📈 Viewing the RFM Score Distribution\n",
    "\n",
    "To understand how customer value is distributed across the dataset, I will be plotting the **RFM_Score** distribution."
   ]
  },
  {
   "cell_type": "code",
   "execution_count": 81,
   "id": "000ae0fc-aebc-458f-8127-0043a944a250",
   "metadata": {},
   "outputs": [
    {
     "data": {
      "image/png": "[encoded data removed]",
      "text/plain": [
       "<Figure size 2000x400 with 1 Axes>"
      ]
     },
     "metadata": {},
     "output_type": "display_data"
    }
   ],
   "source": [
    "plt.figure(figsize=(20,4))\n",
    "sns.countplot(x=rfm_table['RFM_Score'], palette='Paired')\n",
    "plt.title('RFM Score Distributions', weight='bold')\n",
    "plt.xlabel('RFM Score', weight='bold')\n",
    "plt.ylabel('Frequency', weight='bold')\n",
    "plt.show();"
   ]
  },
  {
   "cell_type": "markdown",
   "id": "016a1168-b940-4454-b01c-93ec90718bcb",
   "metadata": {},
   "source": [
    "#"
   ]
  },
  {
   "cell_type": "markdown",
   "id": "3f451419-0f83-4b1f-9a78-c529cb4e6912",
   "metadata": {},
   "source": [
    "### ⚖️ Calculating Weighted RFM Score\n",
    "To prioritise customer value more accurately, I will be computing a **weighted RFM score** by assigning different importance levels to each metric:\n",
    "- **Recency (R)**: Weight = 0.15  \n",
    "- **Frequency (F)**: Weight = 0.28  \n",
    "- **Monetary (M)**: Weight = 0.57  \n",
    "These weights will reflect the relative impact of each metric on customer profitability and engagement, and the final score will help rank customers for targeted marketing and retention strategies.\n"
   ]
  },
  {
   "cell_type": "code",
   "execution_count": 84,
   "id": "63248328-d219-460e-8c0c-c109e246bac1",
   "metadata": {},
   "outputs": [],
   "source": [
    "rfm_table['R'] = rfm_table['R'].astype(int)\n",
    "rfm_table['F'] = rfm_table['F'].astype(int)\n",
    "rfm_table['M'] = rfm_table['M'].astype(int)\n",
    "rfm_table['Weighted_Score'] = (rfm_table['R'] * 0.15) + (rfm_table['F'] * 0.28) + (rfm_table['M'] * 0.57).round(2)"
   ]
  },
  {
   "cell_type": "code",
   "execution_count": 85,
   "id": "08ec82e8-86c1-4c48-93d3-e98bfe9e04ce",
   "metadata": {},
   "outputs": [
    {
     "data": {
      "text/html": [
       "<div>\n",
       "<style scoped>\n",
       "    .dataframe tbody tr th:only-of-type {\n",
       "        vertical-align: middle;\n",
       "    }\n",
       "\n",
       "    .dataframe tbody tr th {\n",
       "        vertical-align: top;\n",
       "    }\n",
       "\n",
       "    .dataframe thead th {\n",
       "        text-align: right;\n",
       "    }\n",
       "</style>\n",
       "<table border=\"1\" class=\"dataframe\">\n",
       "  <thead>\n",
       "    <tr style=\"text-align: right;\">\n",
       "      <th></th>\n",
       "      <th>Recency</th>\n",
       "      <th>Frequency</th>\n",
       "      <th>Monetary</th>\n",
       "      <th>R</th>\n",
       "      <th>F</th>\n",
       "      <th>M</th>\n",
       "      <th>RFM_Group</th>\n",
       "      <th>RFM_Score</th>\n",
       "      <th>RFM_Segment</th>\n",
       "      <th>Weighted_Score</th>\n",
       "    </tr>\n",
       "    <tr>\n",
       "      <th>CustomerID</th>\n",
       "      <th></th>\n",
       "      <th></th>\n",
       "      <th></th>\n",
       "      <th></th>\n",
       "      <th></th>\n",
       "      <th></th>\n",
       "      <th></th>\n",
       "      <th></th>\n",
       "      <th></th>\n",
       "      <th></th>\n",
       "    </tr>\n",
       "  </thead>\n",
       "  <tbody>\n",
       "    <tr>\n",
       "      <th>C1010011</th>\n",
       "      <td>75</td>\n",
       "      <td>2</td>\n",
       "      <td>5106.0</td>\n",
       "      <td>5</td>\n",
       "      <td>5</td>\n",
       "      <td>5</td>\n",
       "      <td>555</td>\n",
       "      <td>15</td>\n",
       "      <td>Champions</td>\n",
       "      <td>5.00</td>\n",
       "    </tr>\n",
       "    <tr>\n",
       "      <th>C1010012</th>\n",
       "      <td>118</td>\n",
       "      <td>1</td>\n",
       "      <td>1499.0</td>\n",
       "      <td>2</td>\n",
       "      <td>1</td>\n",
       "      <td>4</td>\n",
       "      <td>214</td>\n",
       "      <td>7</td>\n",
       "      <td>New Customers</td>\n",
       "      <td>2.86</td>\n",
       "    </tr>\n",
       "    <tr>\n",
       "      <th>C1010014</th>\n",
       "      <td>155</td>\n",
       "      <td>2</td>\n",
       "      <td>1455.0</td>\n",
       "      <td>2</td>\n",
       "      <td>5</td>\n",
       "      <td>4</td>\n",
       "      <td>254</td>\n",
       "      <td>11</td>\n",
       "      <td>Loyal Customers</td>\n",
       "      <td>3.98</td>\n",
       "    </tr>\n",
       "    <tr>\n",
       "      <th>C1010018</th>\n",
       "      <td>86</td>\n",
       "      <td>1</td>\n",
       "      <td>30.0</td>\n",
       "      <td>4</td>\n",
       "      <td>1</td>\n",
       "      <td>1</td>\n",
       "      <td>411</td>\n",
       "      <td>6</td>\n",
       "      <td>New Customers</td>\n",
       "      <td>1.45</td>\n",
       "    </tr>\n",
       "    <tr>\n",
       "      <th>C1010024</th>\n",
       "      <td>114</td>\n",
       "      <td>1</td>\n",
       "      <td>5000.0</td>\n",
       "      <td>3</td>\n",
       "      <td>1</td>\n",
       "      <td>5</td>\n",
       "      <td>315</td>\n",
       "      <td>9</td>\n",
       "      <td>Potential Loyalists</td>\n",
       "      <td>3.58</td>\n",
       "    </tr>\n",
       "  </tbody>\n",
       "</table>\n",
       "</div>"
      ],
      "text/plain": [
       "            Recency  Frequency  Monetary  R  F  M RFM_Group  RFM_Score  \\\n",
       "CustomerID                                                               \n",
       "C1010011         75          2    5106.0  5  5  5       555         15   \n",
       "C1010012        118          1    1499.0  2  1  4       214          7   \n",
       "C1010014        155          2    1455.0  2  5  4       254         11   \n",
       "C1010018         86          1      30.0  4  1  1       411          6   \n",
       "C1010024        114          1    5000.0  3  1  5       315          9   \n",
       "\n",
       "                    RFM_Segment  Weighted_Score  \n",
       "CustomerID                                       \n",
       "C1010011              Champions            5.00  \n",
       "C1010012          New Customers            2.86  \n",
       "C1010014        Loyal Customers            3.98  \n",
       "C1010018          New Customers            1.45  \n",
       "C1010024    Potential Loyalists            3.58  "
      ]
     },
     "execution_count": 85,
     "metadata": {},
     "output_type": "execute_result"
    }
   ],
   "source": [
    "rfm_table.head()"
   ]
  },
  {
   "cell_type": "code",
   "execution_count": 86,
   "id": "2dbf3a50-ed54-4a36-a27e-cefc8fb84ceb",
   "metadata": {},
   "outputs": [
    {
     "data": {
      "text/plain": [
       "5.0"
      ]
     },
     "execution_count": 86,
     "metadata": {},
     "output_type": "execute_result"
    }
   ],
   "source": [
    "rfm_table['Weighted_Score'].max()"
   ]
  },
  {
   "cell_type": "code",
   "execution_count": 87,
   "id": "40a8a010-fe29-432d-8690-c33a307f6f99",
   "metadata": {},
   "outputs": [
    {
     "data": {
      "text/plain": [
       "1.0"
      ]
     },
     "execution_count": 87,
     "metadata": {},
     "output_type": "execute_result"
    }
   ],
   "source": [
    "rfm_table['Weighted_Score'].min()"
   ]
  },
  {
   "cell_type": "markdown",
   "id": "8ec75f85-0509-442d-aee5-a4c109920bfc",
   "metadata": {},
   "source": [
    "#### Here, I write a function to segment the Weighted Score"
   ]
  },
  {
   "cell_type": "code",
   "execution_count": 89,
   "id": "64694c69-4e5b-47dc-a53f-c4abd4f35b03",
   "metadata": {},
   "outputs": [],
   "source": [
    "# Here, I write a function to segment the Weighted Score\n",
    "def weight_segment(Weighted_Score):\n",
    "    if Weighted_Score > 4:\n",
    "        return 'Extremely High'\n",
    "    elif Weighted_Score >= 3:\n",
    "        return 'High'\n",
    "    elif Weighted_Score > 2:\n",
    "        return 'Medium'\n",
    "    else:\n",
    "        return 'Low'"
   ]
  },
  {
   "cell_type": "code",
   "execution_count": 90,
   "id": "117f27a0-5af4-4618-a829-ac8b1d00cca7",
   "metadata": {},
   "outputs": [],
   "source": [
    "rfm_table['Weighted_Segment'] = rfm_table['Weighted_Score'].apply(weight_segment)"
   ]
  },
  {
   "cell_type": "code",
   "execution_count": 91,
   "id": "104543c6-632a-404a-a265-41e8138ca0b3",
   "metadata": {},
   "outputs": [
    {
     "data": {
      "text/html": [
       "<div>\n",
       "<style scoped>\n",
       "    .dataframe tbody tr th:only-of-type {\n",
       "        vertical-align: middle;\n",
       "    }\n",
       "\n",
       "    .dataframe tbody tr th {\n",
       "        vertical-align: top;\n",
       "    }\n",
       "\n",
       "    .dataframe thead th {\n",
       "        text-align: right;\n",
       "    }\n",
       "</style>\n",
       "<table border=\"1\" class=\"dataframe\">\n",
       "  <thead>\n",
       "    <tr style=\"text-align: right;\">\n",
       "      <th></th>\n",
       "      <th>Recency</th>\n",
       "      <th>Frequency</th>\n",
       "      <th>Monetary</th>\n",
       "      <th>R</th>\n",
       "      <th>F</th>\n",
       "      <th>M</th>\n",
       "      <th>RFM_Group</th>\n",
       "      <th>RFM_Score</th>\n",
       "      <th>RFM_Segment</th>\n",
       "      <th>Weighted_Score</th>\n",
       "      <th>Weighted_Segment</th>\n",
       "    </tr>\n",
       "    <tr>\n",
       "      <th>CustomerID</th>\n",
       "      <th></th>\n",
       "      <th></th>\n",
       "      <th></th>\n",
       "      <th></th>\n",
       "      <th></th>\n",
       "      <th></th>\n",
       "      <th></th>\n",
       "      <th></th>\n",
       "      <th></th>\n",
       "      <th></th>\n",
       "      <th></th>\n",
       "    </tr>\n",
       "  </thead>\n",
       "  <tbody>\n",
       "    <tr>\n",
       "      <th>C1010011</th>\n",
       "      <td>75</td>\n",
       "      <td>2</td>\n",
       "      <td>5106.0</td>\n",
       "      <td>5</td>\n",
       "      <td>5</td>\n",
       "      <td>5</td>\n",
       "      <td>555</td>\n",
       "      <td>15</td>\n",
       "      <td>Champions</td>\n",
       "      <td>5.00</td>\n",
       "      <td>Extremely High</td>\n",
       "    </tr>\n",
       "    <tr>\n",
       "      <th>C1010012</th>\n",
       "      <td>118</td>\n",
       "      <td>1</td>\n",
       "      <td>1499.0</td>\n",
       "      <td>2</td>\n",
       "      <td>1</td>\n",
       "      <td>4</td>\n",
       "      <td>214</td>\n",
       "      <td>7</td>\n",
       "      <td>New Customers</td>\n",
       "      <td>2.86</td>\n",
       "      <td>Medium</td>\n",
       "    </tr>\n",
       "    <tr>\n",
       "      <th>C1010014</th>\n",
       "      <td>155</td>\n",
       "      <td>2</td>\n",
       "      <td>1455.0</td>\n",
       "      <td>2</td>\n",
       "      <td>5</td>\n",
       "      <td>4</td>\n",
       "      <td>254</td>\n",
       "      <td>11</td>\n",
       "      <td>Loyal Customers</td>\n",
       "      <td>3.98</td>\n",
       "      <td>High</td>\n",
       "    </tr>\n",
       "    <tr>\n",
       "      <th>C1010018</th>\n",
       "      <td>86</td>\n",
       "      <td>1</td>\n",
       "      <td>30.0</td>\n",
       "      <td>4</td>\n",
       "      <td>1</td>\n",
       "      <td>1</td>\n",
       "      <td>411</td>\n",
       "      <td>6</td>\n",
       "      <td>New Customers</td>\n",
       "      <td>1.45</td>\n",
       "      <td>Low</td>\n",
       "    </tr>\n",
       "    <tr>\n",
       "      <th>C1010024</th>\n",
       "      <td>114</td>\n",
       "      <td>1</td>\n",
       "      <td>5000.0</td>\n",
       "      <td>3</td>\n",
       "      <td>1</td>\n",
       "      <td>5</td>\n",
       "      <td>315</td>\n",
       "      <td>9</td>\n",
       "      <td>Potential Loyalists</td>\n",
       "      <td>3.58</td>\n",
       "      <td>High</td>\n",
       "    </tr>\n",
       "  </tbody>\n",
       "</table>\n",
       "</div>"
      ],
      "text/plain": [
       "            Recency  Frequency  Monetary  R  F  M RFM_Group  RFM_Score  \\\n",
       "CustomerID                                                               \n",
       "C1010011         75          2    5106.0  5  5  5       555         15   \n",
       "C1010012        118          1    1499.0  2  1  4       214          7   \n",
       "C1010014        155          2    1455.0  2  5  4       254         11   \n",
       "C1010018         86          1      30.0  4  1  1       411          6   \n",
       "C1010024        114          1    5000.0  3  1  5       315          9   \n",
       "\n",
       "                    RFM_Segment  Weighted_Score Weighted_Segment  \n",
       "CustomerID                                                        \n",
       "C1010011              Champions            5.00   Extremely High  \n",
       "C1010012          New Customers            2.86           Medium  \n",
       "C1010014        Loyal Customers            3.98             High  \n",
       "C1010018          New Customers            1.45              Low  \n",
       "C1010024    Potential Loyalists            3.58             High  "
      ]
     },
     "execution_count": 91,
     "metadata": {},
     "output_type": "execute_result"
    }
   ],
   "source": [
    "rfm_table.head()"
   ]
  },
  {
   "cell_type": "code",
   "execution_count": 92,
   "id": "7db98ead-5999-48fe-a2ef-d242dc2132a6",
   "metadata": {},
   "outputs": [
    {
     "data": {
      "image/png": "[encoded data removed]",
      "text/plain": [
       "<Figure size 2000x400 with 1 Axes>"
      ]
     },
     "metadata": {},
     "output_type": "display_data"
    }
   ],
   "source": [
    "# Here is the visualisation of the Weighted Segment\n",
    "plt.figure(figsize=(20,4))\n",
    "sns.countplot(x=rfm_table['Weighted_Segment'], palette='cubehelix', width=0.5)\n",
    "plt.title('Weighted Segment Distribution', weight='bold')\n",
    "plt.xlabel('Weighted Segment', weight='bold')\n",
    "plt.ylabel('Frequency', weight='bold')\n",
    "plt.show();"
   ]
  },
  {
   "cell_type": "code",
   "execution_count": 93,
   "id": "414ad5bf-1587-4310-b105-1162abd4e702",
   "metadata": {},
   "outputs": [],
   "source": [
    "df.to_csv(\"C:/Users/user/Desktop/retail banking/rfm_data/rfm_data_v1.0.csv\", index=False)"
   ]
  },
  {
   "cell_type": "code",
   "execution_count": 94,
   "id": "f93b8257-43ee-4a61-8431-0c7c58c27434",
   "metadata": {},
   "outputs": [
    {
     "data": {
      "text/html": [
       "<div>\n",
       "<style scoped>\n",
       "    .dataframe tbody tr th:only-of-type {\n",
       "        vertical-align: middle;\n",
       "    }\n",
       "\n",
       "    .dataframe tbody tr th {\n",
       "        vertical-align: top;\n",
       "    }\n",
       "\n",
       "    .dataframe thead th {\n",
       "        text-align: right;\n",
       "    }\n",
       "</style>\n",
       "<table border=\"1\" class=\"dataframe\">\n",
       "  <thead>\n",
       "    <tr style=\"text-align: right;\">\n",
       "      <th></th>\n",
       "      <th>RFM_Segment</th>\n",
       "      <th>count</th>\n",
       "    </tr>\n",
       "  </thead>\n",
       "  <tbody>\n",
       "    <tr>\n",
       "      <th>0</th>\n",
       "      <td>Loyal Customers</td>\n",
       "      <td>254268</td>\n",
       "    </tr>\n",
       "    <tr>\n",
       "      <th>1</th>\n",
       "      <td>Potential Loyalists</td>\n",
       "      <td>240857</td>\n",
       "    </tr>\n",
       "    <tr>\n",
       "      <th>2</th>\n",
       "      <td>New Customers</td>\n",
       "      <td>192985</td>\n",
       "    </tr>\n",
       "    <tr>\n",
       "      <th>3</th>\n",
       "      <td>Champions</td>\n",
       "      <td>106189</td>\n",
       "    </tr>\n",
       "    <tr>\n",
       "      <th>4</th>\n",
       "      <td>Customers Needing Attention</td>\n",
       "      <td>50709</td>\n",
       "    </tr>\n",
       "  </tbody>\n",
       "</table>\n",
       "</div>"
      ],
      "text/plain": [
       "                   RFM_Segment   count\n",
       "0              Loyal Customers  254268\n",
       "1          Potential Loyalists  240857\n",
       "2                New Customers  192985\n",
       "3                    Champions  106189\n",
       "4  Customers Needing Attention   50709"
      ]
     },
     "execution_count": 94,
     "metadata": {},
     "output_type": "execute_result"
    }
   ],
   "source": [
    "customer_segment = rfm_table['RFM_Segment'].value_counts().reset_index()\n",
    "customer_segment.head()"
   ]
  },
  {
   "cell_type": "markdown",
   "id": "0f008da0-6552-40ea-8254-89fb5b15133a",
   "metadata": {},
   "source": [
    "##"
   ]
  },
  {
   "cell_type": "markdown",
   "id": "1dcb2db5-df10-4405-9f88-a1f20f24ac96",
   "metadata": {},
   "source": [
    "### 📊 Visualizing Customer Segmentation Distributions\n",
    "\n",
    "In this section, I will be exploring how customers are distributed across different segments based on RFM segmentation. This helps us understand:\n",
    "\n",
    "- The **volume** of customers in each segment  \n",
    "- The **behavioral concentration** across clusters  \n",
    "- Which segments dominate in terms of **engagement and value**"
   ]
  },
  {
   "cell_type": "code",
   "execution_count": 97,
   "id": "69207d38-f8f0-4c73-89ed-4edca1951d0c",
   "metadata": {},
   "outputs": [
    {
     "data": {
      "image/png": "[encoded data removed]",
      "text/plain": [
       "<Figure size 2000x500 with 1 Axes>"
      ]
     },
     "metadata": {},
     "output_type": "display_data"
    }
   ],
   "source": [
    "plt.figure(figsize=(20,5))\n",
    "sns.barplot(x='RFM_Segment', y='count', data=customer_segment, color='Teal', palette='cool')\n",
    "plt.title('The distribution of Customer Segments', weight='bold')\n",
    "plt.xlabel('Customer Segments', weight='bold')\n",
    "plt.ylabel('Count', weight='bold')\n",
    "plt.show();"
   ]
  },
  {
   "cell_type": "markdown",
   "id": "b644a896-a58d-446b-8bb7-f2dacc39347e",
   "metadata": {},
   "source": [
    "#"
   ]
  },
  {
   "cell_type": "markdown",
   "id": "48b4a0c3-7105-4b67-8d2c-b969ee37a82d",
   "metadata": {},
   "source": [
    "### 🔢 Performing KMeans Clustering on RFM Data\n",
    "\n",
    "To segment customers based on behavioural patterns, I will be applying **KMeans clustering** to the RFM scores. This unsupervised learning algorithm groups customers into clusters with similar Recency, Frequency, and Monetary profiles.\n",
    "\n",
    "#### 📌 Steps Involved:\n",
    "1. **Feature Selection**: Use RFM scores or weighted scores as input features.\n",
    "2. **Scaling**: Normalize the data to ensure equal contribution of each metric.\n",
    "3. **Modeling**: Apply KMeans with an optimal number of clusters."
   ]
  },
  {
   "cell_type": "code",
   "execution_count": 100,
   "id": "ef2d26bf-ebf2-4e65-a788-2190c5033859",
   "metadata": {},
   "outputs": [],
   "source": [
    "from sklearn.cluster import KMeans\n",
    "from sklearn.decomposition import PCA\n",
    "from sklearn.preprocessing import StandardScaler\n",
    "import yellowbrick\n",
    "from yellowbrick.cluster import KElbowVisualizer"
   ]
  },
  {
   "cell_type": "code",
   "execution_count": 101,
   "id": "7223a12c-cc7a-4dd7-8420-69040c0ab75e",
   "metadata": {},
   "outputs": [
    {
     "data": {
      "text/html": [
       "<div>\n",
       "<style scoped>\n",
       "    .dataframe tbody tr th:only-of-type {\n",
       "        vertical-align: middle;\n",
       "    }\n",
       "\n",
       "    .dataframe tbody tr th {\n",
       "        vertical-align: top;\n",
       "    }\n",
       "\n",
       "    .dataframe thead th {\n",
       "        text-align: right;\n",
       "    }\n",
       "</style>\n",
       "<table border=\"1\" class=\"dataframe\">\n",
       "  <thead>\n",
       "    <tr style=\"text-align: right;\">\n",
       "      <th></th>\n",
       "      <th>Recency</th>\n",
       "      <th>Frequency</th>\n",
       "      <th>Monetary</th>\n",
       "      <th>R</th>\n",
       "      <th>F</th>\n",
       "      <th>M</th>\n",
       "      <th>RFM_Group</th>\n",
       "      <th>RFM_Score</th>\n",
       "      <th>RFM_Segment</th>\n",
       "      <th>Weighted_Score</th>\n",
       "      <th>Weighted_Segment</th>\n",
       "    </tr>\n",
       "    <tr>\n",
       "      <th>CustomerID</th>\n",
       "      <th></th>\n",
       "      <th></th>\n",
       "      <th></th>\n",
       "      <th></th>\n",
       "      <th></th>\n",
       "      <th></th>\n",
       "      <th></th>\n",
       "      <th></th>\n",
       "      <th></th>\n",
       "      <th></th>\n",
       "      <th></th>\n",
       "    </tr>\n",
       "  </thead>\n",
       "  <tbody>\n",
       "    <tr>\n",
       "      <th>C1010011</th>\n",
       "      <td>75</td>\n",
       "      <td>2</td>\n",
       "      <td>5106.0</td>\n",
       "      <td>5</td>\n",
       "      <td>5</td>\n",
       "      <td>5</td>\n",
       "      <td>555</td>\n",
       "      <td>15</td>\n",
       "      <td>Champions</td>\n",
       "      <td>5.00</td>\n",
       "      <td>Extremely High</td>\n",
       "    </tr>\n",
       "    <tr>\n",
       "      <th>C1010012</th>\n",
       "      <td>118</td>\n",
       "      <td>1</td>\n",
       "      <td>1499.0</td>\n",
       "      <td>2</td>\n",
       "      <td>1</td>\n",
       "      <td>4</td>\n",
       "      <td>214</td>\n",
       "      <td>7</td>\n",
       "      <td>New Customers</td>\n",
       "      <td>2.86</td>\n",
       "      <td>Medium</td>\n",
       "    </tr>\n",
       "    <tr>\n",
       "      <th>C1010014</th>\n",
       "      <td>155</td>\n",
       "      <td>2</td>\n",
       "      <td>1455.0</td>\n",
       "      <td>2</td>\n",
       "      <td>5</td>\n",
       "      <td>4</td>\n",
       "      <td>254</td>\n",
       "      <td>11</td>\n",
       "      <td>Loyal Customers</td>\n",
       "      <td>3.98</td>\n",
       "      <td>High</td>\n",
       "    </tr>\n",
       "  </tbody>\n",
       "</table>\n",
       "</div>"
      ],
      "text/plain": [
       "            Recency  Frequency  Monetary  R  F  M RFM_Group  RFM_Score  \\\n",
       "CustomerID                                                               \n",
       "C1010011         75          2    5106.0  5  5  5       555         15   \n",
       "C1010012        118          1    1499.0  2  1  4       214          7   \n",
       "C1010014        155          2    1455.0  2  5  4       254         11   \n",
       "\n",
       "                RFM_Segment  Weighted_Score Weighted_Segment  \n",
       "CustomerID                                                    \n",
       "C1010011          Champions            5.00   Extremely High  \n",
       "C1010012      New Customers            2.86           Medium  \n",
       "C1010014    Loyal Customers            3.98             High  "
      ]
     },
     "execution_count": 101,
     "metadata": {},
     "output_type": "execute_result"
    }
   ],
   "source": [
    "rfm_table.head(3)"
   ]
  },
  {
   "cell_type": "code",
   "execution_count": 102,
   "id": "02d66e73-3c0b-4ce7-af51-9f7d0a55ec33",
   "metadata": {},
   "outputs": [],
   "source": [
    "clustering_data = rfm_table.copy()"
   ]
  },
  {
   "cell_type": "code",
   "execution_count": 103,
   "id": "b003f577-f015-446b-beea-73e9bf99c2c3",
   "metadata": {},
   "outputs": [
    {
     "data": {
      "text/html": [
       "<div>\n",
       "<style scoped>\n",
       "    .dataframe tbody tr th:only-of-type {\n",
       "        vertical-align: middle;\n",
       "    }\n",
       "\n",
       "    .dataframe tbody tr th {\n",
       "        vertical-align: top;\n",
       "    }\n",
       "\n",
       "    .dataframe thead th {\n",
       "        text-align: right;\n",
       "    }\n",
       "</style>\n",
       "<table border=\"1\" class=\"dataframe\">\n",
       "  <thead>\n",
       "    <tr style=\"text-align: right;\">\n",
       "      <th></th>\n",
       "      <th>Recency</th>\n",
       "      <th>Frequency</th>\n",
       "      <th>Monetary</th>\n",
       "      <th>R</th>\n",
       "      <th>F</th>\n",
       "      <th>M</th>\n",
       "      <th>RFM_Group</th>\n",
       "      <th>RFM_Score</th>\n",
       "      <th>RFM_Segment</th>\n",
       "      <th>Weighted_Score</th>\n",
       "      <th>Weighted_Segment</th>\n",
       "    </tr>\n",
       "    <tr>\n",
       "      <th>CustomerID</th>\n",
       "      <th></th>\n",
       "      <th></th>\n",
       "      <th></th>\n",
       "      <th></th>\n",
       "      <th></th>\n",
       "      <th></th>\n",
       "      <th></th>\n",
       "      <th></th>\n",
       "      <th></th>\n",
       "      <th></th>\n",
       "      <th></th>\n",
       "    </tr>\n",
       "  </thead>\n",
       "  <tbody>\n",
       "    <tr>\n",
       "      <th>C1010011</th>\n",
       "      <td>75</td>\n",
       "      <td>2</td>\n",
       "      <td>5106.0</td>\n",
       "      <td>5</td>\n",
       "      <td>5</td>\n",
       "      <td>5</td>\n",
       "      <td>555</td>\n",
       "      <td>15</td>\n",
       "      <td>Champions</td>\n",
       "      <td>5.00</td>\n",
       "      <td>Extremely High</td>\n",
       "    </tr>\n",
       "    <tr>\n",
       "      <th>C1010012</th>\n",
       "      <td>118</td>\n",
       "      <td>1</td>\n",
       "      <td>1499.0</td>\n",
       "      <td>2</td>\n",
       "      <td>1</td>\n",
       "      <td>4</td>\n",
       "      <td>214</td>\n",
       "      <td>7</td>\n",
       "      <td>New Customers</td>\n",
       "      <td>2.86</td>\n",
       "      <td>Medium</td>\n",
       "    </tr>\n",
       "    <tr>\n",
       "      <th>C1010014</th>\n",
       "      <td>155</td>\n",
       "      <td>2</td>\n",
       "      <td>1455.0</td>\n",
       "      <td>2</td>\n",
       "      <td>5</td>\n",
       "      <td>4</td>\n",
       "      <td>254</td>\n",
       "      <td>11</td>\n",
       "      <td>Loyal Customers</td>\n",
       "      <td>3.98</td>\n",
       "      <td>High</td>\n",
       "    </tr>\n",
       "  </tbody>\n",
       "</table>\n",
       "</div>"
      ],
      "text/plain": [
       "            Recency  Frequency  Monetary  R  F  M RFM_Group  RFM_Score  \\\n",
       "CustomerID                                                               \n",
       "C1010011         75          2    5106.0  5  5  5       555         15   \n",
       "C1010012        118          1    1499.0  2  1  4       214          7   \n",
       "C1010014        155          2    1455.0  2  5  4       254         11   \n",
       "\n",
       "                RFM_Segment  Weighted_Score Weighted_Segment  \n",
       "CustomerID                                                    \n",
       "C1010011          Champions            5.00   Extremely High  \n",
       "C1010012      New Customers            2.86           Medium  \n",
       "C1010014    Loyal Customers            3.98             High  "
      ]
     },
     "execution_count": 103,
     "metadata": {},
     "output_type": "execute_result"
    }
   ],
   "source": [
    "clustering_data.head(3)"
   ]
  },
  {
   "cell_type": "code",
   "execution_count": 104,
   "id": "9c2643b3-445c-483c-ab47-aee6a83569cb",
   "metadata": {},
   "outputs": [],
   "source": [
    "clustering_data.drop(columns=['RFM_Group', 'RFM_Segment', 'Weighted_Score', 'Weighted_Segment'], axis=1, inplace=True)"
   ]
  },
  {
   "cell_type": "code",
   "execution_count": 105,
   "id": "8450b594-b2eb-4829-beb4-584e8bda4616",
   "metadata": {},
   "outputs": [
    {
     "data": {
      "text/html": [
       "<div>\n",
       "<style scoped>\n",
       "    .dataframe tbody tr th:only-of-type {\n",
       "        vertical-align: middle;\n",
       "    }\n",
       "\n",
       "    .dataframe tbody tr th {\n",
       "        vertical-align: top;\n",
       "    }\n",
       "\n",
       "    .dataframe thead th {\n",
       "        text-align: right;\n",
       "    }\n",
       "</style>\n",
       "<table border=\"1\" class=\"dataframe\">\n",
       "  <thead>\n",
       "    <tr style=\"text-align: right;\">\n",
       "      <th></th>\n",
       "      <th>Recency</th>\n",
       "      <th>Frequency</th>\n",
       "      <th>Monetary</th>\n",
       "      <th>R</th>\n",
       "      <th>F</th>\n",
       "      <th>M</th>\n",
       "      <th>RFM_Score</th>\n",
       "    </tr>\n",
       "    <tr>\n",
       "      <th>CustomerID</th>\n",
       "      <th></th>\n",
       "      <th></th>\n",
       "      <th></th>\n",
       "      <th></th>\n",
       "      <th></th>\n",
       "      <th></th>\n",
       "      <th></th>\n",
       "    </tr>\n",
       "  </thead>\n",
       "  <tbody>\n",
       "    <tr>\n",
       "      <th>C1010011</th>\n",
       "      <td>75</td>\n",
       "      <td>2</td>\n",
       "      <td>5106.0</td>\n",
       "      <td>5</td>\n",
       "      <td>5</td>\n",
       "      <td>5</td>\n",
       "      <td>15</td>\n",
       "    </tr>\n",
       "    <tr>\n",
       "      <th>C1010012</th>\n",
       "      <td>118</td>\n",
       "      <td>1</td>\n",
       "      <td>1499.0</td>\n",
       "      <td>2</td>\n",
       "      <td>1</td>\n",
       "      <td>4</td>\n",
       "      <td>7</td>\n",
       "    </tr>\n",
       "    <tr>\n",
       "      <th>C1010014</th>\n",
       "      <td>155</td>\n",
       "      <td>2</td>\n",
       "      <td>1455.0</td>\n",
       "      <td>2</td>\n",
       "      <td>5</td>\n",
       "      <td>4</td>\n",
       "      <td>11</td>\n",
       "    </tr>\n",
       "  </tbody>\n",
       "</table>\n",
       "</div>"
      ],
      "text/plain": [
       "            Recency  Frequency  Monetary  R  F  M  RFM_Score\n",
       "CustomerID                                                  \n",
       "C1010011         75          2    5106.0  5  5  5         15\n",
       "C1010012        118          1    1499.0  2  1  4          7\n",
       "C1010014        155          2    1455.0  2  5  4         11"
      ]
     },
     "execution_count": 105,
     "metadata": {},
     "output_type": "execute_result"
    }
   ],
   "source": [
    "clustering_data.head(3)"
   ]
  },
  {
   "cell_type": "markdown",
   "id": "550c6f18-b353-4b9e-9b68-c5c1bff377d2",
   "metadata": {},
   "source": [
    "### ⚙️ Scaling the Dataset Before Clustering\n",
    "\n",
    "To ensure fair contribution of each RFM metric to the clustering algorithm, I will be applying **feature scaling**. This step standardises the range of values across:\n",
    "\n",
    "- **`Recency`**  \n",
    "- **`Frequency`**  \n",
    "- **`Monetary`**\n"
   ]
  },
  {
   "cell_type": "code",
   "execution_count": 107,
   "id": "e434d172-9385-4083-b77c-9cd3ddaa12d4",
   "metadata": {},
   "outputs": [],
   "source": [
    "scaler = StandardScaler()"
   ]
  },
  {
   "cell_type": "code",
   "execution_count": 108,
   "id": "49f035d4-d227-46d7-8737-d19263d26a14",
   "metadata": {},
   "outputs": [],
   "source": [
    "scalled_data = scaler.fit_transform(clustering_data)"
   ]
  },
  {
   "cell_type": "code",
   "execution_count": 109,
   "id": "dd51b4e6-2a31-4893-884a-9f3ae2d81d01",
   "metadata": {},
   "outputs": [
    {
     "data": {
      "text/plain": [
       "array([[-0.68451515,  1.8173276 ,  0.45193522, ...,  1.41421276,\n",
       "         1.41421276,  2.20498788],\n",
       "       [-0.14734272, -0.41084172, -0.04969314, ..., -1.41421276,\n",
       "         0.70710638, -0.73499596],\n",
       "       [ 0.31487542,  1.8173276 , -0.05581225, ...,  1.41421276,\n",
       "         0.70710638,  0.73499596],\n",
       "       ...,\n",
       "       [-0.19731225, -0.41084172, -0.24063734, ...,  1.41421276,\n",
       "        -1.41421276,  0.        ],\n",
       "       [-0.32223607, -0.41084172, -0.25120672, ...,  1.41421276,\n",
       "        -1.41421276,  0.36749798],\n",
       "       [-0.67202277, -0.41084172, -0.13925473, ...,  1.41421276,\n",
       "         0.70710638,  1.8374899 ]])"
      ]
     },
     "execution_count": 109,
     "metadata": {},
     "output_type": "execute_result"
    }
   ],
   "source": [
    "scalled_data"
   ]
  },
  {
   "cell_type": "code",
   "execution_count": 110,
   "id": "fc29f97c-51b7-4ee7-8fb5-8377baaaf3d5",
   "metadata": {},
   "outputs": [],
   "source": [
    "model = KMeans(random_state=42)"
   ]
  },
  {
   "cell_type": "markdown",
   "id": "e042ff61-bd97-4482-ba5c-0b3a74607913",
   "metadata": {},
   "source": [
    "#### 🔍 Determining Optimal Clusters – KElbowVisualizer & Calinski-Harabasz\n",
    "\n",
    "To identify the ideal number of clusters for KMeans segmentation, I will deploy two complementary techniques:\n",
    "\n",
    "**📌 `KElbowVisualizer`** and  **`Calinski-Harabasz Index`**"
   ]
  },
  {
   "cell_type": "code",
   "execution_count": 112,
   "id": "c02fb3e0-0620-4474-b666-1cc1335fb869",
   "metadata": {},
   "outputs": [
    {
     "data": {
      "text/html": [
       "<style>#sk-container-id-1 {\n",
       "  /* Definition of color scheme common for light and dark mode */\n",
       "  --sklearn-color-text: black;\n",
       "  --sklearn-color-line: gray;\n",
       "  /* Definition of color scheme for unfitted estimators */\n",
       "  --sklearn-color-unfitted-level-0: #fff5e6;\n",
       "  --sklearn-color-unfitted-level-1: #f6e4d2;\n",
       "  --sklearn-color-unfitted-level-2: #ffe0b3;\n",
       "  --sklearn-color-unfitted-level-3: chocolate;\n",
       "  /* Definition of color scheme for fitted estimators */\n",
       "  --sklearn-color-fitted-level-0: #f0f8ff;\n",
       "  --sklearn-color-fitted-level-1: #d4ebff;\n",
       "  --sklearn-color-fitted-level-2: #b3dbfd;\n",
       "  --sklearn-color-fitted-level-3: cornflowerblue;\n",
       "\n",
       "  /* Specific color for light theme */\n",
       "  --sklearn-color-text-on-default-background: var(--sg-text-color, var(--theme-code-foreground, var(--jp-content-font-color1, black)));\n",
       "  --sklearn-color-background: var(--sg-background-color, var(--theme-background, var(--jp-layout-color0, white)));\n",
       "  --sklearn-color-border-box: var(--sg-text-color, var(--theme-code-foreground, var(--jp-content-font-color1, black)));\n",
       "  --sklearn-color-icon: #696969;\n",
       "\n",
       "  @media (prefers-color-scheme: dark) {\n",
       "    /* Redefinition of color scheme for dark theme */\n",
       "    --sklearn-color-text-on-default-background: var(--sg-text-color, var(--theme-code-foreground, var(--jp-content-font-color1, white)));\n",
       "    --sklearn-color-background: var(--sg-background-color, var(--theme-background, var(--jp-layout-color0, #111)));\n",
       "    --sklearn-color-border-box: var(--sg-text-color, var(--theme-code-foreground, var(--jp-content-font-color1, white)));\n",
       "    --sklearn-color-icon: #878787;\n",
       "  }\n",
       "}\n",
       "\n",
       "#sk-container-id-1 {\n",
       "  color: var(--sklearn-color-text);\n",
       "}\n",
       "\n",
       "#sk-container-id-1 pre {\n",
       "  padding: 0;\n",
       "}\n",
       "\n",
       "#sk-container-id-1 input.sk-hidden--visually {\n",
       "  border: 0;\n",
       "  clip: rect(1px 1px 1px 1px);\n",
       "  clip: rect(1px, 1px, 1px, 1px);\n",
       "  height: 1px;\n",
       "  margin: -1px;\n",
       "  overflow: hidden;\n",
       "  padding: 0;\n",
       "  position: absolute;\n",
       "  width: 1px;\n",
       "}\n",
       "\n",
       "#sk-container-id-1 div.sk-dashed-wrapped {\n",
       "  border: 1px dashed var(--sklearn-color-line);\n",
       "  margin: 0 0.4em 0.5em 0.4em;\n",
       "  box-sizing: border-box;\n",
       "  padding-bottom: 0.4em;\n",
       "  background-color: var(--sklearn-color-background);\n",
       "}\n",
       "\n",
       "#sk-container-id-1 div.sk-container {\n",
       "  /* jupyter's `normalize.less` sets `[hidden] { display: none; }`\n",
       "     but bootstrap.min.css set `[hidden] { display: none !important; }`\n",
       "     so we also need the `!important` here to be able to override the\n",
       "     default hidden behavior on the sphinx rendered scikit-learn.org.\n",
       "     See: https://github.com/scikit-learn/scikit-learn/issues/21755 */\n",
       "  display: inline-block !important;\n",
       "  position: relative;\n",
       "}\n",
       "\n",
       "#sk-container-id-1 div.sk-text-repr-fallback {\n",
       "  display: none;\n",
       "}\n",
       "\n",
       "div.sk-parallel-item,\n",
       "div.sk-serial,\n",
       "div.sk-item {\n",
       "  /* draw centered vertical line to link estimators */\n",
       "  background-image: linear-gradient(var(--sklearn-color-text-on-default-background), var(--sklearn-color-text-on-default-background));\n",
       "  background-size: 2px 100%;\n",
       "  background-repeat: no-repeat;\n",
       "  background-position: center center;\n",
       "}\n",
       "\n",
       "/* Parallel-specific style estimator block */\n",
       "\n",
       "#sk-container-id-1 div.sk-parallel-item::after {\n",
       "  content: \"\";\n",
       "  width: 100%;\n",
       "  border-bottom: 2px solid var(--sklearn-color-text-on-default-background);\n",
       "  flex-grow: 1;\n",
       "}\n",
       "\n",
       "#sk-container-id-1 div.sk-parallel {\n",
       "  display: flex;\n",
       "  align-items: stretch;\n",
       "  justify-content: center;\n",
       "  background-color: var(--sklearn-color-background);\n",
       "  position: relative;\n",
       "}\n",
       "\n",
       "#sk-container-id-1 div.sk-parallel-item {\n",
       "  display: flex;\n",
       "  flex-direction: column;\n",
       "}\n",
       "\n",
       "#sk-container-id-1 div.sk-parallel-item:first-child::after {\n",
       "  align-self: flex-end;\n",
       "  width: 50%;\n",
       "}\n",
       "\n",
       "#sk-container-id-1 div.sk-parallel-item:last-child::after {\n",
       "  align-self: flex-start;\n",
       "  width: 50%;\n",
       "}\n",
       "\n",
       "#sk-container-id-1 div.sk-parallel-item:only-child::after {\n",
       "  width: 0;\n",
       "}\n",
       "\n",
       "/* Serial-specific style estimator block */\n",
       "\n",
       "#sk-container-id-1 div.sk-serial {\n",
       "  display: flex;\n",
       "  flex-direction: column;\n",
       "  align-items: center;\n",
       "  background-color: var(--sklearn-color-background);\n",
       "  padding-right: 1em;\n",
       "  padding-left: 1em;\n",
       "}\n",
       "\n",
       "\n",
       "/* Toggleable style: style used for estimator/Pipeline/ColumnTransformer box that is\n",
       "clickable and can be expanded/collapsed.\n",
       "- Pipeline and ColumnTransformer use this feature and define the default style\n",
       "- Estimators will overwrite some part of the style using the `sk-estimator` class\n",
       "*/\n",
       "\n",
       "/* Pipeline and ColumnTransformer style (default) */\n",
       "\n",
       "#sk-container-id-1 div.sk-toggleable {\n",
       "  /* Default theme specific background. It is overwritten whether we have a\n",
       "  specific estimator or a Pipeline/ColumnTransformer */\n",
       "  background-color: var(--sklearn-color-background);\n",
       "}\n",
       "\n",
       "/* Toggleable label */\n",
       "#sk-container-id-1 label.sk-toggleable__label {\n",
       "  cursor: pointer;\n",
       "  display: block;\n",
       "  width: 100%;\n",
       "  margin-bottom: 0;\n",
       "  padding: 0.5em;\n",
       "  box-sizing: border-box;\n",
       "  text-align: center;\n",
       "}\n",
       "\n",
       "#sk-container-id-1 label.sk-toggleable__label-arrow:before {\n",
       "  /* Arrow on the left of the label */\n",
       "  content: \"▸\";\n",
       "  float: left;\n",
       "  margin-right: 0.25em;\n",
       "  color: var(--sklearn-color-icon);\n",
       "}\n",
       "\n",
       "#sk-container-id-1 label.sk-toggleable__label-arrow:hover:before {\n",
       "  color: var(--sklearn-color-text);\n",
       "}\n",
       "\n",
       "/* Toggleable content - dropdown */\n",
       "\n",
       "#sk-container-id-1 div.sk-toggleable__content {\n",
       "  max-height: 0;\n",
       "  max-width: 0;\n",
       "  overflow: hidden;\n",
       "  text-align: left;\n",
       "  /* unfitted */\n",
       "  background-color: var(--sklearn-color-unfitted-level-0);\n",
       "}\n",
       "\n",
       "#sk-container-id-1 div.sk-toggleable__content.fitted {\n",
       "  /* fitted */\n",
       "  background-color: var(--sklearn-color-fitted-level-0);\n",
       "}\n",
       "\n",
       "#sk-container-id-1 div.sk-toggleable__content pre {\n",
       "  margin: 0.2em;\n",
       "  border-radius: 0.25em;\n",
       "  color: var(--sklearn-color-text);\n",
       "  /* unfitted */\n",
       "  background-color: var(--sklearn-color-unfitted-level-0);\n",
       "}\n",
       "\n",
       "#sk-container-id-1 div.sk-toggleable__content.fitted pre {\n",
       "  /* unfitted */\n",
       "  background-color: var(--sklearn-color-fitted-level-0);\n",
       "}\n",
       "\n",
       "#sk-container-id-1 input.sk-toggleable__control:checked~div.sk-toggleable__content {\n",
       "  /* Expand drop-down */\n",
       "  max-height: 200px;\n",
       "  max-width: 100%;\n",
       "  overflow: auto;\n",
       "}\n",
       "\n",
       "#sk-container-id-1 input.sk-toggleable__control:checked~label.sk-toggleable__label-arrow:before {\n",
       "  content: \"▾\";\n",
       "}\n",
       "\n",
       "/* Pipeline/ColumnTransformer-specific style */\n",
       "\n",
       "#sk-container-id-1 div.sk-label input.sk-toggleable__control:checked~label.sk-toggleable__label {\n",
       "  color: var(--sklearn-color-text);\n",
       "  background-color: var(--sklearn-color-unfitted-level-2);\n",
       "}\n",
       "\n",
       "#sk-container-id-1 div.sk-label.fitted input.sk-toggleable__control:checked~label.sk-toggleable__label {\n",
       "  background-color: var(--sklearn-color-fitted-level-2);\n",
       "}\n",
       "\n",
       "/* Estimator-specific style */\n",
       "\n",
       "/* Colorize estimator box */\n",
       "#sk-container-id-1 div.sk-estimator input.sk-toggleable__control:checked~label.sk-toggleable__label {\n",
       "  /* unfitted */\n",
       "  background-color: var(--sklearn-color-unfitted-level-2);\n",
       "}\n",
       "\n",
       "#sk-container-id-1 div.sk-estimator.fitted input.sk-toggleable__control:checked~label.sk-toggleable__label {\n",
       "  /* fitted */\n",
       "  background-color: var(--sklearn-color-fitted-level-2);\n",
       "}\n",
       "\n",
       "#sk-container-id-1 div.sk-label label.sk-toggleable__label,\n",
       "#sk-container-id-1 div.sk-label label {\n",
       "  /* The background is the default theme color */\n",
       "  color: var(--sklearn-color-text-on-default-background);\n",
       "}\n",
       "\n",
       "/* On hover, darken the color of the background */\n",
       "#sk-container-id-1 div.sk-label:hover label.sk-toggleable__label {\n",
       "  color: var(--sklearn-color-text);\n",
       "  background-color: var(--sklearn-color-unfitted-level-2);\n",
       "}\n",
       "\n",
       "/* Label box, darken color on hover, fitted */\n",
       "#sk-container-id-1 div.sk-label.fitted:hover label.sk-toggleable__label.fitted {\n",
       "  color: var(--sklearn-color-text);\n",
       "  background-color: var(--sklearn-color-fitted-level-2);\n",
       "}\n",
       "\n",
       "/* Estimator label */\n",
       "\n",
       "#sk-container-id-1 div.sk-label label {\n",
       "  font-family: monospace;\n",
       "  font-weight: bold;\n",
       "  display: inline-block;\n",
       "  line-height: 1.2em;\n",
       "}\n",
       "\n",
       "#sk-container-id-1 div.sk-label-container {\n",
       "  text-align: center;\n",
       "}\n",
       "\n",
       "/* Estimator-specific */\n",
       "#sk-container-id-1 div.sk-estimator {\n",
       "  font-family: monospace;\n",
       "  border: 1px dotted var(--sklearn-color-border-box);\n",
       "  border-radius: 0.25em;\n",
       "  box-sizing: border-box;\n",
       "  margin-bottom: 0.5em;\n",
       "  /* unfitted */\n",
       "  background-color: var(--sklearn-color-unfitted-level-0);\n",
       "}\n",
       "\n",
       "#sk-container-id-1 div.sk-estimator.fitted {\n",
       "  /* fitted */\n",
       "  background-color: var(--sklearn-color-fitted-level-0);\n",
       "}\n",
       "\n",
       "/* on hover */\n",
       "#sk-container-id-1 div.sk-estimator:hover {\n",
       "  /* unfitted */\n",
       "  background-color: var(--sklearn-color-unfitted-level-2);\n",
       "}\n",
       "\n",
       "#sk-container-id-1 div.sk-estimator.fitted:hover {\n",
       "  /* fitted */\n",
       "  background-color: var(--sklearn-color-fitted-level-2);\n",
       "}\n",
       "\n",
       "/* Specification for estimator info (e.g. \"i\" and \"?\") */\n",
       "\n",
       "/* Common style for \"i\" and \"?\" */\n",
       "\n",
       ".sk-estimator-doc-link,\n",
       "a:link.sk-estimator-doc-link,\n",
       "a:visited.sk-estimator-doc-link {\n",
       "  float: right;\n",
       "  font-size: smaller;\n",
       "  line-height: 1em;\n",
       "  font-family: monospace;\n",
       "  background-color: var(--sklearn-color-background);\n",
       "  border-radius: 1em;\n",
       "  height: 1em;\n",
       "  width: 1em;\n",
       "  text-decoration: none !important;\n",
       "  margin-left: 1ex;\n",
       "  /* unfitted */\n",
       "  border: var(--sklearn-color-unfitted-level-1) 1pt solid;\n",
       "  color: var(--sklearn-color-unfitted-level-1);\n",
       "}\n",
       "\n",
       ".sk-estimator-doc-link.fitted,\n",
       "a:link.sk-estimator-doc-link.fitted,\n",
       "a:visited.sk-estimator-doc-link.fitted {\n",
       "  /* fitted */\n",
       "  border: var(--sklearn-color-fitted-level-1) 1pt solid;\n",
       "  color: var(--sklearn-color-fitted-level-1);\n",
       "}\n",
       "\n",
       "/* On hover */\n",
       "div.sk-estimator:hover .sk-estimator-doc-link:hover,\n",
       ".sk-estimator-doc-link:hover,\n",
       "div.sk-label-container:hover .sk-estimator-doc-link:hover,\n",
       ".sk-estimator-doc-link:hover {\n",
       "  /* unfitted */\n",
       "  background-color: var(--sklearn-color-unfitted-level-3);\n",
       "  color: var(--sklearn-color-background);\n",
       "  text-decoration: none;\n",
       "}\n",
       "\n",
       "div.sk-estimator.fitted:hover .sk-estimator-doc-link.fitted:hover,\n",
       ".sk-estimator-doc-link.fitted:hover,\n",
       "div.sk-label-container:hover .sk-estimator-doc-link.fitted:hover,\n",
       ".sk-estimator-doc-link.fitted:hover {\n",
       "  /* fitted */\n",
       "  background-color: var(--sklearn-color-fitted-level-3);\n",
       "  color: var(--sklearn-color-background);\n",
       "  text-decoration: none;\n",
       "}\n",
       "\n",
       "/* Span, style for the box shown on hovering the info icon */\n",
       ".sk-estimator-doc-link span {\n",
       "  display: none;\n",
       "  z-index: 9999;\n",
       "  position: relative;\n",
       "  font-weight: normal;\n",
       "  right: .2ex;\n",
       "  padding: .5ex;\n",
       "  margin: .5ex;\n",
       "  width: min-content;\n",
       "  min-width: 20ex;\n",
       "  max-width: 50ex;\n",
       "  color: var(--sklearn-color-text);\n",
       "  box-shadow: 2pt 2pt 4pt #999;\n",
       "  /* unfitted */\n",
       "  background: var(--sklearn-color-unfitted-level-0);\n",
       "  border: .5pt solid var(--sklearn-color-unfitted-level-3);\n",
       "}\n",
       "\n",
       ".sk-estimator-doc-link.fitted span {\n",
       "  /* fitted */\n",
       "  background: var(--sklearn-color-fitted-level-0);\n",
       "  border: var(--sklearn-color-fitted-level-3);\n",
       "}\n",
       "\n",
       ".sk-estimator-doc-link:hover span {\n",
       "  display: block;\n",
       "}\n",
       "\n",
       "/* \"?\"-specific style due to the `<a>` HTML tag */\n",
       "\n",
       "#sk-container-id-1 a.estimator_doc_link {\n",
       "  float: right;\n",
       "  font-size: 1rem;\n",
       "  line-height: 1em;\n",
       "  font-family: monospace;\n",
       "  background-color: var(--sklearn-color-background);\n",
       "  border-radius: 1rem;\n",
       "  height: 1rem;\n",
       "  width: 1rem;\n",
       "  text-decoration: none;\n",
       "  /* unfitted */\n",
       "  color: var(--sklearn-color-unfitted-level-1);\n",
       "  border: var(--sklearn-color-unfitted-level-1) 1pt solid;\n",
       "}\n",
       "\n",
       "#sk-container-id-1 a.estimator_doc_link.fitted {\n",
       "  /* fitted */\n",
       "  border: var(--sklearn-color-fitted-level-1) 1pt solid;\n",
       "  color: var(--sklearn-color-fitted-level-1);\n",
       "}\n",
       "\n",
       "/* On hover */\n",
       "#sk-container-id-1 a.estimator_doc_link:hover {\n",
       "  /* unfitted */\n",
       "  background-color: var(--sklearn-color-unfitted-level-3);\n",
       "  color: var(--sklearn-color-background);\n",
       "  text-decoration: none;\n",
       "}\n",
       "\n",
       "#sk-container-id-1 a.estimator_doc_link.fitted:hover {\n",
       "  /* fitted */\n",
       "  background-color: var(--sklearn-color-fitted-level-3);\n",
       "}\n",
       "</style><div id=\"sk-container-id-1\" class=\"sk-top-container\"><div class=\"sk-text-repr-fallback\"><pre>KElbowVisualizer(ax=&lt;Axes: &gt;, estimator=KMeans(n_clusters=9, random_state=42),\n",
       "                 k=range(2, 10), timings=False)</pre><b>In a Jupyter environment, please rerun this cell to show the HTML representation or trust the notebook. <br />On GitHub, the HTML representation is unable to render, please try loading this page with nbviewer.org.</b></div><div class=\"sk-container\" hidden><div class=\"sk-item sk-dashed-wrapped\"><div class=\"sk-label-container\"><div class=\"sk-label fitted sk-toggleable\"><input class=\"sk-toggleable__control sk-hidden--visually\" id=\"sk-estimator-id-1\" type=\"checkbox\" ><label for=\"sk-estimator-id-1\" class=\"sk-toggleable__label fitted sk-toggleable__label-arrow fitted\">&nbsp;KElbowVisualizer<span class=\"sk-estimator-doc-link fitted\">i<span>Fitted</span></span></label><div class=\"sk-toggleable__content fitted\"><pre>KElbowVisualizer(ax=&lt;Axes: &gt;, estimator=KMeans(n_clusters=9, random_state=42),\n",
       "                 k=range(2, 10), timings=False)</pre></div> </div></div><div class=\"sk-parallel\"><div class=\"sk-parallel-item\"><div class=\"sk-item\"><div class=\"sk-label-container\"><div class=\"sk-label fitted sk-toggleable\"><input class=\"sk-toggleable__control sk-hidden--visually\" id=\"sk-estimator-id-2\" type=\"checkbox\" ><label for=\"sk-estimator-id-2\" class=\"sk-toggleable__label fitted sk-toggleable__label-arrow fitted\">estimator: KMeans</label><div class=\"sk-toggleable__content fitted\"><pre>KMeans(n_clusters=9, random_state=42)</pre></div> </div></div><div class=\"sk-serial\"><div class=\"sk-item\"><div class=\"sk-estimator fitted sk-toggleable\"><input class=\"sk-toggleable__control sk-hidden--visually\" id=\"sk-estimator-id-3\" type=\"checkbox\" ><label for=\"sk-estimator-id-3\" class=\"sk-toggleable__label fitted sk-toggleable__label-arrow fitted\">&nbsp;KMeans<a class=\"sk-estimator-doc-link fitted\" rel=\"noreferrer\" target=\"_blank\" href=\"https://scikit-learn.org/1.4/modules/generated/sklearn.cluster.KMeans.html\">?<span>Documentation for KMeans</span></a></label><div class=\"sk-toggleable__content fitted\"><pre>KMeans(n_clusters=9, random_state=42)</pre></div> </div></div></div></div></div></div></div></div></div>"
      ],
      "text/plain": [
       "KElbowVisualizer(ax=<Axes: >, estimator=KMeans(n_clusters=9, random_state=42),\n",
       "                 k=range(2, 10), timings=False)"
      ]
     },
     "execution_count": 112,
     "metadata": {},
     "output_type": "execute_result"
    },
    {
     "data": {
      "image/png": "[encoded data removed]",
      "text/plain": [
       "<Figure size 800x550 with 1 Axes>"
      ]
     },
     "metadata": {},
     "output_type": "display_data"
    }
   ],
   "source": [
    "plot_model = KElbowVisualizer(model, k = range(2,10), metric= 'distortion', timings=False)\n",
    "plot_model.fit(scalled_data)"
   ]
  },
  {
   "cell_type": "code",
   "execution_count": null,
   "id": "b6810c7f-7e80-4daa-b9ec-3b8fe1abbe54",
   "metadata": {},
   "outputs": [],
   "source": [
    "plot_model_02 = KElbowVisualizer(model, k = (2,10), metric= 'calinski_harabasz', timings=False)\n",
    "plot_model_02.fit(scalled_data)"
   ]
  },
  {
   "cell_type": "markdown",
   "id": "eb5e1948-cc14-4240-9669-5dab0c74a165",
   "metadata": {},
   "source": [
    "##"
   ]
  },
  {
   "cell_type": "markdown",
   "id": "299d9de4-d0f5-4bd2-b77d-385f4c21d180",
   "metadata": {},
   "source": [
    "### 🔍 Investigating Clustering Disagreement with Scatter Plot\n",
    "\n",
    "Both the `KElbowVisualizer` and the `Calinski-Harabasz Index` provided conflicting recommendations for the optimal number of clusters. To resolve this, I further investigate using a **scatter plot** of the RFM features or their principal components.\n",
    "\n",
    "This visual inspection helps assess cluster separation, density, and cohesion offering intuitive guidance for selecting a meaningful number of clusters.\n"
   ]
  },
  {
   "cell_type": "code",
   "execution_count": null,
   "id": "56a61f8b-3909-4429-b1ee-36616ee32148",
   "metadata": {},
   "outputs": [],
   "source": [
    "pca = PCA(n_components=2)\n",
    "scalled_data_pca = pca.fit_transform(scalled_data)\n",
    "\n",
    "for k in [2, 4]:\n",
    "    model = KMeans(n_clusters=k, random_state=42)\n",
    "    labels = model.fit_predict(scalled_data)\n",
    "    \n",
    "    plt.figure(figsize=(15,7))\n",
    "    plt.scatter(scalled_data_pca[:,0], scalled_data_pca[:,1], c=labels, cmap='viridis')\n",
    "    plt.title(f'K-Means Clusters (k={k})')\n",
    "    plt.show()\n"
   ]
  },
  {
   "cell_type": "code",
   "execution_count": null,
   "id": "76db159b-6fdf-466a-a662-78726f4e788b",
   "metadata": {},
   "outputs": [],
   "source": [
    "optimal_k = 4"
   ]
  },
  {
   "cell_type": "code",
   "execution_count": null,
   "id": "4d3f4ecb-77f5-4ec2-a02c-df157cdf5f79",
   "metadata": {},
   "outputs": [],
   "source": [
    "final_model = KMeans(n_clusters=optimal_k, random_state=42)\n",
    "final_model.fit(scalled_data)"
   ]
  },
  {
   "cell_type": "code",
   "execution_count": null,
   "id": "d521d12e-5ff7-4880-a00a-b3966b3c6b9d",
   "metadata": {},
   "outputs": [],
   "source": [
    "final_model.labels_"
   ]
  },
  {
   "cell_type": "code",
   "execution_count": null,
   "id": "6c1e6211-5184-498f-8f98-93ea53abac52",
   "metadata": {},
   "outputs": [],
   "source": [
    "clustering_data['Cluster'] = final_model.labels_"
   ]
  },
  {
   "cell_type": "code",
   "execution_count": null,
   "id": "5fe10608-fdaf-4bae-906a-055f016fc4b4",
   "metadata": {},
   "outputs": [],
   "source": [
    "clustering_data.head()"
   ]
  },
  {
   "cell_type": "code",
   "execution_count": null,
   "id": "c7aa24c9-8c05-4c36-b22f-429250b3ae01",
   "metadata": {},
   "outputs": [],
   "source": [
    "clustering_data.groupby('Cluster')[['Recency', 'Frequency', 'Monetary', 'RFM_Score']].mean().reset_index()"
   ]
  },
  {
   "cell_type": "code",
   "execution_count": null,
   "id": "32dad431-2ff4-4b96-b8f1-9ec612e295de",
   "metadata": {},
   "outputs": [],
   "source": [
    "clustering_data.groupby('Cluster')[['Recency', 'Frequency', 'Monetary']].mean().reset_index()"
   ]
  },
  {
   "cell_type": "code",
   "execution_count": null,
   "id": "239423ae-04a1-4efd-a6e0-4cdd4f41c187",
   "metadata": {},
   "outputs": [],
   "source": [
    "plt.figure(figsize=(15,5))\n",
    "plt.subplot(1,2,1)  # RFM Distribution by Cluster\n",
    "sns.boxplot(data=clustering_data, x='Cluster', y='RFM_Score', palette='viridis')\n",
    "plt.title('RFM Score Distribution Across Clusters', weight='bold')\n",
    "plt.xlabel('Customer Cluster', weight='bold')\n",
    "plt.ylabel('RFM Score',weight='bold')\n",
    "\n",
    "\n",
    "plt.subplot(1,2,2) # Monetary vs Frequency Scatter Plot\n",
    "sns.scatterplot(data=clustering_data, x='Frequency', y='Monetary', hue='Cluster', palette='Set2', s=100)\n",
    "plt.title('Customer Clusters Based on Frequency and Monetary Value', weight='bold')\n",
    "plt.xlabel('Purchase Frequency', weight='bold')\n",
    "plt.ylabel('Total Monetary Value', weight='bold')\n",
    "plt.tight_layout()\n",
    "plt.show();"
   ]
  },
  {
   "cell_type": "code",
   "execution_count": null,
   "id": "26a9b9de-f17a-4376-aabb-275e20f560ab",
   "metadata": {},
   "outputs": [],
   "source": [
    "# plt.figure(figsize=(15,5))\n",
    "# plt.subplot(1,2,1)  # Average RFM Components per Cluster\n",
    "# clustering_data.plot(x='Cluster', kind='bar')\n",
    "# plt.title('Average Recency, Frequency, and Monetary Value by Cluster',  weight='bold')\n",
    "# plt.ylabel('Average Values',  weight='bold')\n",
    "\n",
    "# plt.subplot(1,2,2)  # Cluster Size Distribution\n",
    "# clustering_data['Cluster'].value_counts().sort_index().plot(kind='bar', color='cornflowerblue')\n",
    "# plt.title('Number of Customers in Each Cluster', weight='bold')\n",
    "# plt.xlabel('Cluster',  weight='bold')\n",
    "# plt.ylabel('Customer Count',  weight='bold')\n",
    "# plt.show();"
   ]
  },
  {
   "cell_type": "markdown",
   "id": "7cbeac58-ffcc-4109-8035-6c80a2118fcc",
   "metadata": {},
   "source": [
    "#"
   ]
  },
  {
   "cell_type": "markdown",
   "id": "ce63d75c-1928-48ad-9d5b-3f5157631006",
   "metadata": {},
   "source": [
    "# 🧩 Customer Segmentation Insights using RFM & K-Means Clustering\n",
    "Using RFM analysis and the KMeans algorithm, customers were grouped into four clusters based on their purchasing behaviour. Below is a breakdown of key patterns and strategic recommendations for each segment.\n",
    "\n",
    "---\n",
    "\n",
    "### 🔍 Cluster Overview\n",
    "\n",
    "| Cluster | Avg. Recency | Avg. Frequency | Avg. Monetary | Avg. RFM Score | Segment Profile |\n",
    "|---------|--------------|----------------|----------------|----------------|------------------|\n",
    "| 0       | 262.5        | 1.01           | 1,465.84      | 6.62           | Dormant, low-value |\n",
    "| 1       | 88.9         | 1.00           | 2,907.72      | 10.49          | Infrequent, high spend |\n",
    "| 2       | 103.5        | 1.00           | 221.26        | 7.21           | New or low-value |\n",
    "| 3       | 88.3         | 2.15           | 3,503.00      | 12.71          | Loyal, high-value |\n",
    "\n",
    "---\n",
    "\n",
    "### 📈 Key Trends & Patterns\n",
    "\n",
    "- **Cluster 0 – Dormant Customers**\n",
    "  - Highest recency → long time since last purchase\n",
    "  - Low frequency and moderate spend\n",
    "  - Action: Re-engagement campaigns, personalized win-back offers\n",
    "\n",
    "- **Cluster 1 – Infrequent, but Big Spenders**\n",
    "  - Moderate recency, low frequency, high monetary value\n",
    "  - Action: Encourage repeat purchases with loyalty incentives or exclusive bundles\n",
    "\n",
    "- **Cluster 2 – Low-Value or New Customers**\n",
    "  - Moderate recency, low frequency, very low spend\n",
    "  - Action: Nurture with onboarding flows, early engagement offers\n",
    "\n",
    "- **Cluster 3 – Loyal, and High-Value Customers**\n",
    "  - Low recency, high frequency, highest spend\n",
    "  - Action: Prioritize retention, offer VIP programs, and personalized experiences\n",
    "\n",
    "---\n",
    "### 🧭 3. Strategic Recommendations\n",
    "\n",
    "| Objective | Strategy |\n",
    "|------------|-----------|\n",
    "| **Boost Retention** | Reward Cluster 3 with loyalty benefits and recognition. |\n",
    "| **Encourage repeat purchases** | Through product bundles or limited-time discounts to Cluster 1 customers. |\n",
    "| **Re-engage Dormant Users** | Reactivate Cluster 0 with comeback offers and reminders. |\n",
    "| **Convert New Buyers into Loyalists** | Nurture Cluster 2 with personalized follow-ups and education. |\n"
   ]
  },
  {
   "cell_type": "code",
   "execution_count": null,
   "id": "2f519e79-76c8-4f81-81c1-ba6e35acc597",
   "metadata": {},
   "outputs": [],
   "source": []
  }
 ],
 "metadata": {
  "kernelspec": {
   "display_name": "Python 3 (ipykernel)",
   "language": "python",
   "name": "python3"
  },
  "language_info": {
   "codemirror_mode": {
    "name": "ipython",
    "version": 3
   },
   "file_extension": ".py",
   "mimetype": "text/x-python",
   "name": "python",
   "nbconvert_exporter": "python",
   "pygments_lexer": "ipython3",
   "version": "3.12.7"
  }
 },
 "nbformat": 4,
 "nbformat_minor": 5
}
