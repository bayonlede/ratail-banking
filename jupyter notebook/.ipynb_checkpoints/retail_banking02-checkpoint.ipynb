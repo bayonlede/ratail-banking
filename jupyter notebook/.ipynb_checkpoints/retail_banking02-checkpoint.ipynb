{
 "cells": [
  {
   "cell_type": "markdown",
   "id": "c766ea1b-e933-435a-9329-ee1d1bcaae82",
   "metadata": {},
   "source": [
    "# `Importing the needed Libraries`"
   ]
  },
  {
   "cell_type": "code",
   "execution_count": 2,
   "id": "ec6c3972-2bae-4432-a7e5-b6e2f783bf10",
   "metadata": {},
   "outputs": [],
   "source": [
    "import seaborn as sns\n",
    "import matplotlib.pyplot as plt\n",
    "import numpy as np\n",
    "from datetime import datetime\n",
    "import datetime as dt\n",
    "from datetime import date\n",
    "import pandas as pd"
   ]
  },
  {
   "cell_type": "markdown",
   "id": "8af5408c-0526-4291-872b-1d9bef2922b0",
   "metadata": {},
   "source": [
    "# _`Loading of the raw dataset`_"
   ]
  },
  {
   "cell_type": "code",
   "execution_count": 4,
   "id": "32758859-1858-4452-b2ce-84d487aeba06",
   "metadata": {},
   "outputs": [],
   "source": [
    "df = pd.read_csv(r\"C:\\Users\\user\\Desktop\\retail banking_02\\raw_data\\bank_data_C.csv\")"
   ]
  },
  {
   "cell_type": "code",
   "execution_count": 5,
   "id": "226d8537-162d-4681-9d8e-0de0a39ddb6c",
   "metadata": {},
   "outputs": [
    {
     "data": {
      "text/html": [
       "<div>\n",
       "<style scoped>\n",
       "    .dataframe tbody tr th:only-of-type {\n",
       "        vertical-align: middle;\n",
       "    }\n",
       "\n",
       "    .dataframe tbody tr th {\n",
       "        vertical-align: top;\n",
       "    }\n",
       "\n",
       "    .dataframe thead th {\n",
       "        text-align: right;\n",
       "    }\n",
       "</style>\n",
       "<table border=\"1\" class=\"dataframe\">\n",
       "  <thead>\n",
       "    <tr style=\"text-align: right;\">\n",
       "      <th></th>\n",
       "      <th>TransactionID</th>\n",
       "      <th>CustomerID</th>\n",
       "      <th>CustomerDOB</th>\n",
       "      <th>CustGender</th>\n",
       "      <th>CustLocation</th>\n",
       "      <th>CustAccountBalance</th>\n",
       "      <th>TransactionDate</th>\n",
       "      <th>TransactionTime</th>\n",
       "      <th>TransactionAmount (INR)</th>\n",
       "    </tr>\n",
       "  </thead>\n",
       "  <tbody>\n",
       "    <tr>\n",
       "      <th>0</th>\n",
       "      <td>T1</td>\n",
       "      <td>C5841053</td>\n",
       "      <td>10/1/94</td>\n",
       "      <td>F</td>\n",
       "      <td>JAMSHEDPUR</td>\n",
       "      <td>17819.05</td>\n",
       "      <td>2/8/16</td>\n",
       "      <td>143207</td>\n",
       "      <td>25.0</td>\n",
       "    </tr>\n",
       "    <tr>\n",
       "      <th>1</th>\n",
       "      <td>T2</td>\n",
       "      <td>C2142763</td>\n",
       "      <td>4/4/57</td>\n",
       "      <td>M</td>\n",
       "      <td>JHAJJAR</td>\n",
       "      <td>2270.69</td>\n",
       "      <td>2/8/16</td>\n",
       "      <td>141858</td>\n",
       "      <td>27999.0</td>\n",
       "    </tr>\n",
       "    <tr>\n",
       "      <th>2</th>\n",
       "      <td>T3</td>\n",
       "      <td>C4417068</td>\n",
       "      <td>26/11/96</td>\n",
       "      <td>F</td>\n",
       "      <td>MUMBAI</td>\n",
       "      <td>17874.44</td>\n",
       "      <td>2/8/16</td>\n",
       "      <td>142712</td>\n",
       "      <td>459.0</td>\n",
       "    </tr>\n",
       "    <tr>\n",
       "      <th>3</th>\n",
       "      <td>T4</td>\n",
       "      <td>C5342380</td>\n",
       "      <td>14/9/73</td>\n",
       "      <td>F</td>\n",
       "      <td>MUMBAI</td>\n",
       "      <td>866503.21</td>\n",
       "      <td>2/8/16</td>\n",
       "      <td>142714</td>\n",
       "      <td>2060.0</td>\n",
       "    </tr>\n",
       "    <tr>\n",
       "      <th>4</th>\n",
       "      <td>T5</td>\n",
       "      <td>C9031234</td>\n",
       "      <td>24/3/88</td>\n",
       "      <td>F</td>\n",
       "      <td>NAVI MUMBAI</td>\n",
       "      <td>6714.43</td>\n",
       "      <td>2/8/16</td>\n",
       "      <td>181156</td>\n",
       "      <td>1762.5</td>\n",
       "    </tr>\n",
       "  </tbody>\n",
       "</table>\n",
       "</div>"
      ],
      "text/plain": [
       "  TransactionID CustomerID CustomerDOB CustGender CustLocation  \\\n",
       "0            T1   C5841053     10/1/94          F   JAMSHEDPUR   \n",
       "1            T2   C2142763      4/4/57          M      JHAJJAR   \n",
       "2            T3   C4417068    26/11/96          F       MUMBAI   \n",
       "3            T4   C5342380     14/9/73          F       MUMBAI   \n",
       "4            T5   C9031234     24/3/88          F  NAVI MUMBAI   \n",
       "\n",
       "   CustAccountBalance TransactionDate  TransactionTime  \\\n",
       "0            17819.05          2/8/16           143207   \n",
       "1             2270.69          2/8/16           141858   \n",
       "2            17874.44          2/8/16           142712   \n",
       "3           866503.21          2/8/16           142714   \n",
       "4             6714.43          2/8/16           181156   \n",
       "\n",
       "   TransactionAmount (INR)  \n",
       "0                     25.0  \n",
       "1                  27999.0  \n",
       "2                    459.0  \n",
       "3                   2060.0  \n",
       "4                   1762.5  "
      ]
     },
     "execution_count": 5,
     "metadata": {},
     "output_type": "execute_result"
    }
   ],
   "source": [
    "# viewing the first 5 records of the raw dataset\n",
    "df.head()"
   ]
  },
  {
   "cell_type": "markdown",
   "id": "607e74f4-c716-42a4-9027-9b190ec9cad7",
   "metadata": {},
   "source": [
    "## `Checking the original shape of the dataset`"
   ]
  },
  {
   "cell_type": "code",
   "execution_count": 7,
   "id": "8e05f0b8-210e-405e-ad8b-9fa8710d8709",
   "metadata": {},
   "outputs": [
    {
     "data": {
      "text/plain": [
       "(1041614, 9)"
      ]
     },
     "execution_count": 7,
     "metadata": {},
     "output_type": "execute_result"
    }
   ],
   "source": [
    "df.shape"
   ]
  },
  {
   "cell_type": "markdown",
   "id": "04d4d74f-56bc-4a37-aa6a-caba5daab3ed",
   "metadata": {},
   "source": [
    "_This indicates that the DataFrame named `df` contains:_\n",
    "- **1,041,614 rows**\n",
    "- **9 columns**\n",
    "\n",
    "---"
   ]
  },
  {
   "cell_type": "markdown",
   "id": "95d852eb-b9ac-4e83-86a3-f6df1745a38b",
   "metadata": {},
   "source": [
    "## Checking for missing values, the variable data types, and the number columns in the dataset"
   ]
  },
  {
   "cell_type": "code",
   "execution_count": 10,
   "id": "8513632e-0622-4257-814d-12ad95d2f56e",
   "metadata": {},
   "outputs": [
    {
     "data": {
      "text/plain": [
       "TransactionID              0\n",
       "CustomerID                 0\n",
       "CustomerDOB                0\n",
       "CustGender                 0\n",
       "CustLocation               0\n",
       "CustAccountBalance         0\n",
       "TransactionDate            0\n",
       "TransactionTime            0\n",
       "TransactionAmount (INR)    0\n",
       "dtype: int64"
      ]
     },
     "execution_count": 10,
     "metadata": {},
     "output_type": "execute_result"
    }
   ],
   "source": [
    "df.isna().sum()"
   ]
  },
  {
   "cell_type": "markdown",
   "id": "bed4fb77-f647-4c72-95b8-fc79a7d744a2",
   "metadata": {},
   "source": [
    "_This shows that there are no missing values in the dataset._\n",
    "\n",
    "---"
   ]
  },
  {
   "cell_type": "code",
   "execution_count": 12,
   "id": "8ca60dd3-ea36-4dde-bd5b-a4424c924ddd",
   "metadata": {},
   "outputs": [
    {
     "name": "stdout",
     "output_type": "stream",
     "text": [
      "<class 'pandas.core.frame.DataFrame'>\n",
      "RangeIndex: 1041614 entries, 0 to 1041613\n",
      "Data columns (total 9 columns):\n",
      " #   Column                   Non-Null Count    Dtype  \n",
      "---  ------                   --------------    -----  \n",
      " 0   TransactionID            1041614 non-null  object \n",
      " 1   CustomerID               1041614 non-null  object \n",
      " 2   CustomerDOB              1041614 non-null  object \n",
      " 3   CustGender               1041614 non-null  object \n",
      " 4   CustLocation             1041614 non-null  object \n",
      " 5   CustAccountBalance       1041614 non-null  float64\n",
      " 6   TransactionDate          1041614 non-null  object \n",
      " 7   TransactionTime          1041614 non-null  int64  \n",
      " 8   TransactionAmount (INR)  1041614 non-null  float64\n",
      "dtypes: float64(2), int64(1), object(6)\n",
      "memory usage: 71.5+ MB\n"
     ]
    }
   ],
   "source": [
    "df.info()"
   ]
  },
  {
   "cell_type": "markdown",
   "id": "faf3ab4b-7a36-4b75-b609-9b5a821099d4",
   "metadata": {},
   "source": [
    "### Data Quality Overview\n",
    "\n",
    "All columns contain 1,041,614 entries, indicating that there are no missing values in the dataset. However, the `CustomerDOB` and `TransactionDate` columns appear to have incorrect data types. These should be corrected to ensure proper handling and analysis of date-related information.\n",
    "\n",
    "---"
   ]
  },
  {
   "cell_type": "code",
   "execution_count": 14,
   "id": "21b94eb7-1f3b-4442-a7f9-c360a72184fa",
   "metadata": {},
   "outputs": [
    {
     "name": "stderr",
     "output_type": "stream",
     "text": [
      "C:\\Users\\user\\AppData\\Local\\Temp\\ipykernel_13916\\560733132.py:1: UserWarning: Could not infer format, so each element will be parsed individually, falling back to `dateutil`. To ensure parsing is consistent and as-expected, please specify a format.\n",
      "  df['CustomerDOB'] = pd.to_datetime(df['CustomerDOB'])\n",
      "C:\\Users\\user\\AppData\\Local\\Temp\\ipykernel_13916\\560733132.py:2: UserWarning: Could not infer format, so each element will be parsed individually, falling back to `dateutil`. To ensure parsing is consistent and as-expected, please specify a format.\n",
      "  df['TransactionDate'] = pd.to_datetime(df['TransactionDate'])\n"
     ]
    }
   ],
   "source": [
    "df['CustomerDOB'] = pd.to_datetime(df['CustomerDOB'])\n",
    "df['TransactionDate'] = pd.to_datetime(df['TransactionDate'])"
   ]
  },
  {
   "cell_type": "code",
   "execution_count": 15,
   "id": "8c403a43-8007-45b5-a8f4-ba91cc821dfb",
   "metadata": {},
   "outputs": [
    {
     "name": "stdout",
     "output_type": "stream",
     "text": [
      "<class 'pandas.core.frame.DataFrame'>\n",
      "RangeIndex: 1041614 entries, 0 to 1041613\n",
      "Data columns (total 9 columns):\n",
      " #   Column                   Non-Null Count    Dtype         \n",
      "---  ------                   --------------    -----         \n",
      " 0   TransactionID            1041614 non-null  object        \n",
      " 1   CustomerID               1041614 non-null  object        \n",
      " 2   CustomerDOB              1041614 non-null  datetime64[ns]\n",
      " 3   CustGender               1041614 non-null  object        \n",
      " 4   CustLocation             1041614 non-null  object        \n",
      " 5   CustAccountBalance       1041614 non-null  float64       \n",
      " 6   TransactionDate          1041614 non-null  datetime64[ns]\n",
      " 7   TransactionTime          1041614 non-null  int64         \n",
      " 8   TransactionAmount (INR)  1041614 non-null  float64       \n",
      "dtypes: datetime64[ns](2), float64(2), int64(1), object(4)\n",
      "memory usage: 71.5+ MB\n"
     ]
    }
   ],
   "source": [
    "df.info()"
   ]
  },
  {
   "cell_type": "markdown",
   "id": "fb1ba253-aa9d-4d2b-9267-643d48ada040",
   "metadata": {},
   "source": [
    "_Both **CustomerDOB** and **TransactionDate** has now been converted to an appropriate datatype_\n",
    "\n",
    "---"
   ]
  },
  {
   "cell_type": "code",
   "execution_count": 17,
   "id": "ca6c70a7-de40-4d91-a41b-85d2942bba26",
   "metadata": {},
   "outputs": [],
   "source": [
    "# Convert to datetime object and format it\n",
    "df['TransactionTime'] = df['TransactionTime'].apply(\n",
    "    lambda x: datetime.strptime(str(x).zfill(6), \"%H%M%S\").strftime(\"%H:%M:%S\"))"
   ]
  },
  {
   "cell_type": "markdown",
   "id": "ac0e2906-55a7-408e-8328-30ba9e256d89",
   "metadata": {},
   "source": [
    "### Calculating Age from Date of Birth with a feature en\n",
    "\n",
    "The following code computes the age of each customer based on their date of birth:"
   ]
  },
  {
   "cell_type": "code",
   "execution_count": 19,
   "id": "60305cd9-e485-47a8-ac31-dba995b4eca6",
   "metadata": {},
   "outputs": [],
   "source": [
    "today = date.today()\n",
    "formatted_date = today.strftime(\"%Y-%m-%d\")\n",
    "formatted_date = pd.to_datetime(formatted_date)\n",
    "df['Age'] = (formatted_date - df['CustomerDOB']).dt.days // 365"
   ]
  },
  {
   "cell_type": "markdown",
   "id": "30efad74-0bd7-414e-ae73-490e9f41c1d8",
   "metadata": {},
   "source": [
    "### Removing Age Outliers\n",
    "\n",
    "**_The following line of code removes rows from the dataset where the `Age` is either below 18 or above 110:_**"
   ]
  },
  {
   "cell_type": "code",
   "execution_count": 21,
   "id": "c23c53c2-4d43-476a-8c0d-abc1f6270ad5",
   "metadata": {},
   "outputs": [],
   "source": [
    "df.drop(df[(df['Age'] < 18) | (df['Age'] > 110)].index, inplace=True)"
   ]
  },
  {
   "cell_type": "markdown",
   "id": "8999f42e-ff99-4ff6-8d6c-e881dd623331",
   "metadata": {},
   "source": [
    "### Dataset Dimensions"
   ]
  },
  {
   "cell_type": "code",
   "execution_count": 23,
   "id": "d54ac2b9-d2fa-4d8a-b860-b4c8fd900856",
   "metadata": {},
   "outputs": [
    {
     "data": {
      "text/plain": [
       "(880345, 10)"
      ]
     },
     "execution_count": 23,
     "metadata": {},
     "output_type": "execute_result"
    }
   ],
   "source": [
    "df.shape  # This command returns the shape of the DataFrame:"
   ]
  },
  {
   "cell_type": "markdown",
   "id": "3a2a4aae-7b06-4615-89ad-3b94b9d93c9e",
   "metadata": {},
   "source": [
    "### Checking for Duplicate Records:"
   ]
  },
  {
   "cell_type": "code",
   "execution_count": 25,
   "id": "cf6c9087-3e7d-4efa-9dad-b3d117f45efa",
   "metadata": {},
   "outputs": [
    {
     "data": {
      "text/plain": [
       "0"
      ]
     },
     "execution_count": 25,
     "metadata": {},
     "output_type": "execute_result"
    }
   ],
   "source": [
    "df.duplicated().sum()  # This command counts the number of duplicate rows in the dataset:"
   ]
  },
  {
   "cell_type": "code",
   "execution_count": 26,
   "id": "c35d30b2-c540-4949-aa35-09105bbd9e24",
   "metadata": {},
   "outputs": [
    {
     "data": {
      "text/plain": [
       "(880345, 10)"
      ]
     },
     "execution_count": 26,
     "metadata": {},
     "output_type": "execute_result"
    }
   ],
   "source": [
    "df.shape"
   ]
  },
  {
   "cell_type": "code",
   "execution_count": 27,
   "id": "c2733a1c-c281-4f89-b960-2ebc7c308085",
   "metadata": {},
   "outputs": [
    {
     "data": {
      "text/html": [
       "<div>\n",
       "<style scoped>\n",
       "    .dataframe tbody tr th:only-of-type {\n",
       "        vertical-align: middle;\n",
       "    }\n",
       "\n",
       "    .dataframe tbody tr th {\n",
       "        vertical-align: top;\n",
       "    }\n",
       "\n",
       "    .dataframe thead th {\n",
       "        text-align: right;\n",
       "    }\n",
       "</style>\n",
       "<table border=\"1\" class=\"dataframe\">\n",
       "  <thead>\n",
       "    <tr style=\"text-align: right;\">\n",
       "      <th></th>\n",
       "      <th>TransactionID</th>\n",
       "      <th>CustomerID</th>\n",
       "      <th>CustomerDOB</th>\n",
       "      <th>CustGender</th>\n",
       "      <th>CustLocation</th>\n",
       "      <th>CustAccountBalance</th>\n",
       "      <th>TransactionDate</th>\n",
       "      <th>TransactionTime</th>\n",
       "      <th>TransactionAmount (INR)</th>\n",
       "      <th>Age</th>\n",
       "    </tr>\n",
       "  </thead>\n",
       "  <tbody>\n",
       "    <tr>\n",
       "      <th>0</th>\n",
       "      <td>T1</td>\n",
       "      <td>C5841053</td>\n",
       "      <td>1994-10-01</td>\n",
       "      <td>F</td>\n",
       "      <td>JAMSHEDPUR</td>\n",
       "      <td>17819.05</td>\n",
       "      <td>2016-02-08</td>\n",
       "      <td>14:32:07</td>\n",
       "      <td>25.0</td>\n",
       "      <td>31</td>\n",
       "    </tr>\n",
       "    <tr>\n",
       "      <th>2</th>\n",
       "      <td>T3</td>\n",
       "      <td>C4417068</td>\n",
       "      <td>1996-11-26</td>\n",
       "      <td>F</td>\n",
       "      <td>MUMBAI</td>\n",
       "      <td>17874.44</td>\n",
       "      <td>2016-02-08</td>\n",
       "      <td>14:27:12</td>\n",
       "      <td>459.0</td>\n",
       "      <td>28</td>\n",
       "    </tr>\n",
       "    <tr>\n",
       "      <th>4</th>\n",
       "      <td>T5</td>\n",
       "      <td>C9031234</td>\n",
       "      <td>1988-03-24</td>\n",
       "      <td>F</td>\n",
       "      <td>NAVI MUMBAI</td>\n",
       "      <td>6714.43</td>\n",
       "      <td>2016-02-08</td>\n",
       "      <td>18:11:56</td>\n",
       "      <td>1762.5</td>\n",
       "      <td>37</td>\n",
       "    </tr>\n",
       "    <tr>\n",
       "      <th>6</th>\n",
       "      <td>T7</td>\n",
       "      <td>C7126560</td>\n",
       "      <td>1992-01-26</td>\n",
       "      <td>F</td>\n",
       "      <td>MUMBAI</td>\n",
       "      <td>973.46</td>\n",
       "      <td>2016-02-08</td>\n",
       "      <td>17:38:06</td>\n",
       "      <td>566.0</td>\n",
       "      <td>33</td>\n",
       "    </tr>\n",
       "    <tr>\n",
       "      <th>7</th>\n",
       "      <td>T8</td>\n",
       "      <td>C1220223</td>\n",
       "      <td>1982-01-27</td>\n",
       "      <td>M</td>\n",
       "      <td>MUMBAI</td>\n",
       "      <td>95075.54</td>\n",
       "      <td>2016-02-08</td>\n",
       "      <td>17:05:37</td>\n",
       "      <td>148.0</td>\n",
       "      <td>43</td>\n",
       "    </tr>\n",
       "  </tbody>\n",
       "</table>\n",
       "</div>"
      ],
      "text/plain": [
       "  TransactionID CustomerID CustomerDOB CustGender CustLocation  \\\n",
       "0            T1   C5841053  1994-10-01          F   JAMSHEDPUR   \n",
       "2            T3   C4417068  1996-11-26          F       MUMBAI   \n",
       "4            T5   C9031234  1988-03-24          F  NAVI MUMBAI   \n",
       "6            T7   C7126560  1992-01-26          F       MUMBAI   \n",
       "7            T8   C1220223  1982-01-27          M       MUMBAI   \n",
       "\n",
       "   CustAccountBalance TransactionDate TransactionTime  \\\n",
       "0            17819.05      2016-02-08        14:32:07   \n",
       "2            17874.44      2016-02-08        14:27:12   \n",
       "4             6714.43      2016-02-08        18:11:56   \n",
       "6              973.46      2016-02-08        17:38:06   \n",
       "7            95075.54      2016-02-08        17:05:37   \n",
       "\n",
       "   TransactionAmount (INR)  Age  \n",
       "0                     25.0   31  \n",
       "2                    459.0   28  \n",
       "4                   1762.5   37  \n",
       "6                    566.0   33  \n",
       "7                    148.0   43  "
      ]
     },
     "execution_count": 27,
     "metadata": {},
     "output_type": "execute_result"
    }
   ],
   "source": [
    "df.head()"
   ]
  },
  {
   "cell_type": "markdown",
   "id": "62f77f8b-1353-42ef-bf19-f4d688cc2db6",
   "metadata": {},
   "source": [
    "## Extracting days, months, and years from the `CustDOB` and `TransactionDate`"
   ]
  },
  {
   "cell_type": "code",
   "execution_count": 29,
   "id": "edb34e16-79cd-4c13-b5b0-220e307b4a69",
   "metadata": {},
   "outputs": [],
   "source": [
    "df['CustomerBD'] = df['CustomerDOB'].dt.day\n",
    "df['CustomerBM'] = df['CustomerDOB'].dt.month\n",
    "df['CustomerBY'] = df['CustomerDOB'].dt.year\n",
    "\n",
    "df['TransactionDay'] = df['TransactionDate'].dt.day\n",
    "df['TransactionMonth'] = df['TransactionDate'].dt.month\n",
    "df['TransactionYear'] = df['TransactionDate'].dt.year"
   ]
  },
  {
   "cell_type": "code",
   "execution_count": 30,
   "id": "37c143de-634a-4da6-8298-262624d86162",
   "metadata": {},
   "outputs": [],
   "source": [
    "df.drop(columns=['CustomerDOB','TransactionDate'], inplace=True, axis=1)"
   ]
  },
  {
   "cell_type": "code",
   "execution_count": 31,
   "id": "ffa03eda-e240-4e43-9288-b29c13dc609b",
   "metadata": {},
   "outputs": [
    {
     "data": {
      "text/html": [
       "<div>\n",
       "<style scoped>\n",
       "    .dataframe tbody tr th:only-of-type {\n",
       "        vertical-align: middle;\n",
       "    }\n",
       "\n",
       "    .dataframe tbody tr th {\n",
       "        vertical-align: top;\n",
       "    }\n",
       "\n",
       "    .dataframe thead th {\n",
       "        text-align: right;\n",
       "    }\n",
       "</style>\n",
       "<table border=\"1\" class=\"dataframe\">\n",
       "  <thead>\n",
       "    <tr style=\"text-align: right;\">\n",
       "      <th></th>\n",
       "      <th>TransactionID</th>\n",
       "      <th>CustomerID</th>\n",
       "      <th>CustGender</th>\n",
       "      <th>CustLocation</th>\n",
       "      <th>CustAccountBalance</th>\n",
       "      <th>TransactionTime</th>\n",
       "      <th>TransactionAmount (INR)</th>\n",
       "      <th>Age</th>\n",
       "      <th>CustomerBD</th>\n",
       "      <th>CustomerBM</th>\n",
       "      <th>CustomerBY</th>\n",
       "      <th>TransactionDay</th>\n",
       "      <th>TransactionMonth</th>\n",
       "      <th>TransactionYear</th>\n",
       "    </tr>\n",
       "  </thead>\n",
       "  <tbody>\n",
       "    <tr>\n",
       "      <th>0</th>\n",
       "      <td>T1</td>\n",
       "      <td>C5841053</td>\n",
       "      <td>F</td>\n",
       "      <td>JAMSHEDPUR</td>\n",
       "      <td>17819.05</td>\n",
       "      <td>14:32:07</td>\n",
       "      <td>25.0</td>\n",
       "      <td>31</td>\n",
       "      <td>1</td>\n",
       "      <td>10</td>\n",
       "      <td>1994</td>\n",
       "      <td>8</td>\n",
       "      <td>2</td>\n",
       "      <td>2016</td>\n",
       "    </tr>\n",
       "    <tr>\n",
       "      <th>2</th>\n",
       "      <td>T3</td>\n",
       "      <td>C4417068</td>\n",
       "      <td>F</td>\n",
       "      <td>MUMBAI</td>\n",
       "      <td>17874.44</td>\n",
       "      <td>14:27:12</td>\n",
       "      <td>459.0</td>\n",
       "      <td>28</td>\n",
       "      <td>26</td>\n",
       "      <td>11</td>\n",
       "      <td>1996</td>\n",
       "      <td>8</td>\n",
       "      <td>2</td>\n",
       "      <td>2016</td>\n",
       "    </tr>\n",
       "    <tr>\n",
       "      <th>4</th>\n",
       "      <td>T5</td>\n",
       "      <td>C9031234</td>\n",
       "      <td>F</td>\n",
       "      <td>NAVI MUMBAI</td>\n",
       "      <td>6714.43</td>\n",
       "      <td>18:11:56</td>\n",
       "      <td>1762.5</td>\n",
       "      <td>37</td>\n",
       "      <td>24</td>\n",
       "      <td>3</td>\n",
       "      <td>1988</td>\n",
       "      <td>8</td>\n",
       "      <td>2</td>\n",
       "      <td>2016</td>\n",
       "    </tr>\n",
       "    <tr>\n",
       "      <th>6</th>\n",
       "      <td>T7</td>\n",
       "      <td>C7126560</td>\n",
       "      <td>F</td>\n",
       "      <td>MUMBAI</td>\n",
       "      <td>973.46</td>\n",
       "      <td>17:38:06</td>\n",
       "      <td>566.0</td>\n",
       "      <td>33</td>\n",
       "      <td>26</td>\n",
       "      <td>1</td>\n",
       "      <td>1992</td>\n",
       "      <td>8</td>\n",
       "      <td>2</td>\n",
       "      <td>2016</td>\n",
       "    </tr>\n",
       "    <tr>\n",
       "      <th>7</th>\n",
       "      <td>T8</td>\n",
       "      <td>C1220223</td>\n",
       "      <td>M</td>\n",
       "      <td>MUMBAI</td>\n",
       "      <td>95075.54</td>\n",
       "      <td>17:05:37</td>\n",
       "      <td>148.0</td>\n",
       "      <td>43</td>\n",
       "      <td>27</td>\n",
       "      <td>1</td>\n",
       "      <td>1982</td>\n",
       "      <td>8</td>\n",
       "      <td>2</td>\n",
       "      <td>2016</td>\n",
       "    </tr>\n",
       "  </tbody>\n",
       "</table>\n",
       "</div>"
      ],
      "text/plain": [
       "  TransactionID CustomerID CustGender CustLocation  CustAccountBalance  \\\n",
       "0            T1   C5841053          F   JAMSHEDPUR            17819.05   \n",
       "2            T3   C4417068          F       MUMBAI            17874.44   \n",
       "4            T5   C9031234          F  NAVI MUMBAI             6714.43   \n",
       "6            T7   C7126560          F       MUMBAI              973.46   \n",
       "7            T8   C1220223          M       MUMBAI            95075.54   \n",
       "\n",
       "  TransactionTime  TransactionAmount (INR)  Age  CustomerBD  CustomerBM  \\\n",
       "0        14:32:07                     25.0   31           1          10   \n",
       "2        14:27:12                    459.0   28          26          11   \n",
       "4        18:11:56                   1762.5   37          24           3   \n",
       "6        17:38:06                    566.0   33          26           1   \n",
       "7        17:05:37                    148.0   43          27           1   \n",
       "\n",
       "   CustomerBY  TransactionDay  TransactionMonth  TransactionYear  \n",
       "0        1994               8                 2             2016  \n",
       "2        1996               8                 2             2016  \n",
       "4        1988               8                 2             2016  \n",
       "6        1992               8                 2             2016  \n",
       "7        1982               8                 2             2016  "
      ]
     },
     "execution_count": 31,
     "metadata": {},
     "output_type": "execute_result"
    }
   ],
   "source": [
    "df.head()"
   ]
  },
  {
   "cell_type": "code",
   "execution_count": 32,
   "id": "f58e0d2f-712f-407a-bb80-f75a7501f2c4",
   "metadata": {},
   "outputs": [
    {
     "data": {
      "text/html": [
       "<div>\n",
       "<style scoped>\n",
       "    .dataframe tbody tr th:only-of-type {\n",
       "        vertical-align: middle;\n",
       "    }\n",
       "\n",
       "    .dataframe tbody tr th {\n",
       "        vertical-align: top;\n",
       "    }\n",
       "\n",
       "    .dataframe thead th {\n",
       "        text-align: right;\n",
       "    }\n",
       "</style>\n",
       "<table border=\"1\" class=\"dataframe\">\n",
       "  <thead>\n",
       "    <tr style=\"text-align: right;\">\n",
       "      <th></th>\n",
       "      <th>TransactionID</th>\n",
       "      <th>CustomerID</th>\n",
       "      <th>CustGender</th>\n",
       "      <th>CustLocation</th>\n",
       "      <th>CustAccountBalance</th>\n",
       "      <th>TransactionTime</th>\n",
       "      <th>TransactionAmount (INR)</th>\n",
       "      <th>Age</th>\n",
       "      <th>CustomerBD</th>\n",
       "      <th>CustomerBM</th>\n",
       "      <th>CustomerBY</th>\n",
       "      <th>TransactionDay</th>\n",
       "      <th>TransactionMonth</th>\n",
       "      <th>TransactionYear</th>\n",
       "    </tr>\n",
       "  </thead>\n",
       "  <tbody>\n",
       "    <tr>\n",
       "      <th>count</th>\n",
       "      <td>880345</td>\n",
       "      <td>880345</td>\n",
       "      <td>880345</td>\n",
       "      <td>880345</td>\n",
       "      <td>8.803450e+05</td>\n",
       "      <td>880345</td>\n",
       "      <td>8.803450e+05</td>\n",
       "      <td>880345.000000</td>\n",
       "      <td>880345.000000</td>\n",
       "      <td>880345.000000</td>\n",
       "      <td>880345.000000</td>\n",
       "      <td>880345.000000</td>\n",
       "      <td>880345.000000</td>\n",
       "      <td>880345.0</td>\n",
       "    </tr>\n",
       "    <tr>\n",
       "      <th>unique</th>\n",
       "      <td>880345</td>\n",
       "      <td>761832</td>\n",
       "      <td>2</td>\n",
       "      <td>7493</td>\n",
       "      <td>NaN</td>\n",
       "      <td>80720</td>\n",
       "      <td>NaN</td>\n",
       "      <td>NaN</td>\n",
       "      <td>NaN</td>\n",
       "      <td>NaN</td>\n",
       "      <td>NaN</td>\n",
       "      <td>NaN</td>\n",
       "      <td>NaN</td>\n",
       "      <td>NaN</td>\n",
       "    </tr>\n",
       "    <tr>\n",
       "      <th>top</th>\n",
       "      <td>T1</td>\n",
       "      <td>C6222360</td>\n",
       "      <td>M</td>\n",
       "      <td>MUMBAI</td>\n",
       "      <td>NaN</td>\n",
       "      <td>20:32:01</td>\n",
       "      <td>NaN</td>\n",
       "      <td>NaN</td>\n",
       "      <td>NaN</td>\n",
       "      <td>NaN</td>\n",
       "      <td>NaN</td>\n",
       "      <td>NaN</td>\n",
       "      <td>NaN</td>\n",
       "      <td>NaN</td>\n",
       "    </tr>\n",
       "    <tr>\n",
       "      <th>freq</th>\n",
       "      <td>1</td>\n",
       "      <td>6</td>\n",
       "      <td>636215</td>\n",
       "      <td>86339</td>\n",
       "      <td>NaN</td>\n",
       "      <td>44</td>\n",
       "      <td>NaN</td>\n",
       "      <td>NaN</td>\n",
       "      <td>NaN</td>\n",
       "      <td>NaN</td>\n",
       "      <td>NaN</td>\n",
       "      <td>NaN</td>\n",
       "      <td>NaN</td>\n",
       "      <td>NaN</td>\n",
       "    </tr>\n",
       "    <tr>\n",
       "      <th>mean</th>\n",
       "      <td>NaN</td>\n",
       "      <td>NaN</td>\n",
       "      <td>NaN</td>\n",
       "      <td>NaN</td>\n",
       "      <td>7.702449e+04</td>\n",
       "      <td>NaN</td>\n",
       "      <td>1.270698e+03</td>\n",
       "      <td>37.526539</td>\n",
       "      <td>15.018276</td>\n",
       "      <td>6.462988</td>\n",
       "      <td>1987.286916</td>\n",
       "      <td>14.367757</td>\n",
       "      <td>7.340737</td>\n",
       "      <td>2016.0</td>\n",
       "    </tr>\n",
       "    <tr>\n",
       "      <th>std</th>\n",
       "      <td>NaN</td>\n",
       "      <td>NaN</td>\n",
       "      <td>NaN</td>\n",
       "      <td>NaN</td>\n",
       "      <td>3.525295e+05</td>\n",
       "      <td>NaN</td>\n",
       "      <td>5.404438e+03</td>\n",
       "      <td>5.167822</td>\n",
       "      <td>8.798732</td>\n",
       "      <td>3.458968</td>\n",
       "      <td>5.158323</td>\n",
       "      <td>7.273518</td>\n",
       "      <td>2.641618</td>\n",
       "      <td>0.0</td>\n",
       "    </tr>\n",
       "    <tr>\n",
       "      <th>min</th>\n",
       "      <td>NaN</td>\n",
       "      <td>NaN</td>\n",
       "      <td>NaN</td>\n",
       "      <td>NaN</td>\n",
       "      <td>0.000000e+00</td>\n",
       "      <td>NaN</td>\n",
       "      <td>0.000000e+00</td>\n",
       "      <td>18.000000</td>\n",
       "      <td>1.000000</td>\n",
       "      <td>1.000000</td>\n",
       "      <td>1975.000000</td>\n",
       "      <td>8.000000</td>\n",
       "      <td>1.000000</td>\n",
       "      <td>2016.0</td>\n",
       "    </tr>\n",
       "    <tr>\n",
       "      <th>25%</th>\n",
       "      <td>NaN</td>\n",
       "      <td>NaN</td>\n",
       "      <td>NaN</td>\n",
       "      <td>NaN</td>\n",
       "      <td>4.204130e+03</td>\n",
       "      <td>NaN</td>\n",
       "      <td>1.460000e+02</td>\n",
       "      <td>34.000000</td>\n",
       "      <td>7.000000</td>\n",
       "      <td>3.000000</td>\n",
       "      <td>1984.000000</td>\n",
       "      <td>8.000000</td>\n",
       "      <td>6.000000</td>\n",
       "      <td>2016.0</td>\n",
       "    </tr>\n",
       "    <tr>\n",
       "      <th>50%</th>\n",
       "      <td>NaN</td>\n",
       "      <td>NaN</td>\n",
       "      <td>NaN</td>\n",
       "      <td>NaN</td>\n",
       "      <td>1.447911e+04</td>\n",
       "      <td>NaN</td>\n",
       "      <td>3.950000e+02</td>\n",
       "      <td>37.000000</td>\n",
       "      <td>15.000000</td>\n",
       "      <td>7.000000</td>\n",
       "      <td>1988.000000</td>\n",
       "      <td>9.000000</td>\n",
       "      <td>8.000000</td>\n",
       "      <td>2016.0</td>\n",
       "    </tr>\n",
       "    <tr>\n",
       "      <th>75%</th>\n",
       "      <td>NaN</td>\n",
       "      <td>NaN</td>\n",
       "      <td>NaN</td>\n",
       "      <td>NaN</td>\n",
       "      <td>4.630067e+04</td>\n",
       "      <td>NaN</td>\n",
       "      <td>1.000000e+03</td>\n",
       "      <td>41.000000</td>\n",
       "      <td>22.000000</td>\n",
       "      <td>9.000000</td>\n",
       "      <td>1991.000000</td>\n",
       "      <td>20.000000</td>\n",
       "      <td>9.000000</td>\n",
       "      <td>2016.0</td>\n",
       "    </tr>\n",
       "    <tr>\n",
       "      <th>max</th>\n",
       "      <td>NaN</td>\n",
       "      <td>NaN</td>\n",
       "      <td>NaN</td>\n",
       "      <td>NaN</td>\n",
       "      <td>4.316556e+07</td>\n",
       "      <td>NaN</td>\n",
       "      <td>1.560035e+06</td>\n",
       "      <td>50.000000</td>\n",
       "      <td>31.000000</td>\n",
       "      <td>12.000000</td>\n",
       "      <td>2007.000000</td>\n",
       "      <td>31.000000</td>\n",
       "      <td>12.000000</td>\n",
       "      <td>2016.0</td>\n",
       "    </tr>\n",
       "  </tbody>\n",
       "</table>\n",
       "</div>"
      ],
      "text/plain": [
       "       TransactionID CustomerID CustGender CustLocation  CustAccountBalance  \\\n",
       "count         880345     880345     880345       880345        8.803450e+05   \n",
       "unique        880345     761832          2         7493                 NaN   \n",
       "top               T1   C6222360          M       MUMBAI                 NaN   \n",
       "freq               1          6     636215        86339                 NaN   \n",
       "mean             NaN        NaN        NaN          NaN        7.702449e+04   \n",
       "std              NaN        NaN        NaN          NaN        3.525295e+05   \n",
       "min              NaN        NaN        NaN          NaN        0.000000e+00   \n",
       "25%              NaN        NaN        NaN          NaN        4.204130e+03   \n",
       "50%              NaN        NaN        NaN          NaN        1.447911e+04   \n",
       "75%              NaN        NaN        NaN          NaN        4.630067e+04   \n",
       "max              NaN        NaN        NaN          NaN        4.316556e+07   \n",
       "\n",
       "       TransactionTime  TransactionAmount (INR)            Age     CustomerBD  \\\n",
       "count           880345             8.803450e+05  880345.000000  880345.000000   \n",
       "unique           80720                      NaN            NaN            NaN   \n",
       "top           20:32:01                      NaN            NaN            NaN   \n",
       "freq                44                      NaN            NaN            NaN   \n",
       "mean               NaN             1.270698e+03      37.526539      15.018276   \n",
       "std                NaN             5.404438e+03       5.167822       8.798732   \n",
       "min                NaN             0.000000e+00      18.000000       1.000000   \n",
       "25%                NaN             1.460000e+02      34.000000       7.000000   \n",
       "50%                NaN             3.950000e+02      37.000000      15.000000   \n",
       "75%                NaN             1.000000e+03      41.000000      22.000000   \n",
       "max                NaN             1.560035e+06      50.000000      31.000000   \n",
       "\n",
       "           CustomerBM     CustomerBY  TransactionDay  TransactionMonth  \\\n",
       "count   880345.000000  880345.000000   880345.000000     880345.000000   \n",
       "unique            NaN            NaN             NaN               NaN   \n",
       "top               NaN            NaN             NaN               NaN   \n",
       "freq              NaN            NaN             NaN               NaN   \n",
       "mean         6.462988    1987.286916       14.367757          7.340737   \n",
       "std          3.458968       5.158323        7.273518          2.641618   \n",
       "min          1.000000    1975.000000        8.000000          1.000000   \n",
       "25%          3.000000    1984.000000        8.000000          6.000000   \n",
       "50%          7.000000    1988.000000        9.000000          8.000000   \n",
       "75%          9.000000    1991.000000       20.000000          9.000000   \n",
       "max         12.000000    2007.000000       31.000000         12.000000   \n",
       "\n",
       "        TransactionYear  \n",
       "count          880345.0  \n",
       "unique              NaN  \n",
       "top                 NaN  \n",
       "freq                NaN  \n",
       "mean             2016.0  \n",
       "std                 0.0  \n",
       "min              2016.0  \n",
       "25%              2016.0  \n",
       "50%              2016.0  \n",
       "75%              2016.0  \n",
       "max              2016.0  "
      ]
     },
     "execution_count": 32,
     "metadata": {},
     "output_type": "execute_result"
    }
   ],
   "source": [
    "df.describe(include='all')"
   ]
  },
  {
   "cell_type": "code",
   "execution_count": 33,
   "id": "1f561818-051c-47f2-94f6-e328b8625de7",
   "metadata": {},
   "outputs": [],
   "source": [
    "X = df.copy()"
   ]
  },
  {
   "cell_type": "code",
   "execution_count": 34,
   "id": "c245b538-966c-438d-879f-0fc770e1f207",
   "metadata": {},
   "outputs": [
    {
     "data": {
      "text/html": [
       "<div>\n",
       "<style scoped>\n",
       "    .dataframe tbody tr th:only-of-type {\n",
       "        vertical-align: middle;\n",
       "    }\n",
       "\n",
       "    .dataframe tbody tr th {\n",
       "        vertical-align: top;\n",
       "    }\n",
       "\n",
       "    .dataframe thead th {\n",
       "        text-align: right;\n",
       "    }\n",
       "</style>\n",
       "<table border=\"1\" class=\"dataframe\">\n",
       "  <thead>\n",
       "    <tr style=\"text-align: right;\">\n",
       "      <th></th>\n",
       "      <th>TransactionID</th>\n",
       "      <th>CustomerID</th>\n",
       "      <th>CustGender</th>\n",
       "      <th>CustLocation</th>\n",
       "      <th>CustAccountBalance</th>\n",
       "      <th>TransactionTime</th>\n",
       "      <th>TransactionAmount (INR)</th>\n",
       "      <th>Age</th>\n",
       "      <th>CustomerBD</th>\n",
       "      <th>CustomerBM</th>\n",
       "      <th>CustomerBY</th>\n",
       "      <th>TransactionDay</th>\n",
       "      <th>TransactionMonth</th>\n",
       "      <th>TransactionYear</th>\n",
       "    </tr>\n",
       "  </thead>\n",
       "  <tbody>\n",
       "    <tr>\n",
       "      <th>0</th>\n",
       "      <td>T1</td>\n",
       "      <td>C5841053</td>\n",
       "      <td>F</td>\n",
       "      <td>JAMSHEDPUR</td>\n",
       "      <td>17819.05</td>\n",
       "      <td>14:32:07</td>\n",
       "      <td>25.0</td>\n",
       "      <td>31</td>\n",
       "      <td>1</td>\n",
       "      <td>10</td>\n",
       "      <td>1994</td>\n",
       "      <td>8</td>\n",
       "      <td>2</td>\n",
       "      <td>2016</td>\n",
       "    </tr>\n",
       "    <tr>\n",
       "      <th>2</th>\n",
       "      <td>T3</td>\n",
       "      <td>C4417068</td>\n",
       "      <td>F</td>\n",
       "      <td>MUMBAI</td>\n",
       "      <td>17874.44</td>\n",
       "      <td>14:27:12</td>\n",
       "      <td>459.0</td>\n",
       "      <td>28</td>\n",
       "      <td>26</td>\n",
       "      <td>11</td>\n",
       "      <td>1996</td>\n",
       "      <td>8</td>\n",
       "      <td>2</td>\n",
       "      <td>2016</td>\n",
       "    </tr>\n",
       "  </tbody>\n",
       "</table>\n",
       "</div>"
      ],
      "text/plain": [
       "  TransactionID CustomerID CustGender CustLocation  CustAccountBalance  \\\n",
       "0            T1   C5841053          F   JAMSHEDPUR            17819.05   \n",
       "2            T3   C4417068          F       MUMBAI            17874.44   \n",
       "\n",
       "  TransactionTime  TransactionAmount (INR)  Age  CustomerBD  CustomerBM  \\\n",
       "0        14:32:07                     25.0   31           1          10   \n",
       "2        14:27:12                    459.0   28          26          11   \n",
       "\n",
       "   CustomerBY  TransactionDay  TransactionMonth  TransactionYear  \n",
       "0        1994               8                 2             2016  \n",
       "2        1996               8                 2             2016  "
      ]
     },
     "execution_count": 34,
     "metadata": {},
     "output_type": "execute_result"
    }
   ],
   "source": [
    "X.head(2)"
   ]
  },
  {
   "cell_type": "code",
   "execution_count": 35,
   "id": "72e0bfa5-c8e7-4189-83ed-b605bb6618c8",
   "metadata": {},
   "outputs": [
    {
     "data": {
      "text/plain": [
       "(880345, 14)"
      ]
     },
     "execution_count": 35,
     "metadata": {},
     "output_type": "execute_result"
    }
   ],
   "source": [
    "X.shape"
   ]
  },
  {
   "cell_type": "markdown",
   "id": "17567210-b70d-46c5-9233-2d2887bc6fe4",
   "metadata": {},
   "source": [
    "## Dropping the irrelevant columns"
   ]
  },
  {
   "cell_type": "code",
   "execution_count": 37,
   "id": "e6ce4efc-f01e-4c55-9855-36bf9439b16f",
   "metadata": {},
   "outputs": [],
   "source": [
    "X.drop(columns=['TransactionID', 'CustomerID'], inplace=True, axis=1)"
   ]
  },
  {
   "cell_type": "code",
   "execution_count": 38,
   "id": "75a708ee-f481-4376-b4e6-94ba0545fb03",
   "metadata": {},
   "outputs": [
    {
     "data": {
      "text/plain": [
       "(880345, 12)"
      ]
     },
     "execution_count": 38,
     "metadata": {},
     "output_type": "execute_result"
    }
   ],
   "source": [
    "X.shape"
   ]
  },
  {
   "cell_type": "code",
   "execution_count": 39,
   "id": "1a28fc01-93c9-4693-aff7-25803af35826",
   "metadata": {},
   "outputs": [
    {
     "data": {
      "text/html": [
       "<div>\n",
       "<style scoped>\n",
       "    .dataframe tbody tr th:only-of-type {\n",
       "        vertical-align: middle;\n",
       "    }\n",
       "\n",
       "    .dataframe tbody tr th {\n",
       "        vertical-align: top;\n",
       "    }\n",
       "\n",
       "    .dataframe thead th {\n",
       "        text-align: right;\n",
       "    }\n",
       "</style>\n",
       "<table border=\"1\" class=\"dataframe\">\n",
       "  <thead>\n",
       "    <tr style=\"text-align: right;\">\n",
       "      <th></th>\n",
       "      <th>CustGender</th>\n",
       "      <th>CustLocation</th>\n",
       "      <th>CustAccountBalance</th>\n",
       "      <th>TransactionTime</th>\n",
       "      <th>TransactionAmount (INR)</th>\n",
       "      <th>Age</th>\n",
       "      <th>CustomerBD</th>\n",
       "      <th>CustomerBM</th>\n",
       "      <th>CustomerBY</th>\n",
       "      <th>TransactionDay</th>\n",
       "      <th>TransactionMonth</th>\n",
       "      <th>TransactionYear</th>\n",
       "    </tr>\n",
       "  </thead>\n",
       "  <tbody>\n",
       "    <tr>\n",
       "      <th>0</th>\n",
       "      <td>F</td>\n",
       "      <td>JAMSHEDPUR</td>\n",
       "      <td>17819.05</td>\n",
       "      <td>14:32:07</td>\n",
       "      <td>25.0</td>\n",
       "      <td>31</td>\n",
       "      <td>1</td>\n",
       "      <td>10</td>\n",
       "      <td>1994</td>\n",
       "      <td>8</td>\n",
       "      <td>2</td>\n",
       "      <td>2016</td>\n",
       "    </tr>\n",
       "    <tr>\n",
       "      <th>2</th>\n",
       "      <td>F</td>\n",
       "      <td>MUMBAI</td>\n",
       "      <td>17874.44</td>\n",
       "      <td>14:27:12</td>\n",
       "      <td>459.0</td>\n",
       "      <td>28</td>\n",
       "      <td>26</td>\n",
       "      <td>11</td>\n",
       "      <td>1996</td>\n",
       "      <td>8</td>\n",
       "      <td>2</td>\n",
       "      <td>2016</td>\n",
       "    </tr>\n",
       "  </tbody>\n",
       "</table>\n",
       "</div>"
      ],
      "text/plain": [
       "  CustGender CustLocation  CustAccountBalance TransactionTime  \\\n",
       "0          F   JAMSHEDPUR            17819.05        14:32:07   \n",
       "2          F       MUMBAI            17874.44        14:27:12   \n",
       "\n",
       "   TransactionAmount (INR)  Age  CustomerBD  CustomerBM  CustomerBY  \\\n",
       "0                     25.0   31           1          10        1994   \n",
       "2                    459.0   28          26          11        1996   \n",
       "\n",
       "   TransactionDay  TransactionMonth  TransactionYear  \n",
       "0               8                 2             2016  \n",
       "2               8                 2             2016  "
      ]
     },
     "execution_count": 39,
     "metadata": {},
     "output_type": "execute_result"
    }
   ],
   "source": [
    "X.head(2)"
   ]
  },
  {
   "cell_type": "markdown",
   "id": "bba3c25d-72a0-4e70-b3aa-8160986af41c",
   "metadata": {},
   "source": [
    "## Encoding"
   ]
  },
  {
   "cell_type": "code",
   "execution_count": 41,
   "id": "9f06c288-3ddb-47f5-9878-8240592744d6",
   "metadata": {},
   "outputs": [],
   "source": [
    "from sklearn.preprocessing import OneHotEncoder\n",
    "from sklearn.preprocessing import LabelEncoder"
   ]
  },
  {
   "cell_type": "code",
   "execution_count": 42,
   "id": "43d6f38c-005a-4168-a95d-18492ec180c8",
   "metadata": {},
   "outputs": [],
   "source": [
    "X['CustGender'] = pd.get_dummies(X['CustGender'], drop_first=True, dtype=int)"
   ]
  },
  {
   "cell_type": "code",
   "execution_count": 43,
   "id": "a2bdabb0-f957-4af4-b374-56ab0a6fe1bb",
   "metadata": {},
   "outputs": [
    {
     "data": {
      "text/plain": [
       "CustGender\n",
       "1    636215\n",
       "0    244130\n",
       "Name: count, dtype: int64"
      ]
     },
     "execution_count": 43,
     "metadata": {},
     "output_type": "execute_result"
    }
   ],
   "source": [
    "X['CustGender'].value_counts()"
   ]
  },
  {
   "cell_type": "code",
   "execution_count": 44,
   "id": "66d549f6-20e5-4e59-a389-95ddff03c0db",
   "metadata": {},
   "outputs": [],
   "source": [
    "l_encoder = LabelEncoder()"
   ]
  },
  {
   "cell_type": "code",
   "execution_count": 45,
   "id": "ec8e7d5b-6371-4d40-9b5c-ddfc324998ff",
   "metadata": {},
   "outputs": [],
   "source": [
    "X['CustLocation'] = l_encoder.fit_transform(X['CustLocation'])"
   ]
  },
  {
   "cell_type": "code",
   "execution_count": 46,
   "id": "bd35b21b-d15d-4f70-be41-c97f5c7181a1",
   "metadata": {},
   "outputs": [],
   "source": [
    "X['TransactionTime'] = l_encoder.fit_transform(X['TransactionTime'])"
   ]
  },
  {
   "cell_type": "code",
   "execution_count": 47,
   "id": "7c4bebd0-7642-473d-a5bf-1b57447cf876",
   "metadata": {},
   "outputs": [
    {
     "data": {
      "text/html": [
       "<div>\n",
       "<style scoped>\n",
       "    .dataframe tbody tr th:only-of-type {\n",
       "        vertical-align: middle;\n",
       "    }\n",
       "\n",
       "    .dataframe tbody tr th {\n",
       "        vertical-align: top;\n",
       "    }\n",
       "\n",
       "    .dataframe thead th {\n",
       "        text-align: right;\n",
       "    }\n",
       "</style>\n",
       "<table border=\"1\" class=\"dataframe\">\n",
       "  <thead>\n",
       "    <tr style=\"text-align: right;\">\n",
       "      <th></th>\n",
       "      <th>CustGender</th>\n",
       "      <th>CustLocation</th>\n",
       "      <th>CustAccountBalance</th>\n",
       "      <th>TransactionTime</th>\n",
       "      <th>TransactionAmount (INR)</th>\n",
       "      <th>Age</th>\n",
       "      <th>CustomerBD</th>\n",
       "      <th>CustomerBM</th>\n",
       "      <th>CustomerBY</th>\n",
       "      <th>TransactionDay</th>\n",
       "      <th>TransactionMonth</th>\n",
       "      <th>TransactionYear</th>\n",
       "    </tr>\n",
       "  </thead>\n",
       "  <tbody>\n",
       "    <tr>\n",
       "      <th>0</th>\n",
       "      <td>0</td>\n",
       "      <td>2865</td>\n",
       "      <td>17819.05</td>\n",
       "      <td>46650</td>\n",
       "      <td>25.0</td>\n",
       "      <td>31</td>\n",
       "      <td>1</td>\n",
       "      <td>10</td>\n",
       "      <td>1994</td>\n",
       "      <td>8</td>\n",
       "      <td>2</td>\n",
       "      <td>2016</td>\n",
       "    </tr>\n",
       "    <tr>\n",
       "      <th>2</th>\n",
       "      <td>0</td>\n",
       "      <td>4250</td>\n",
       "      <td>17874.44</td>\n",
       "      <td>46355</td>\n",
       "      <td>459.0</td>\n",
       "      <td>28</td>\n",
       "      <td>26</td>\n",
       "      <td>11</td>\n",
       "      <td>1996</td>\n",
       "      <td>8</td>\n",
       "      <td>2</td>\n",
       "      <td>2016</td>\n",
       "    </tr>\n",
       "    <tr>\n",
       "      <th>4</th>\n",
       "      <td>0</td>\n",
       "      <td>4563</td>\n",
       "      <td>6714.43</td>\n",
       "      <td>59839</td>\n",
       "      <td>1762.5</td>\n",
       "      <td>37</td>\n",
       "      <td>24</td>\n",
       "      <td>3</td>\n",
       "      <td>1988</td>\n",
       "      <td>8</td>\n",
       "      <td>2</td>\n",
       "      <td>2016</td>\n",
       "    </tr>\n",
       "    <tr>\n",
       "      <th>6</th>\n",
       "      <td>0</td>\n",
       "      <td>4250</td>\n",
       "      <td>973.46</td>\n",
       "      <td>57809</td>\n",
       "      <td>566.0</td>\n",
       "      <td>33</td>\n",
       "      <td>26</td>\n",
       "      <td>1</td>\n",
       "      <td>1992</td>\n",
       "      <td>8</td>\n",
       "      <td>2</td>\n",
       "      <td>2016</td>\n",
       "    </tr>\n",
       "    <tr>\n",
       "      <th>7</th>\n",
       "      <td>1</td>\n",
       "      <td>4250</td>\n",
       "      <td>95075.54</td>\n",
       "      <td>55860</td>\n",
       "      <td>148.0</td>\n",
       "      <td>43</td>\n",
       "      <td>27</td>\n",
       "      <td>1</td>\n",
       "      <td>1982</td>\n",
       "      <td>8</td>\n",
       "      <td>2</td>\n",
       "      <td>2016</td>\n",
       "    </tr>\n",
       "  </tbody>\n",
       "</table>\n",
       "</div>"
      ],
      "text/plain": [
       "   CustGender  CustLocation  CustAccountBalance  TransactionTime  \\\n",
       "0           0          2865            17819.05            46650   \n",
       "2           0          4250            17874.44            46355   \n",
       "4           0          4563             6714.43            59839   \n",
       "6           0          4250              973.46            57809   \n",
       "7           1          4250            95075.54            55860   \n",
       "\n",
       "   TransactionAmount (INR)  Age  CustomerBD  CustomerBM  CustomerBY  \\\n",
       "0                     25.0   31           1          10        1994   \n",
       "2                    459.0   28          26          11        1996   \n",
       "4                   1762.5   37          24           3        1988   \n",
       "6                    566.0   33          26           1        1992   \n",
       "7                    148.0   43          27           1        1982   \n",
       "\n",
       "   TransactionDay  TransactionMonth  TransactionYear  \n",
       "0               8                 2             2016  \n",
       "2               8                 2             2016  \n",
       "4               8                 2             2016  \n",
       "6               8                 2             2016  \n",
       "7               8                 2             2016  "
      ]
     },
     "execution_count": 47,
     "metadata": {},
     "output_type": "execute_result"
    }
   ],
   "source": [
    "X.head()"
   ]
  },
  {
   "cell_type": "markdown",
   "id": "09bf6f7e-2a3c-494d-bd73-e173f13f7562",
   "metadata": {},
   "source": [
    "## Scaling"
   ]
  },
  {
   "cell_type": "code",
   "execution_count": 49,
   "id": "f5dc9596-f314-4293-bcae-a938d8200170",
   "metadata": {},
   "outputs": [
    {
     "data": {
      "text/plain": [
       "Index(['CustGender', 'CustLocation', 'CustAccountBalance', 'TransactionTime',\n",
       "       'TransactionAmount (INR)', 'Age', 'CustomerBD', 'CustomerBM',\n",
       "       'CustomerBY', 'TransactionDay', 'TransactionMonth', 'TransactionYear'],\n",
       "      dtype='object')"
      ]
     },
     "execution_count": 49,
     "metadata": {},
     "output_type": "execute_result"
    }
   ],
   "source": [
    "X.columns"
   ]
  },
  {
   "cell_type": "code",
   "execution_count": 50,
   "id": "48fe4e70-4ae7-4f89-b1a0-67d6013126f2",
   "metadata": {},
   "outputs": [],
   "source": [
    "col_to_scale = ['CustAccountBalance', 'TransactionAmount (INR)','Age' ]"
   ]
  },
  {
   "cell_type": "code",
   "execution_count": 51,
   "id": "90a3ea10-7e89-489e-adf0-00ddb7f02e65",
   "metadata": {},
   "outputs": [],
   "source": [
    "# fig, ax = plt.subplots(nrows=1, ncols=3, figsize=(4,2))\n",
    "# ax=ax.flatten()\n",
    "# for idx, col in enumerate(col_to_scale):\n",
    "#    sns.histplot(X[col], ax=ax[idx], color='teal', kde=True)\n",
    "#    ax[idx].set_title(f'Histogram for: {col}')\n",
    "# plt.tight_layout()\n",
    "# plt.show()"
   ]
  },
  {
   "cell_type": "code",
   "execution_count": 52,
   "id": "f0e0c614-da45-49f3-8920-b3fb4aa3c487",
   "metadata": {},
   "outputs": [
    {
     "data": {
      "text/html": [
       "<div>\n",
       "<style scoped>\n",
       "    .dataframe tbody tr th:only-of-type {\n",
       "        vertical-align: middle;\n",
       "    }\n",
       "\n",
       "    .dataframe tbody tr th {\n",
       "        vertical-align: top;\n",
       "    }\n",
       "\n",
       "    .dataframe thead th {\n",
       "        text-align: right;\n",
       "    }\n",
       "</style>\n",
       "<table border=\"1\" class=\"dataframe\">\n",
       "  <thead>\n",
       "    <tr style=\"text-align: right;\">\n",
       "      <th></th>\n",
       "      <th>CustGender</th>\n",
       "      <th>CustLocation</th>\n",
       "      <th>CustAccountBalance</th>\n",
       "      <th>TransactionTime</th>\n",
       "      <th>TransactionAmount (INR)</th>\n",
       "      <th>Age</th>\n",
       "      <th>CustomerBD</th>\n",
       "      <th>CustomerBM</th>\n",
       "      <th>CustomerBY</th>\n",
       "      <th>TransactionDay</th>\n",
       "      <th>TransactionMonth</th>\n",
       "      <th>TransactionYear</th>\n",
       "    </tr>\n",
       "  </thead>\n",
       "  <tbody>\n",
       "    <tr>\n",
       "      <th>count</th>\n",
       "      <td>880345.000000</td>\n",
       "      <td>880345.000000</td>\n",
       "      <td>8.803450e+05</td>\n",
       "      <td>880345.000000</td>\n",
       "      <td>8.803450e+05</td>\n",
       "      <td>880345.000000</td>\n",
       "      <td>880345.000000</td>\n",
       "      <td>880345.000000</td>\n",
       "      <td>880345.000000</td>\n",
       "      <td>880345.000000</td>\n",
       "      <td>880345.000000</td>\n",
       "      <td>880345.0</td>\n",
       "    </tr>\n",
       "    <tr>\n",
       "      <th>mean</th>\n",
       "      <td>0.722688</td>\n",
       "      <td>3302.806235</td>\n",
       "      <td>7.702449e+04</td>\n",
       "      <td>52005.065277</td>\n",
       "      <td>1.270698e+03</td>\n",
       "      <td>37.526539</td>\n",
       "      <td>15.018276</td>\n",
       "      <td>6.462988</td>\n",
       "      <td>1987.286916</td>\n",
       "      <td>14.367757</td>\n",
       "      <td>7.340737</td>\n",
       "      <td>2016.0</td>\n",
       "    </tr>\n",
       "    <tr>\n",
       "      <th>std</th>\n",
       "      <td>0.447672</td>\n",
       "      <td>1912.327222</td>\n",
       "      <td>3.525295e+05</td>\n",
       "      <td>18067.403107</td>\n",
       "      <td>5.404438e+03</td>\n",
       "      <td>5.167822</td>\n",
       "      <td>8.798732</td>\n",
       "      <td>3.458968</td>\n",
       "      <td>5.158323</td>\n",
       "      <td>7.273518</td>\n",
       "      <td>2.641618</td>\n",
       "      <td>0.0</td>\n",
       "    </tr>\n",
       "    <tr>\n",
       "      <th>min</th>\n",
       "      <td>0.000000</td>\n",
       "      <td>0.000000</td>\n",
       "      <td>0.000000e+00</td>\n",
       "      <td>0.000000</td>\n",
       "      <td>0.000000e+00</td>\n",
       "      <td>18.000000</td>\n",
       "      <td>1.000000</td>\n",
       "      <td>1.000000</td>\n",
       "      <td>1975.000000</td>\n",
       "      <td>8.000000</td>\n",
       "      <td>1.000000</td>\n",
       "      <td>2016.0</td>\n",
       "    </tr>\n",
       "    <tr>\n",
       "      <th>25%</th>\n",
       "      <td>0.000000</td>\n",
       "      <td>1666.000000</td>\n",
       "      <td>4.204130e+03</td>\n",
       "      <td>40107.000000</td>\n",
       "      <td>1.460000e+02</td>\n",
       "      <td>34.000000</td>\n",
       "      <td>7.000000</td>\n",
       "      <td>3.000000</td>\n",
       "      <td>1984.000000</td>\n",
       "      <td>8.000000</td>\n",
       "      <td>6.000000</td>\n",
       "      <td>2016.0</td>\n",
       "    </tr>\n",
       "    <tr>\n",
       "      <th>50%</th>\n",
       "      <td>1.000000</td>\n",
       "      <td>3210.000000</td>\n",
       "      <td>1.447911e+04</td>\n",
       "      <td>54919.000000</td>\n",
       "      <td>3.950000e+02</td>\n",
       "      <td>37.000000</td>\n",
       "      <td>15.000000</td>\n",
       "      <td>7.000000</td>\n",
       "      <td>1988.000000</td>\n",
       "      <td>9.000000</td>\n",
       "      <td>8.000000</td>\n",
       "      <td>2016.0</td>\n",
       "    </tr>\n",
       "    <tr>\n",
       "      <th>75%</th>\n",
       "      <td>1.000000</td>\n",
       "      <td>4653.000000</td>\n",
       "      <td>4.630067e+04</td>\n",
       "      <td>66623.000000</td>\n",
       "      <td>1.000000e+03</td>\n",
       "      <td>41.000000</td>\n",
       "      <td>22.000000</td>\n",
       "      <td>9.000000</td>\n",
       "      <td>1991.000000</td>\n",
       "      <td>20.000000</td>\n",
       "      <td>9.000000</td>\n",
       "      <td>2016.0</td>\n",
       "    </tr>\n",
       "    <tr>\n",
       "      <th>max</th>\n",
       "      <td>1.000000</td>\n",
       "      <td>7492.000000</td>\n",
       "      <td>4.316556e+07</td>\n",
       "      <td>80719.000000</td>\n",
       "      <td>1.560035e+06</td>\n",
       "      <td>50.000000</td>\n",
       "      <td>31.000000</td>\n",
       "      <td>12.000000</td>\n",
       "      <td>2007.000000</td>\n",
       "      <td>31.000000</td>\n",
       "      <td>12.000000</td>\n",
       "      <td>2016.0</td>\n",
       "    </tr>\n",
       "  </tbody>\n",
       "</table>\n",
       "</div>"
      ],
      "text/plain": [
       "          CustGender   CustLocation  CustAccountBalance  TransactionTime  \\\n",
       "count  880345.000000  880345.000000        8.803450e+05    880345.000000   \n",
       "mean        0.722688    3302.806235        7.702449e+04     52005.065277   \n",
       "std         0.447672    1912.327222        3.525295e+05     18067.403107   \n",
       "min         0.000000       0.000000        0.000000e+00         0.000000   \n",
       "25%         0.000000    1666.000000        4.204130e+03     40107.000000   \n",
       "50%         1.000000    3210.000000        1.447911e+04     54919.000000   \n",
       "75%         1.000000    4653.000000        4.630067e+04     66623.000000   \n",
       "max         1.000000    7492.000000        4.316556e+07     80719.000000   \n",
       "\n",
       "       TransactionAmount (INR)            Age     CustomerBD     CustomerBM  \\\n",
       "count             8.803450e+05  880345.000000  880345.000000  880345.000000   \n",
       "mean              1.270698e+03      37.526539      15.018276       6.462988   \n",
       "std               5.404438e+03       5.167822       8.798732       3.458968   \n",
       "min               0.000000e+00      18.000000       1.000000       1.000000   \n",
       "25%               1.460000e+02      34.000000       7.000000       3.000000   \n",
       "50%               3.950000e+02      37.000000      15.000000       7.000000   \n",
       "75%               1.000000e+03      41.000000      22.000000       9.000000   \n",
       "max               1.560035e+06      50.000000      31.000000      12.000000   \n",
       "\n",
       "          CustomerBY  TransactionDay  TransactionMonth  TransactionYear  \n",
       "count  880345.000000   880345.000000     880345.000000         880345.0  \n",
       "mean     1987.286916       14.367757          7.340737           2016.0  \n",
       "std         5.158323        7.273518          2.641618              0.0  \n",
       "min      1975.000000        8.000000          1.000000           2016.0  \n",
       "25%      1984.000000        8.000000          6.000000           2016.0  \n",
       "50%      1988.000000        9.000000          8.000000           2016.0  \n",
       "75%      1991.000000       20.000000          9.000000           2016.0  \n",
       "max      2007.000000       31.000000         12.000000           2016.0  "
      ]
     },
     "execution_count": 52,
     "metadata": {},
     "output_type": "execute_result"
    }
   ],
   "source": [
    "X.describe()"
   ]
  },
  {
   "cell_type": "code",
   "execution_count": 53,
   "id": "8cc945f3-f52b-4c6f-a15b-7076b9e1e4f9",
   "metadata": {},
   "outputs": [],
   "source": [
    "from sklearn.preprocessing import RobustScaler"
   ]
  },
  {
   "cell_type": "code",
   "execution_count": 54,
   "id": "06f99c15-0905-451f-a489-f51ed7b3464e",
   "metadata": {},
   "outputs": [],
   "source": [
    "s_scaler = RobustScaler()"
   ]
  },
  {
   "cell_type": "code",
   "execution_count": 55,
   "id": "87aff799-405c-4f85-aa1b-b83076310974",
   "metadata": {},
   "outputs": [],
   "source": [
    "X[col_to_scale] = s_scaler.fit_transform(X[col_to_scale])"
   ]
  },
  {
   "cell_type": "code",
   "execution_count": 56,
   "id": "fcc1740e-74b1-483b-b57d-2b19815d291b",
   "metadata": {},
   "outputs": [
    {
     "data": {
      "text/html": [
       "<div>\n",
       "<style scoped>\n",
       "    .dataframe tbody tr th:only-of-type {\n",
       "        vertical-align: middle;\n",
       "    }\n",
       "\n",
       "    .dataframe tbody tr th {\n",
       "        vertical-align: top;\n",
       "    }\n",
       "\n",
       "    .dataframe thead th {\n",
       "        text-align: right;\n",
       "    }\n",
       "</style>\n",
       "<table border=\"1\" class=\"dataframe\">\n",
       "  <thead>\n",
       "    <tr style=\"text-align: right;\">\n",
       "      <th></th>\n",
       "      <th>CustGender</th>\n",
       "      <th>CustLocation</th>\n",
       "      <th>CustAccountBalance</th>\n",
       "      <th>TransactionTime</th>\n",
       "      <th>TransactionAmount (INR)</th>\n",
       "      <th>Age</th>\n",
       "      <th>CustomerBD</th>\n",
       "      <th>CustomerBM</th>\n",
       "      <th>CustomerBY</th>\n",
       "      <th>TransactionDay</th>\n",
       "      <th>TransactionMonth</th>\n",
       "      <th>TransactionYear</th>\n",
       "    </tr>\n",
       "  </thead>\n",
       "  <tbody>\n",
       "    <tr>\n",
       "      <th>0</th>\n",
       "      <td>0</td>\n",
       "      <td>2865</td>\n",
       "      <td>0.079340</td>\n",
       "      <td>46650</td>\n",
       "      <td>-0.433255</td>\n",
       "      <td>-0.857143</td>\n",
       "      <td>1</td>\n",
       "      <td>10</td>\n",
       "      <td>1994</td>\n",
       "      <td>8</td>\n",
       "      <td>2</td>\n",
       "      <td>2016</td>\n",
       "    </tr>\n",
       "    <tr>\n",
       "      <th>2</th>\n",
       "      <td>0</td>\n",
       "      <td>4250</td>\n",
       "      <td>0.080656</td>\n",
       "      <td>46355</td>\n",
       "      <td>0.074941</td>\n",
       "      <td>-1.285714</td>\n",
       "      <td>26</td>\n",
       "      <td>11</td>\n",
       "      <td>1996</td>\n",
       "      <td>8</td>\n",
       "      <td>2</td>\n",
       "      <td>2016</td>\n",
       "    </tr>\n",
       "    <tr>\n",
       "      <th>4</th>\n",
       "      <td>0</td>\n",
       "      <td>4563</td>\n",
       "      <td>-0.184449</td>\n",
       "      <td>59839</td>\n",
       "      <td>1.601288</td>\n",
       "      <td>0.000000</td>\n",
       "      <td>24</td>\n",
       "      <td>3</td>\n",
       "      <td>1988</td>\n",
       "      <td>8</td>\n",
       "      <td>2</td>\n",
       "      <td>2016</td>\n",
       "    </tr>\n",
       "    <tr>\n",
       "      <th>6</th>\n",
       "      <td>0</td>\n",
       "      <td>4250</td>\n",
       "      <td>-0.320826</td>\n",
       "      <td>57809</td>\n",
       "      <td>0.200234</td>\n",
       "      <td>-0.571429</td>\n",
       "      <td>26</td>\n",
       "      <td>1</td>\n",
       "      <td>1992</td>\n",
       "      <td>8</td>\n",
       "      <td>2</td>\n",
       "      <td>2016</td>\n",
       "    </tr>\n",
       "    <tr>\n",
       "      <th>7</th>\n",
       "      <td>1</td>\n",
       "      <td>4250</td>\n",
       "      <td>1.914562</td>\n",
       "      <td>55860</td>\n",
       "      <td>-0.289227</td>\n",
       "      <td>0.857143</td>\n",
       "      <td>27</td>\n",
       "      <td>1</td>\n",
       "      <td>1982</td>\n",
       "      <td>8</td>\n",
       "      <td>2</td>\n",
       "      <td>2016</td>\n",
       "    </tr>\n",
       "  </tbody>\n",
       "</table>\n",
       "</div>"
      ],
      "text/plain": [
       "   CustGender  CustLocation  CustAccountBalance  TransactionTime  \\\n",
       "0           0          2865            0.079340            46650   \n",
       "2           0          4250            0.080656            46355   \n",
       "4           0          4563           -0.184449            59839   \n",
       "6           0          4250           -0.320826            57809   \n",
       "7           1          4250            1.914562            55860   \n",
       "\n",
       "   TransactionAmount (INR)       Age  CustomerBD  CustomerBM  CustomerBY  \\\n",
       "0                -0.433255 -0.857143           1          10        1994   \n",
       "2                 0.074941 -1.285714          26          11        1996   \n",
       "4                 1.601288  0.000000          24           3        1988   \n",
       "6                 0.200234 -0.571429          26           1        1992   \n",
       "7                -0.289227  0.857143          27           1        1982   \n",
       "\n",
       "   TransactionDay  TransactionMonth  TransactionYear  \n",
       "0               8                 2             2016  \n",
       "2               8                 2             2016  \n",
       "4               8                 2             2016  \n",
       "6               8                 2             2016  \n",
       "7               8                 2             2016  "
      ]
     },
     "execution_count": 56,
     "metadata": {},
     "output_type": "execute_result"
    }
   ],
   "source": [
    "X.head()"
   ]
  },
  {
   "cell_type": "markdown",
   "id": "a5c98916-3270-4276-a6b4-35b60d96dd39",
   "metadata": {},
   "source": [
    "### 🧠 Deploying K-Means Clustering Algorithm\n",
    "\n",
    "**K-Means** is an **unsupervised machine learning algorithm** used to group data into a predefined number of clusters (**K**).  \n",
    "It identifies patterns in unlabeled data by minimizing the distance between data points and their assigned cluster centers (called **centroids**)."
   ]
  },
  {
   "cell_type": "code",
   "execution_count": 58,
   "id": "5eab3b40-c09b-4acf-acb2-e16190866688",
   "metadata": {},
   "outputs": [],
   "source": [
    "from sklearn.cluster import KMeans"
   ]
  },
  {
   "cell_type": "code",
   "execution_count": 59,
   "id": "9f3c7c59-8638-4f64-9790-b4aa3a1563ef",
   "metadata": {},
   "outputs": [],
   "source": [
    "wcss = []\n",
    "for k in range(1,11):\n",
    "    model = KMeans(n_clusters=k, random_state=42)\n",
    "    model.fit(X)\n",
    "    wcss.append(model.inertia_)"
   ]
  },
  {
   "cell_type": "markdown",
   "id": "b0ddc62c-2250-4e07-a779-b74788df0c34",
   "metadata": {},
   "source": [
    "## Plotting the Elbow Method to Determine the Optimal Number of Clusters"
   ]
  },
  {
   "cell_type": "code",
   "execution_count": 61,
   "id": "27c1ee31-0fa3-4de8-9d42-5fce53ebc274",
   "metadata": {},
   "outputs": [
    {
     "data": {
      "image/png": "[encoded data removed]",
      "text/plain": [
       "<Figure size 800x300 with 1 Axes>"
      ]
     },
     "metadata": {},
     "output_type": "display_data"
    }
   ],
   "source": [
    "plt.figure(figsize=(8,3))\n",
    "plt.plot(range(1,11), wcss, marker = 'o')\n",
    "plt.title('Elbow Method', weight='bold')\n",
    "plt.xlabel('No of Clusters', weight='bold')\n",
    "plt.ylabel('wcss', weight='bold')\n",
    "plt.grid(True)\n",
    "plt.show()"
   ]
  },
  {
   "cell_type": "markdown",
   "id": "043dabeb-3743-45b5-9258-cd7616d99c2b",
   "metadata": {},
   "source": [
    "## Plotting the Silhouette Scores to further investigate and determine the optimal number of clusters (K)"
   ]
  },
  {
   "cell_type": "code",
   "execution_count": 63,
   "id": "29dccc0f-312a-4486-8bc3-0547cdad2638",
   "metadata": {},
   "outputs": [],
   "source": [
    "from sklearn.metrics import silhouette_score"
   ]
  },
  {
   "cell_type": "code",
   "execution_count": null,
   "id": "2d3f85bf-5666-4ec5-a690-b6b6feaeff8b",
   "metadata": {},
   "outputs": [],
   "source": [
    "S_Score = []\n",
    "for k in range(2,11):\n",
    "    model = KMeans(n_clusters=k, random_state=42)\n",
    "    model.fit(X)\n",
    "    S_Score.append(silhouette_score(X, model.labels_))"
   ]
  },
  {
   "cell_type": "code",
   "execution_count": null,
   "id": "10fa7dd0-0c0d-4149-a64a-0aaaace2cd95",
   "metadata": {},
   "outputs": [],
   "source": [
    "plt.figure(figsize=(8,3))\n",
    "plt.plot(range(2,11), S_Score, marker = 'o')\n",
    "plt.title('Silhouette Scores', weight='bold')\n",
    "plt.xlabel('No of Clusters', weight='bold')\n",
    "plt.ylabel('Silhouette Scores', weight='bold')\n",
    "plt.grid(True)\n",
    "plt.show()"
   ]
  },
  {
   "cell_type": "code",
   "execution_count": null,
   "id": "4130594b-1c26-4b23-8f10-9defc35f3801",
   "metadata": {},
   "outputs": [],
   "source": []
  }
 ],
 "metadata": {
  "kernelspec": {
   "display_name": "Python 3 (ipykernel)",
   "language": "python",
   "name": "python3"
  },
  "language_info": {
   "codemirror_mode": {
    "name": "ipython",
    "version": 3
   },
   "file_extension": ".py",
   "mimetype": "text/x-python",
   "name": "python",
   "nbconvert_exporter": "python",
   "pygments_lexer": "ipython3",
   "version": "3.12.7"
  }
 },
 "nbformat": 4,
 "nbformat_minor": 5
}
