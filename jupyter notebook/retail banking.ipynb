{
 "cells": [
  {
   "cell_type": "markdown",
   "id": "380bb9af-ccf2-46ac-9ccc-6681f50ba51f",
   "metadata": {},
   "source": [
    "# Import the needed Libraries"
   ]
  },
  {
   "cell_type": "code",
   "execution_count": 2,
   "id": "c46eb24c-111e-4af8-9e11-361d4e010b88",
   "metadata": {},
   "outputs": [],
   "source": [
    "import pandas as pd\n",
    "import numpy as np\n",
    "import seaborn as sns\n",
    "import matplotlib.pyplot as plt\n",
    "from datetime import datetime\n",
    "from datetime import date\n",
    "import warnings\n",
    "warnings.filterwarnings('ignore')"
   ]
  },
  {
   "cell_type": "markdown",
   "id": "9a11fe11-391c-4acb-ad7e-bafc4c457a90",
   "metadata": {},
   "source": [
    "# Loading the dataset"
   ]
  },
  {
   "cell_type": "code",
   "execution_count": 4,
   "id": "21a9adcd-cc21-45f8-9298-9aa9c69fca6d",
   "metadata": {},
   "outputs": [],
   "source": [
    "df = pd.read_csv(r'../raw_data/bank_data_C.csv')"
   ]
  },
  {
   "cell_type": "code",
   "execution_count": 5,
   "id": "c93d1760-89d4-4d95-bc87-a21100c31050",
   "metadata": {},
   "outputs": [
    {
     "data": {
      "text/html": [
       "<div>\n",
       "<style scoped>\n",
       "    .dataframe tbody tr th:only-of-type {\n",
       "        vertical-align: middle;\n",
       "    }\n",
       "\n",
       "    .dataframe tbody tr th {\n",
       "        vertical-align: top;\n",
       "    }\n",
       "\n",
       "    .dataframe thead th {\n",
       "        text-align: right;\n",
       "    }\n",
       "</style>\n",
       "<table border=\"1\" class=\"dataframe\">\n",
       "  <thead>\n",
       "    <tr style=\"text-align: right;\">\n",
       "      <th></th>\n",
       "      <th>TransactionID</th>\n",
       "      <th>CustomerID</th>\n",
       "      <th>CustomerDOB</th>\n",
       "      <th>CustGender</th>\n",
       "      <th>CustLocation</th>\n",
       "      <th>CustAccountBalance</th>\n",
       "      <th>TransactionDate</th>\n",
       "      <th>TransactionTime</th>\n",
       "      <th>TransactionAmount (INR)</th>\n",
       "    </tr>\n",
       "  </thead>\n",
       "  <tbody>\n",
       "    <tr>\n",
       "      <th>0</th>\n",
       "      <td>T1</td>\n",
       "      <td>C5841053</td>\n",
       "      <td>10/1/94</td>\n",
       "      <td>F</td>\n",
       "      <td>JAMSHEDPUR</td>\n",
       "      <td>17819.05</td>\n",
       "      <td>2/8/16</td>\n",
       "      <td>143207</td>\n",
       "      <td>25.0</td>\n",
       "    </tr>\n",
       "    <tr>\n",
       "      <th>1</th>\n",
       "      <td>T2</td>\n",
       "      <td>C2142763</td>\n",
       "      <td>4/4/57</td>\n",
       "      <td>M</td>\n",
       "      <td>JHAJJAR</td>\n",
       "      <td>2270.69</td>\n",
       "      <td>2/8/16</td>\n",
       "      <td>141858</td>\n",
       "      <td>27999.0</td>\n",
       "    </tr>\n",
       "    <tr>\n",
       "      <th>2</th>\n",
       "      <td>T3</td>\n",
       "      <td>C4417068</td>\n",
       "      <td>26/11/96</td>\n",
       "      <td>F</td>\n",
       "      <td>MUMBAI</td>\n",
       "      <td>17874.44</td>\n",
       "      <td>2/8/16</td>\n",
       "      <td>142712</td>\n",
       "      <td>459.0</td>\n",
       "    </tr>\n",
       "    <tr>\n",
       "      <th>3</th>\n",
       "      <td>T4</td>\n",
       "      <td>C5342380</td>\n",
       "      <td>14/9/73</td>\n",
       "      <td>F</td>\n",
       "      <td>MUMBAI</td>\n",
       "      <td>866503.21</td>\n",
       "      <td>2/8/16</td>\n",
       "      <td>142714</td>\n",
       "      <td>2060.0</td>\n",
       "    </tr>\n",
       "    <tr>\n",
       "      <th>4</th>\n",
       "      <td>T5</td>\n",
       "      <td>C9031234</td>\n",
       "      <td>24/3/88</td>\n",
       "      <td>F</td>\n",
       "      <td>NAVI MUMBAI</td>\n",
       "      <td>6714.43</td>\n",
       "      <td>2/8/16</td>\n",
       "      <td>181156</td>\n",
       "      <td>1762.5</td>\n",
       "    </tr>\n",
       "  </tbody>\n",
       "</table>\n",
       "</div>"
      ],
      "text/plain": [
       "  TransactionID CustomerID CustomerDOB CustGender CustLocation  \\\n",
       "0            T1   C5841053     10/1/94          F   JAMSHEDPUR   \n",
       "1            T2   C2142763      4/4/57          M      JHAJJAR   \n",
       "2            T3   C4417068    26/11/96          F       MUMBAI   \n",
       "3            T4   C5342380     14/9/73          F       MUMBAI   \n",
       "4            T5   C9031234     24/3/88          F  NAVI MUMBAI   \n",
       "\n",
       "   CustAccountBalance TransactionDate  TransactionTime  \\\n",
       "0            17819.05          2/8/16           143207   \n",
       "1             2270.69          2/8/16           141858   \n",
       "2            17874.44          2/8/16           142712   \n",
       "3           866503.21          2/8/16           142714   \n",
       "4             6714.43          2/8/16           181156   \n",
       "\n",
       "   TransactionAmount (INR)  \n",
       "0                     25.0  \n",
       "1                  27999.0  \n",
       "2                    459.0  \n",
       "3                   2060.0  \n",
       "4                   1762.5  "
      ]
     },
     "execution_count": 5,
     "metadata": {},
     "output_type": "execute_result"
    }
   ],
   "source": [
    "df.head()"
   ]
  },
  {
   "cell_type": "markdown",
   "id": "ec5bbf11-ed72-4ac3-8f65-c047c9e170d9",
   "metadata": {},
   "source": [
    "### _Viewing the `shape` of the dataset_"
   ]
  },
  {
   "cell_type": "code",
   "execution_count": 7,
   "id": "66eb53d2-bba4-4769-9380-5f73fa293d7d",
   "metadata": {},
   "outputs": [
    {
     "data": {
      "text/plain": [
       "(1041614, 9)"
      ]
     },
     "execution_count": 7,
     "metadata": {},
     "output_type": "execute_result"
    }
   ],
   "source": [
    "df.shape"
   ]
  },
  {
   "cell_type": "markdown",
   "id": "c50299ed-95b9-4fa9-91e9-44f28d3e2ea2",
   "metadata": {},
   "source": [
    "### Cheking if there are mising values within the datset, and also the datatypes of the columnsm"
   ]
  },
  {
   "cell_type": "code",
   "execution_count": 9,
   "id": "3392f3f1-9cde-445a-aadb-98249b6c075f",
   "metadata": {},
   "outputs": [
    {
     "name": "stdout",
     "output_type": "stream",
     "text": [
      "<class 'pandas.core.frame.DataFrame'>\n",
      "RangeIndex: 1041614 entries, 0 to 1041613\n",
      "Data columns (total 9 columns):\n",
      " #   Column                   Non-Null Count    Dtype  \n",
      "---  ------                   --------------    -----  \n",
      " 0   TransactionID            1041614 non-null  object \n",
      " 1   CustomerID               1041614 non-null  object \n",
      " 2   CustomerDOB              1041614 non-null  object \n",
      " 3   CustGender               1041614 non-null  object \n",
      " 4   CustLocation             1041614 non-null  object \n",
      " 5   CustAccountBalance       1041614 non-null  float64\n",
      " 6   TransactionDate          1041614 non-null  object \n",
      " 7   TransactionTime          1041614 non-null  int64  \n",
      " 8   TransactionAmount (INR)  1041614 non-null  float64\n",
      "dtypes: float64(2), int64(1), object(6)\n",
      "memory usage: 71.5+ MB\n"
     ]
    }
   ],
   "source": [
    "df.info()"
   ]
  },
  {
   "cell_type": "markdown",
   "id": "a5b6f24c-2e23-4842-ada3-febce1eb0618",
   "metadata": {},
   "source": [
    "### 🗃️ Datatype Conversion\n",
    "We converted the following columns from `object` to `datetime` format to enable accurate time-based analysis:\n",
    "- `CustomerDOB` → `datetime`\n",
    "- `TransactionDate` → `datetime`\n",
    "This ensures proper handling of date operations such as filtering, sorting, and time-series analysis."
   ]
  },
  {
   "cell_type": "code",
   "execution_count": 11,
   "id": "00c8916e-1954-48de-b0a7-fff565699113",
   "metadata": {},
   "outputs": [],
   "source": [
    "df['CustomerDOB'] = pd.to_datetime(df['CustomerDOB'], errors='coerce')\n",
    "df['TransactionDate'] = pd.to_datetime(df['TransactionDate'], errors='coerce')"
   ]
  },
  {
   "cell_type": "code",
   "execution_count": 12,
   "id": "c2ad5565-a7a0-4f79-98bd-e48c37504e24",
   "metadata": {},
   "outputs": [
    {
     "name": "stdout",
     "output_type": "stream",
     "text": [
      "<class 'pandas.core.frame.DataFrame'>\n",
      "RangeIndex: 1041614 entries, 0 to 1041613\n",
      "Data columns (total 9 columns):\n",
      " #   Column                   Non-Null Count    Dtype         \n",
      "---  ------                   --------------    -----         \n",
      " 0   TransactionID            1041614 non-null  object        \n",
      " 1   CustomerID               1041614 non-null  object        \n",
      " 2   CustomerDOB              1041614 non-null  datetime64[ns]\n",
      " 3   CustGender               1041614 non-null  object        \n",
      " 4   CustLocation             1041614 non-null  object        \n",
      " 5   CustAccountBalance       1041614 non-null  float64       \n",
      " 6   TransactionDate          1041614 non-null  datetime64[ns]\n",
      " 7   TransactionTime          1041614 non-null  int64         \n",
      " 8   TransactionAmount (INR)  1041614 non-null  float64       \n",
      "dtypes: datetime64[ns](2), float64(2), int64(1), object(4)\n",
      "memory usage: 71.5+ MB\n"
     ]
    }
   ],
   "source": [
    "# verify the columns are converted now\n",
    "df.info()"
   ]
  },
  {
   "cell_type": "code",
   "execution_count": 13,
   "id": "408c0c05-8a4c-4dd2-8249-9a89270f6c68",
   "metadata": {},
   "outputs": [
    {
     "data": {
      "text/plain": [
       "TransactionID              0\n",
       "CustomerID                 0\n",
       "CustomerDOB                0\n",
       "CustGender                 0\n",
       "CustLocation               0\n",
       "CustAccountBalance         0\n",
       "TransactionDate            0\n",
       "TransactionTime            0\n",
       "TransactionAmount (INR)    0\n",
       "dtype: int64"
      ]
     },
     "execution_count": 13,
     "metadata": {},
     "output_type": "execute_result"
    }
   ],
   "source": [
    "df.isna().sum()  # verifying any missing value"
   ]
  },
  {
   "cell_type": "markdown",
   "id": "714e51c0-8fe3-4a7e-8c66-8b3578ca4f93",
   "metadata": {},
   "source": [
    "_This shows that there are no missing values in the dataset._\n",
    "\n",
    "---"
   ]
  },
  {
   "cell_type": "code",
   "execution_count": 15,
   "id": "0795b864-21b6-40e5-9e7d-84951568db77",
   "metadata": {},
   "outputs": [
    {
     "data": {
      "text/plain": [
       "0"
      ]
     },
     "execution_count": 15,
     "metadata": {},
     "output_type": "execute_result"
    }
   ],
   "source": [
    "df.duplicated().sum()  # checking for any duplicate"
   ]
  },
  {
   "cell_type": "code",
   "execution_count": 16,
   "id": "a3ffa1d7-c82b-4afb-8597-0f6d3bedbeb7",
   "metadata": {},
   "outputs": [
    {
     "data": {
      "text/html": [
       "<div>\n",
       "<style scoped>\n",
       "    .dataframe tbody tr th:only-of-type {\n",
       "        vertical-align: middle;\n",
       "    }\n",
       "\n",
       "    .dataframe tbody tr th {\n",
       "        vertical-align: top;\n",
       "    }\n",
       "\n",
       "    .dataframe thead th {\n",
       "        text-align: right;\n",
       "    }\n",
       "</style>\n",
       "<table border=\"1\" class=\"dataframe\">\n",
       "  <thead>\n",
       "    <tr style=\"text-align: right;\">\n",
       "      <th></th>\n",
       "      <th>TransactionID</th>\n",
       "      <th>CustomerID</th>\n",
       "      <th>CustomerDOB</th>\n",
       "      <th>CustGender</th>\n",
       "      <th>CustLocation</th>\n",
       "      <th>CustAccountBalance</th>\n",
       "      <th>TransactionDate</th>\n",
       "      <th>TransactionTime</th>\n",
       "      <th>TransactionAmount (INR)</th>\n",
       "    </tr>\n",
       "  </thead>\n",
       "  <tbody>\n",
       "    <tr>\n",
       "      <th>0</th>\n",
       "      <td>T1</td>\n",
       "      <td>C5841053</td>\n",
       "      <td>1994-10-01</td>\n",
       "      <td>F</td>\n",
       "      <td>JAMSHEDPUR</td>\n",
       "      <td>17819.05</td>\n",
       "      <td>2016-02-08</td>\n",
       "      <td>143207</td>\n",
       "      <td>25.0</td>\n",
       "    </tr>\n",
       "    <tr>\n",
       "      <th>1</th>\n",
       "      <td>T2</td>\n",
       "      <td>C2142763</td>\n",
       "      <td>2057-04-04</td>\n",
       "      <td>M</td>\n",
       "      <td>JHAJJAR</td>\n",
       "      <td>2270.69</td>\n",
       "      <td>2016-02-08</td>\n",
       "      <td>141858</td>\n",
       "      <td>27999.0</td>\n",
       "    </tr>\n",
       "    <tr>\n",
       "      <th>2</th>\n",
       "      <td>T3</td>\n",
       "      <td>C4417068</td>\n",
       "      <td>1996-11-26</td>\n",
       "      <td>F</td>\n",
       "      <td>MUMBAI</td>\n",
       "      <td>17874.44</td>\n",
       "      <td>2016-02-08</td>\n",
       "      <td>142712</td>\n",
       "      <td>459.0</td>\n",
       "    </tr>\n",
       "    <tr>\n",
       "      <th>3</th>\n",
       "      <td>T4</td>\n",
       "      <td>C5342380</td>\n",
       "      <td>2073-09-14</td>\n",
       "      <td>F</td>\n",
       "      <td>MUMBAI</td>\n",
       "      <td>866503.21</td>\n",
       "      <td>2016-02-08</td>\n",
       "      <td>142714</td>\n",
       "      <td>2060.0</td>\n",
       "    </tr>\n",
       "    <tr>\n",
       "      <th>4</th>\n",
       "      <td>T5</td>\n",
       "      <td>C9031234</td>\n",
       "      <td>1988-03-24</td>\n",
       "      <td>F</td>\n",
       "      <td>NAVI MUMBAI</td>\n",
       "      <td>6714.43</td>\n",
       "      <td>2016-02-08</td>\n",
       "      <td>181156</td>\n",
       "      <td>1762.5</td>\n",
       "    </tr>\n",
       "  </tbody>\n",
       "</table>\n",
       "</div>"
      ],
      "text/plain": [
       "  TransactionID CustomerID CustomerDOB CustGender CustLocation  \\\n",
       "0            T1   C5841053  1994-10-01          F   JAMSHEDPUR   \n",
       "1            T2   C2142763  2057-04-04          M      JHAJJAR   \n",
       "2            T3   C4417068  1996-11-26          F       MUMBAI   \n",
       "3            T4   C5342380  2073-09-14          F       MUMBAI   \n",
       "4            T5   C9031234  1988-03-24          F  NAVI MUMBAI   \n",
       "\n",
       "   CustAccountBalance TransactionDate  TransactionTime  \\\n",
       "0            17819.05      2016-02-08           143207   \n",
       "1             2270.69      2016-02-08           141858   \n",
       "2            17874.44      2016-02-08           142712   \n",
       "3           866503.21      2016-02-08           142714   \n",
       "4             6714.43      2016-02-08           181156   \n",
       "\n",
       "   TransactionAmount (INR)  \n",
       "0                     25.0  \n",
       "1                  27999.0  \n",
       "2                    459.0  \n",
       "3                   2060.0  \n",
       "4                   1762.5  "
      ]
     },
     "execution_count": 16,
     "metadata": {},
     "output_type": "execute_result"
    }
   ],
   "source": [
    "df.head()"
   ]
  },
  {
   "cell_type": "markdown",
   "id": "73ff83fe-774b-413d-b5d8-d67ce8118ab1",
   "metadata": {},
   "source": [
    "### Normalising the `CustomerDOB` column from dates that are beyond current date"
   ]
  },
  {
   "cell_type": "code",
   "execution_count": 18,
   "id": "0dbb4b16-d535-48c8-976c-dfb9bb6079bf",
   "metadata": {},
   "outputs": [],
   "source": [
    "def normaliseDOB(df, col = 'CustomerDOB'):\n",
    "    today = datetime.today()\n",
    "    df.loc[df[col] > today, col] = df.loc[df[col] > today, col] - pd.DateOffset(years=100)\n",
    "    return df"
   ]
  },
  {
   "cell_type": "code",
   "execution_count": 19,
   "id": "128e0003-77e9-4677-9681-e380b7b366da",
   "metadata": {},
   "outputs": [],
   "source": [
    "df = normaliseDOB(df, 'CustomerDOB')"
   ]
  },
  {
   "cell_type": "markdown",
   "id": "26032619-233b-4eed-be3a-c4541391face",
   "metadata": {},
   "source": [
    "#### 🧹 Cleaning Future-Dated Birth Entries\n",
    "To ensure data integrity, we normalized the `CustomerDOB` column by correcting any birth dates that were erroneously recorded beyond the current date. These future-dated entries may result from input errors or system glitches and can distort age-based analyses.\n",
    "\n",
    "This step helps maintain accurate demographic insights and prevents downstream issues in age calculations or segmentation.\n",
    "\n",
    "---"
   ]
  },
  {
   "cell_type": "code",
   "execution_count": 21,
   "id": "6429bf86-5012-484a-b572-d5a04260eea6",
   "metadata": {},
   "outputs": [
    {
     "data": {
      "text/html": [
       "<div>\n",
       "<style scoped>\n",
       "    .dataframe tbody tr th:only-of-type {\n",
       "        vertical-align: middle;\n",
       "    }\n",
       "\n",
       "    .dataframe tbody tr th {\n",
       "        vertical-align: top;\n",
       "    }\n",
       "\n",
       "    .dataframe thead th {\n",
       "        text-align: right;\n",
       "    }\n",
       "</style>\n",
       "<table border=\"1\" class=\"dataframe\">\n",
       "  <thead>\n",
       "    <tr style=\"text-align: right;\">\n",
       "      <th></th>\n",
       "      <th>TransactionID</th>\n",
       "      <th>CustomerID</th>\n",
       "      <th>CustomerDOB</th>\n",
       "      <th>CustGender</th>\n",
       "      <th>CustLocation</th>\n",
       "      <th>CustAccountBalance</th>\n",
       "      <th>TransactionDate</th>\n",
       "      <th>TransactionTime</th>\n",
       "      <th>TransactionAmount (INR)</th>\n",
       "    </tr>\n",
       "  </thead>\n",
       "  <tbody>\n",
       "    <tr>\n",
       "      <th>0</th>\n",
       "      <td>T1</td>\n",
       "      <td>C5841053</td>\n",
       "      <td>1994-10-01</td>\n",
       "      <td>F</td>\n",
       "      <td>JAMSHEDPUR</td>\n",
       "      <td>17819.05</td>\n",
       "      <td>2016-02-08</td>\n",
       "      <td>143207</td>\n",
       "      <td>25.0</td>\n",
       "    </tr>\n",
       "    <tr>\n",
       "      <th>1</th>\n",
       "      <td>T2</td>\n",
       "      <td>C2142763</td>\n",
       "      <td>1957-04-04</td>\n",
       "      <td>M</td>\n",
       "      <td>JHAJJAR</td>\n",
       "      <td>2270.69</td>\n",
       "      <td>2016-02-08</td>\n",
       "      <td>141858</td>\n",
       "      <td>27999.0</td>\n",
       "    </tr>\n",
       "    <tr>\n",
       "      <th>2</th>\n",
       "      <td>T3</td>\n",
       "      <td>C4417068</td>\n",
       "      <td>1996-11-26</td>\n",
       "      <td>F</td>\n",
       "      <td>MUMBAI</td>\n",
       "      <td>17874.44</td>\n",
       "      <td>2016-02-08</td>\n",
       "      <td>142712</td>\n",
       "      <td>459.0</td>\n",
       "    </tr>\n",
       "    <tr>\n",
       "      <th>3</th>\n",
       "      <td>T4</td>\n",
       "      <td>C5342380</td>\n",
       "      <td>1973-09-14</td>\n",
       "      <td>F</td>\n",
       "      <td>MUMBAI</td>\n",
       "      <td>866503.21</td>\n",
       "      <td>2016-02-08</td>\n",
       "      <td>142714</td>\n",
       "      <td>2060.0</td>\n",
       "    </tr>\n",
       "    <tr>\n",
       "      <th>4</th>\n",
       "      <td>T5</td>\n",
       "      <td>C9031234</td>\n",
       "      <td>1988-03-24</td>\n",
       "      <td>F</td>\n",
       "      <td>NAVI MUMBAI</td>\n",
       "      <td>6714.43</td>\n",
       "      <td>2016-02-08</td>\n",
       "      <td>181156</td>\n",
       "      <td>1762.5</td>\n",
       "    </tr>\n",
       "  </tbody>\n",
       "</table>\n",
       "</div>"
      ],
      "text/plain": [
       "  TransactionID CustomerID CustomerDOB CustGender CustLocation  \\\n",
       "0            T1   C5841053  1994-10-01          F   JAMSHEDPUR   \n",
       "1            T2   C2142763  1957-04-04          M      JHAJJAR   \n",
       "2            T3   C4417068  1996-11-26          F       MUMBAI   \n",
       "3            T4   C5342380  1973-09-14          F       MUMBAI   \n",
       "4            T5   C9031234  1988-03-24          F  NAVI MUMBAI   \n",
       "\n",
       "   CustAccountBalance TransactionDate  TransactionTime  \\\n",
       "0            17819.05      2016-02-08           143207   \n",
       "1             2270.69      2016-02-08           141858   \n",
       "2            17874.44      2016-02-08           142712   \n",
       "3           866503.21      2016-02-08           142714   \n",
       "4             6714.43      2016-02-08           181156   \n",
       "\n",
       "   TransactionAmount (INR)  \n",
       "0                     25.0  \n",
       "1                  27999.0  \n",
       "2                    459.0  \n",
       "3                   2060.0  \n",
       "4                   1762.5  "
      ]
     },
     "execution_count": 21,
     "metadata": {},
     "output_type": "execute_result"
    }
   ],
   "source": [
    "df.head()"
   ]
  },
  {
   "cell_type": "markdown",
   "id": "d6d7c4ea-c5d8-4ac5-8333-cf22e54b2ee9",
   "metadata": {},
   "source": [
    "### 🧠 Feature Engineering: Adding `CustomerAge`\n",
    "To enhance the dataset's analytical value, we introduced a new feature `CustomerAge`. This column was derived by calculating the age of each customer based on their date of birth (`CustomerDOB`) and the transaction date.\n",
    "\n",
    "Including `CustomerAge` enables more insightful segmentation, trend analysis, and predictive modelling based on age-related behaviour."
   ]
  },
  {
   "cell_type": "code",
   "execution_count": 23,
   "id": "3cbb9f01-d0fd-40de-b424-7c69626d8caf",
   "metadata": {},
   "outputs": [
    {
     "name": "stdout",
     "output_type": "stream",
     "text": [
      "2025-10-15 00:00:00\n"
     ]
    }
   ],
   "source": [
    "today = date.today()\n",
    "formatted_date = today.strftime('%Y-%m-%d')\n",
    "formatted_date = pd.to_datetime(formatted_date)\n",
    "print(formatted_date)"
   ]
  },
  {
   "cell_type": "code",
   "execution_count": 24,
   "id": "d9903375-e2f6-485d-b72b-67d3b3089c6d",
   "metadata": {},
   "outputs": [],
   "source": [
    "df['CustomerAge'] = (formatted_date - df['CustomerDOB']).dt.days //365"
   ]
  },
  {
   "cell_type": "code",
   "execution_count": 25,
   "id": "fd24aa77-a83b-47e6-9a8a-f11ca7825ef2",
   "metadata": {},
   "outputs": [
    {
     "data": {
      "text/html": [
       "<div>\n",
       "<style scoped>\n",
       "    .dataframe tbody tr th:only-of-type {\n",
       "        vertical-align: middle;\n",
       "    }\n",
       "\n",
       "    .dataframe tbody tr th {\n",
       "        vertical-align: top;\n",
       "    }\n",
       "\n",
       "    .dataframe thead th {\n",
       "        text-align: right;\n",
       "    }\n",
       "</style>\n",
       "<table border=\"1\" class=\"dataframe\">\n",
       "  <thead>\n",
       "    <tr style=\"text-align: right;\">\n",
       "      <th></th>\n",
       "      <th>TransactionID</th>\n",
       "      <th>CustomerID</th>\n",
       "      <th>CustomerDOB</th>\n",
       "      <th>CustGender</th>\n",
       "      <th>CustLocation</th>\n",
       "      <th>CustAccountBalance</th>\n",
       "      <th>TransactionDate</th>\n",
       "      <th>TransactionTime</th>\n",
       "      <th>TransactionAmount (INR)</th>\n",
       "      <th>CustomerAge</th>\n",
       "    </tr>\n",
       "  </thead>\n",
       "  <tbody>\n",
       "    <tr>\n",
       "      <th>0</th>\n",
       "      <td>T1</td>\n",
       "      <td>C5841053</td>\n",
       "      <td>1994-10-01</td>\n",
       "      <td>F</td>\n",
       "      <td>JAMSHEDPUR</td>\n",
       "      <td>17819.05</td>\n",
       "      <td>2016-02-08</td>\n",
       "      <td>143207</td>\n",
       "      <td>25.0</td>\n",
       "      <td>31</td>\n",
       "    </tr>\n",
       "    <tr>\n",
       "      <th>1</th>\n",
       "      <td>T2</td>\n",
       "      <td>C2142763</td>\n",
       "      <td>1957-04-04</td>\n",
       "      <td>M</td>\n",
       "      <td>JHAJJAR</td>\n",
       "      <td>2270.69</td>\n",
       "      <td>2016-02-08</td>\n",
       "      <td>141858</td>\n",
       "      <td>27999.0</td>\n",
       "      <td>68</td>\n",
       "    </tr>\n",
       "    <tr>\n",
       "      <th>2</th>\n",
       "      <td>T3</td>\n",
       "      <td>C4417068</td>\n",
       "      <td>1996-11-26</td>\n",
       "      <td>F</td>\n",
       "      <td>MUMBAI</td>\n",
       "      <td>17874.44</td>\n",
       "      <td>2016-02-08</td>\n",
       "      <td>142712</td>\n",
       "      <td>459.0</td>\n",
       "      <td>28</td>\n",
       "    </tr>\n",
       "    <tr>\n",
       "      <th>3</th>\n",
       "      <td>T4</td>\n",
       "      <td>C5342380</td>\n",
       "      <td>1973-09-14</td>\n",
       "      <td>F</td>\n",
       "      <td>MUMBAI</td>\n",
       "      <td>866503.21</td>\n",
       "      <td>2016-02-08</td>\n",
       "      <td>142714</td>\n",
       "      <td>2060.0</td>\n",
       "      <td>52</td>\n",
       "    </tr>\n",
       "    <tr>\n",
       "      <th>4</th>\n",
       "      <td>T5</td>\n",
       "      <td>C9031234</td>\n",
       "      <td>1988-03-24</td>\n",
       "      <td>F</td>\n",
       "      <td>NAVI MUMBAI</td>\n",
       "      <td>6714.43</td>\n",
       "      <td>2016-02-08</td>\n",
       "      <td>181156</td>\n",
       "      <td>1762.5</td>\n",
       "      <td>37</td>\n",
       "    </tr>\n",
       "  </tbody>\n",
       "</table>\n",
       "</div>"
      ],
      "text/plain": [
       "  TransactionID CustomerID CustomerDOB CustGender CustLocation  \\\n",
       "0            T1   C5841053  1994-10-01          F   JAMSHEDPUR   \n",
       "1            T2   C2142763  1957-04-04          M      JHAJJAR   \n",
       "2            T3   C4417068  1996-11-26          F       MUMBAI   \n",
       "3            T4   C5342380  1973-09-14          F       MUMBAI   \n",
       "4            T5   C9031234  1988-03-24          F  NAVI MUMBAI   \n",
       "\n",
       "   CustAccountBalance TransactionDate  TransactionTime  \\\n",
       "0            17819.05      2016-02-08           143207   \n",
       "1             2270.69      2016-02-08           141858   \n",
       "2            17874.44      2016-02-08           142712   \n",
       "3           866503.21      2016-02-08           142714   \n",
       "4             6714.43      2016-02-08           181156   \n",
       "\n",
       "   TransactionAmount (INR)  CustomerAge  \n",
       "0                     25.0           31  \n",
       "1                  27999.0           68  \n",
       "2                    459.0           28  \n",
       "3                   2060.0           52  \n",
       "4                   1762.5           37  "
      ]
     },
     "execution_count": 25,
     "metadata": {},
     "output_type": "execute_result"
    }
   ],
   "source": [
    "df.head()"
   ]
  },
  {
   "cell_type": "code",
   "execution_count": 26,
   "id": "22fa9cad-365d-470a-baa9-87ecca32569b",
   "metadata": {},
   "outputs": [],
   "source": [
    "df.drop(columns='CustomerDOB', inplace=True, axis=1) # here the 'CustomerDOB' column is dropped"
   ]
  },
  {
   "cell_type": "code",
   "execution_count": 27,
   "id": "30b8dcdb-38c4-4027-9d6d-d3651e31ce86",
   "metadata": {},
   "outputs": [
    {
     "data": {
      "text/html": [
       "<div>\n",
       "<style scoped>\n",
       "    .dataframe tbody tr th:only-of-type {\n",
       "        vertical-align: middle;\n",
       "    }\n",
       "\n",
       "    .dataframe tbody tr th {\n",
       "        vertical-align: top;\n",
       "    }\n",
       "\n",
       "    .dataframe thead th {\n",
       "        text-align: right;\n",
       "    }\n",
       "</style>\n",
       "<table border=\"1\" class=\"dataframe\">\n",
       "  <thead>\n",
       "    <tr style=\"text-align: right;\">\n",
       "      <th></th>\n",
       "      <th>TransactionID</th>\n",
       "      <th>CustomerID</th>\n",
       "      <th>CustGender</th>\n",
       "      <th>CustLocation</th>\n",
       "      <th>CustAccountBalance</th>\n",
       "      <th>TransactionDate</th>\n",
       "      <th>TransactionTime</th>\n",
       "      <th>TransactionAmount (INR)</th>\n",
       "      <th>CustomerAge</th>\n",
       "    </tr>\n",
       "  </thead>\n",
       "  <tbody>\n",
       "    <tr>\n",
       "      <th>0</th>\n",
       "      <td>T1</td>\n",
       "      <td>C5841053</td>\n",
       "      <td>F</td>\n",
       "      <td>JAMSHEDPUR</td>\n",
       "      <td>17819.05</td>\n",
       "      <td>2016-02-08</td>\n",
       "      <td>143207</td>\n",
       "      <td>25.0</td>\n",
       "      <td>31</td>\n",
       "    </tr>\n",
       "    <tr>\n",
       "      <th>1</th>\n",
       "      <td>T2</td>\n",
       "      <td>C2142763</td>\n",
       "      <td>M</td>\n",
       "      <td>JHAJJAR</td>\n",
       "      <td>2270.69</td>\n",
       "      <td>2016-02-08</td>\n",
       "      <td>141858</td>\n",
       "      <td>27999.0</td>\n",
       "      <td>68</td>\n",
       "    </tr>\n",
       "  </tbody>\n",
       "</table>\n",
       "</div>"
      ],
      "text/plain": [
       "  TransactionID CustomerID CustGender CustLocation  CustAccountBalance  \\\n",
       "0            T1   C5841053          F   JAMSHEDPUR            17819.05   \n",
       "1            T2   C2142763          M      JHAJJAR             2270.69   \n",
       "\n",
       "  TransactionDate  TransactionTime  TransactionAmount (INR)  CustomerAge  \n",
       "0      2016-02-08           143207                     25.0           31  \n",
       "1      2016-02-08           141858                  27999.0           68  "
      ]
     },
     "execution_count": 27,
     "metadata": {},
     "output_type": "execute_result"
    }
   ],
   "source": [
    "df.head(2)"
   ]
  },
  {
   "cell_type": "markdown",
   "id": "d2ee3e83-36da-42d9-b0e0-b30f16ff1463",
   "metadata": {},
   "source": [
    "### ⏱️ Timestamp Formatting: Transforming raw timestamps into string-based time format"
   ]
  },
  {
   "cell_type": "code",
   "execution_count": 29,
   "id": "1cf72d64-9d00-4608-85cf-2fa6b3df00b9",
   "metadata": {},
   "outputs": [],
   "source": [
    "df['TransactionTime'] = df['TransactionTime'].apply(\n",
    "    lambda x: datetime.strptime(str(x).zfill(6), \"%H%M%S\").strftime(\"%H:%M:%S\"))"
   ]
  },
  {
   "cell_type": "markdown",
   "id": "8e9957cd-84d3-4d66-af99-8f19a2c4bc7d",
   "metadata": {},
   "source": [
    "Here, I converted timestamp values into human-readable time strings to simplify interpretation and support time-based grouping or display. This transformation enables clearer insights when analysing or presenting time-specific data.\n",
    "\n",
    "---"
   ]
  },
  {
   "cell_type": "code",
   "execution_count": 31,
   "id": "dc516bb4-d623-4443-88c2-993dcd002016",
   "metadata": {},
   "outputs": [
    {
     "data": {
      "text/html": [
       "<div>\n",
       "<style scoped>\n",
       "    .dataframe tbody tr th:only-of-type {\n",
       "        vertical-align: middle;\n",
       "    }\n",
       "\n",
       "    .dataframe tbody tr th {\n",
       "        vertical-align: top;\n",
       "    }\n",
       "\n",
       "    .dataframe thead th {\n",
       "        text-align: right;\n",
       "    }\n",
       "</style>\n",
       "<table border=\"1\" class=\"dataframe\">\n",
       "  <thead>\n",
       "    <tr style=\"text-align: right;\">\n",
       "      <th></th>\n",
       "      <th>TransactionID</th>\n",
       "      <th>CustomerID</th>\n",
       "      <th>CustGender</th>\n",
       "      <th>CustLocation</th>\n",
       "      <th>CustAccountBalance</th>\n",
       "      <th>TransactionDate</th>\n",
       "      <th>TransactionTime</th>\n",
       "      <th>TransactionAmount (INR)</th>\n",
       "      <th>CustomerAge</th>\n",
       "    </tr>\n",
       "  </thead>\n",
       "  <tbody>\n",
       "    <tr>\n",
       "      <th>0</th>\n",
       "      <td>T1</td>\n",
       "      <td>C5841053</td>\n",
       "      <td>F</td>\n",
       "      <td>JAMSHEDPUR</td>\n",
       "      <td>17819.05</td>\n",
       "      <td>2016-02-08</td>\n",
       "      <td>14:32:07</td>\n",
       "      <td>25.0</td>\n",
       "      <td>31</td>\n",
       "    </tr>\n",
       "    <tr>\n",
       "      <th>1</th>\n",
       "      <td>T2</td>\n",
       "      <td>C2142763</td>\n",
       "      <td>M</td>\n",
       "      <td>JHAJJAR</td>\n",
       "      <td>2270.69</td>\n",
       "      <td>2016-02-08</td>\n",
       "      <td>14:18:58</td>\n",
       "      <td>27999.0</td>\n",
       "      <td>68</td>\n",
       "    </tr>\n",
       "  </tbody>\n",
       "</table>\n",
       "</div>"
      ],
      "text/plain": [
       "  TransactionID CustomerID CustGender CustLocation  CustAccountBalance  \\\n",
       "0            T1   C5841053          F   JAMSHEDPUR            17819.05   \n",
       "1            T2   C2142763          M      JHAJJAR             2270.69   \n",
       "\n",
       "  TransactionDate TransactionTime  TransactionAmount (INR)  CustomerAge  \n",
       "0      2016-02-08        14:32:07                     25.0           31  \n",
       "1      2016-02-08        14:18:58                  27999.0           68  "
      ]
     },
     "execution_count": 31,
     "metadata": {},
     "output_type": "execute_result"
    }
   ],
   "source": [
    "df.head(2)"
   ]
  },
  {
   "cell_type": "markdown",
   "id": "35d6ff78-d3ea-4e7a-a0e9-390b520b0b3f",
   "metadata": {},
   "source": [
    "### 🔗 Concatenating into a single column both `TransactionDate` and `TransactionTime`\n",
    "Here, I merged the `TransactionDate` and `TransactionTime` columns into a single datetime column to streamline temporal analysis. This unified timestamp simplifies filtering, sorting, and time-based computations across the dataset."
   ]
  },
  {
   "cell_type": "code",
   "execution_count": 33,
   "id": "e4154ec4-c0a6-4cf8-bf88-15ca5656aae4",
   "metadata": {},
   "outputs": [],
   "source": [
    "df['Transaction_Date_Time'] = df['TransactionDate'].astype(str) + ' ' + df['TransactionTime'].astype(str)"
   ]
  },
  {
   "cell_type": "code",
   "execution_count": 34,
   "id": "d9cc0b2e-ecba-4b14-ab25-ca971a07078d",
   "metadata": {},
   "outputs": [
    {
     "data": {
      "text/html": [
       "<div>\n",
       "<style scoped>\n",
       "    .dataframe tbody tr th:only-of-type {\n",
       "        vertical-align: middle;\n",
       "    }\n",
       "\n",
       "    .dataframe tbody tr th {\n",
       "        vertical-align: top;\n",
       "    }\n",
       "\n",
       "    .dataframe thead th {\n",
       "        text-align: right;\n",
       "    }\n",
       "</style>\n",
       "<table border=\"1\" class=\"dataframe\">\n",
       "  <thead>\n",
       "    <tr style=\"text-align: right;\">\n",
       "      <th></th>\n",
       "      <th>TransactionID</th>\n",
       "      <th>CustomerID</th>\n",
       "      <th>CustGender</th>\n",
       "      <th>CustLocation</th>\n",
       "      <th>CustAccountBalance</th>\n",
       "      <th>TransactionDate</th>\n",
       "      <th>TransactionTime</th>\n",
       "      <th>TransactionAmount (INR)</th>\n",
       "      <th>CustomerAge</th>\n",
       "      <th>Transaction_Date_Time</th>\n",
       "    </tr>\n",
       "  </thead>\n",
       "  <tbody>\n",
       "    <tr>\n",
       "      <th>0</th>\n",
       "      <td>T1</td>\n",
       "      <td>C5841053</td>\n",
       "      <td>F</td>\n",
       "      <td>JAMSHEDPUR</td>\n",
       "      <td>17819.05</td>\n",
       "      <td>2016-02-08</td>\n",
       "      <td>14:32:07</td>\n",
       "      <td>25.0</td>\n",
       "      <td>31</td>\n",
       "      <td>2016-02-08 14:32:07</td>\n",
       "    </tr>\n",
       "    <tr>\n",
       "      <th>1</th>\n",
       "      <td>T2</td>\n",
       "      <td>C2142763</td>\n",
       "      <td>M</td>\n",
       "      <td>JHAJJAR</td>\n",
       "      <td>2270.69</td>\n",
       "      <td>2016-02-08</td>\n",
       "      <td>14:18:58</td>\n",
       "      <td>27999.0</td>\n",
       "      <td>68</td>\n",
       "      <td>2016-02-08 14:18:58</td>\n",
       "    </tr>\n",
       "  </tbody>\n",
       "</table>\n",
       "</div>"
      ],
      "text/plain": [
       "  TransactionID CustomerID CustGender CustLocation  CustAccountBalance  \\\n",
       "0            T1   C5841053          F   JAMSHEDPUR            17819.05   \n",
       "1            T2   C2142763          M      JHAJJAR             2270.69   \n",
       "\n",
       "  TransactionDate TransactionTime  TransactionAmount (INR)  CustomerAge  \\\n",
       "0      2016-02-08        14:32:07                     25.0           31   \n",
       "1      2016-02-08        14:18:58                  27999.0           68   \n",
       "\n",
       "  Transaction_Date_Time  \n",
       "0   2016-02-08 14:32:07  \n",
       "1   2016-02-08 14:18:58  "
      ]
     },
     "execution_count": 34,
     "metadata": {},
     "output_type": "execute_result"
    }
   ],
   "source": [
    "df.head(2)"
   ]
  },
  {
   "cell_type": "markdown",
   "id": "2a1006d0-0c87-465e-a311-117b483c88b5",
   "metadata": {},
   "source": [
    "### 📊 Descriptive Statistics Overview"
   ]
  },
  {
   "cell_type": "code",
   "execution_count": 36,
   "id": "781ace8e-6f75-4031-8d54-7d0ab7e1a5bf",
   "metadata": {},
   "outputs": [
    {
     "data": {
      "text/html": [
       "<div>\n",
       "<style scoped>\n",
       "    .dataframe tbody tr th:only-of-type {\n",
       "        vertical-align: middle;\n",
       "    }\n",
       "\n",
       "    .dataframe tbody tr th {\n",
       "        vertical-align: top;\n",
       "    }\n",
       "\n",
       "    .dataframe thead th {\n",
       "        text-align: right;\n",
       "    }\n",
       "</style>\n",
       "<table border=\"1\" class=\"dataframe\">\n",
       "  <thead>\n",
       "    <tr style=\"text-align: right;\">\n",
       "      <th></th>\n",
       "      <th>TransactionID</th>\n",
       "      <th>CustomerID</th>\n",
       "      <th>CustGender</th>\n",
       "      <th>CustLocation</th>\n",
       "      <th>CustAccountBalance</th>\n",
       "      <th>TransactionDate</th>\n",
       "      <th>TransactionTime</th>\n",
       "      <th>TransactionAmount (INR)</th>\n",
       "      <th>CustomerAge</th>\n",
       "      <th>Transaction_Date_Time</th>\n",
       "    </tr>\n",
       "  </thead>\n",
       "  <tbody>\n",
       "    <tr>\n",
       "      <th>count</th>\n",
       "      <td>1041614</td>\n",
       "      <td>1041614</td>\n",
       "      <td>1041614</td>\n",
       "      <td>1041614</td>\n",
       "      <td>1.041614e+06</td>\n",
       "      <td>1041614</td>\n",
       "      <td>1041614</td>\n",
       "      <td>1.041614e+06</td>\n",
       "      <td>1.041614e+06</td>\n",
       "      <td>1041614</td>\n",
       "    </tr>\n",
       "    <tr>\n",
       "      <th>unique</th>\n",
       "      <td>1041614</td>\n",
       "      <td>879358</td>\n",
       "      <td>3</td>\n",
       "      <td>9275</td>\n",
       "      <td>NaN</td>\n",
       "      <td>NaN</td>\n",
       "      <td>81855</td>\n",
       "      <td>NaN</td>\n",
       "      <td>NaN</td>\n",
       "      <td>873447</td>\n",
       "    </tr>\n",
       "    <tr>\n",
       "      <th>top</th>\n",
       "      <td>T1</td>\n",
       "      <td>C5533885</td>\n",
       "      <td>M</td>\n",
       "      <td>MUMBAI</td>\n",
       "      <td>NaN</td>\n",
       "      <td>NaN</td>\n",
       "      <td>20:27:38</td>\n",
       "      <td>NaN</td>\n",
       "      <td>NaN</td>\n",
       "      <td>2016-01-09 11:32:50</td>\n",
       "    </tr>\n",
       "    <tr>\n",
       "      <th>freq</th>\n",
       "      <td>1</td>\n",
       "      <td>6</td>\n",
       "      <td>760978</td>\n",
       "      <td>101997</td>\n",
       "      <td>NaN</td>\n",
       "      <td>NaN</td>\n",
       "      <td>46</td>\n",
       "      <td>NaN</td>\n",
       "      <td>NaN</td>\n",
       "      <td>8</td>\n",
       "    </tr>\n",
       "    <tr>\n",
       "      <th>mean</th>\n",
       "      <td>NaN</td>\n",
       "      <td>NaN</td>\n",
       "      <td>NaN</td>\n",
       "      <td>NaN</td>\n",
       "      <td>1.149986e+05</td>\n",
       "      <td>2016-07-25 19:23:05.559718400</td>\n",
       "      <td>NaN</td>\n",
       "      <td>1.566096e+03</td>\n",
       "      <td>4.986058e+01</td>\n",
       "      <td>NaN</td>\n",
       "    </tr>\n",
       "    <tr>\n",
       "      <th>min</th>\n",
       "      <td>NaN</td>\n",
       "      <td>NaN</td>\n",
       "      <td>NaN</td>\n",
       "      <td>NaN</td>\n",
       "      <td>0.000000e+00</td>\n",
       "      <td>2016-01-08 00:00:00</td>\n",
       "      <td>NaN</td>\n",
       "      <td>0.000000e+00</td>\n",
       "      <td>0.000000e+00</td>\n",
       "      <td>NaN</td>\n",
       "    </tr>\n",
       "    <tr>\n",
       "      <th>25%</th>\n",
       "      <td>NaN</td>\n",
       "      <td>NaN</td>\n",
       "      <td>NaN</td>\n",
       "      <td>NaN</td>\n",
       "      <td>4.728140e+03</td>\n",
       "      <td>2016-06-09 00:00:00</td>\n",
       "      <td>NaN</td>\n",
       "      <td>1.600000e+02</td>\n",
       "      <td>3.400000e+01</td>\n",
       "      <td>NaN</td>\n",
       "    </tr>\n",
       "    <tr>\n",
       "      <th>50%</th>\n",
       "      <td>NaN</td>\n",
       "      <td>NaN</td>\n",
       "      <td>NaN</td>\n",
       "      <td>NaN</td>\n",
       "      <td>1.676852e+04</td>\n",
       "      <td>2016-08-20 00:00:00</td>\n",
       "      <td>NaN</td>\n",
       "      <td>4.575000e+02</td>\n",
       "      <td>3.800000e+01</td>\n",
       "      <td>NaN</td>\n",
       "    </tr>\n",
       "    <tr>\n",
       "      <th>75%</th>\n",
       "      <td>NaN</td>\n",
       "      <td>NaN</td>\n",
       "      <td>NaN</td>\n",
       "      <td>NaN</td>\n",
       "      <td>5.742885e+04</td>\n",
       "      <td>2016-09-09 00:00:00</td>\n",
       "      <td>NaN</td>\n",
       "      <td>1.200000e+03</td>\n",
       "      <td>4.500000e+01</td>\n",
       "      <td>NaN</td>\n",
       "    </tr>\n",
       "    <tr>\n",
       "      <th>max</th>\n",
       "      <td>NaN</td>\n",
       "      <td>NaN</td>\n",
       "      <td>NaN</td>\n",
       "      <td>NaN</td>\n",
       "      <td>1.150355e+08</td>\n",
       "      <td>2016-12-09 00:00:00</td>\n",
       "      <td>NaN</td>\n",
       "      <td>1.560035e+06</td>\n",
       "      <td>2.250000e+02</td>\n",
       "      <td>NaN</td>\n",
       "    </tr>\n",
       "    <tr>\n",
       "      <th>std</th>\n",
       "      <td>NaN</td>\n",
       "      <td>NaN</td>\n",
       "      <td>NaN</td>\n",
       "      <td>NaN</td>\n",
       "      <td>8.467609e+05</td>\n",
       "      <td>NaN</td>\n",
       "      <td>NaN</td>\n",
       "      <td>6.561464e+03</td>\n",
       "      <td>4.271979e+01</td>\n",
       "      <td>NaN</td>\n",
       "    </tr>\n",
       "  </tbody>\n",
       "</table>\n",
       "</div>"
      ],
      "text/plain": [
       "       TransactionID CustomerID CustGender CustLocation  CustAccountBalance  \\\n",
       "count        1041614    1041614    1041614      1041614        1.041614e+06   \n",
       "unique       1041614     879358          3         9275                 NaN   \n",
       "top               T1   C5533885          M       MUMBAI                 NaN   \n",
       "freq               1          6     760978       101997                 NaN   \n",
       "mean             NaN        NaN        NaN          NaN        1.149986e+05   \n",
       "min              NaN        NaN        NaN          NaN        0.000000e+00   \n",
       "25%              NaN        NaN        NaN          NaN        4.728140e+03   \n",
       "50%              NaN        NaN        NaN          NaN        1.676852e+04   \n",
       "75%              NaN        NaN        NaN          NaN        5.742885e+04   \n",
       "max              NaN        NaN        NaN          NaN        1.150355e+08   \n",
       "std              NaN        NaN        NaN          NaN        8.467609e+05   \n",
       "\n",
       "                      TransactionDate TransactionTime  \\\n",
       "count                         1041614         1041614   \n",
       "unique                            NaN           81855   \n",
       "top                               NaN        20:27:38   \n",
       "freq                              NaN              46   \n",
       "mean    2016-07-25 19:23:05.559718400             NaN   \n",
       "min               2016-01-08 00:00:00             NaN   \n",
       "25%               2016-06-09 00:00:00             NaN   \n",
       "50%               2016-08-20 00:00:00             NaN   \n",
       "75%               2016-09-09 00:00:00             NaN   \n",
       "max               2016-12-09 00:00:00             NaN   \n",
       "std                               NaN             NaN   \n",
       "\n",
       "        TransactionAmount (INR)   CustomerAge Transaction_Date_Time  \n",
       "count              1.041614e+06  1.041614e+06               1041614  \n",
       "unique                      NaN           NaN                873447  \n",
       "top                         NaN           NaN   2016-01-09 11:32:50  \n",
       "freq                        NaN           NaN                     8  \n",
       "mean               1.566096e+03  4.986058e+01                   NaN  \n",
       "min                0.000000e+00  0.000000e+00                   NaN  \n",
       "25%                1.600000e+02  3.400000e+01                   NaN  \n",
       "50%                4.575000e+02  3.800000e+01                   NaN  \n",
       "75%                1.200000e+03  4.500000e+01                   NaN  \n",
       "max                1.560035e+06  2.250000e+02                   NaN  \n",
       "std                6.561464e+03  4.271979e+01                   NaN  "
      ]
     },
     "execution_count": 36,
     "metadata": {},
     "output_type": "execute_result"
    }
   ],
   "source": [
    "df.describe(include='all')"
   ]
  },
  {
   "cell_type": "markdown",
   "id": "24c8ddf8-7c11-4855-810c-27b8ee2998d9",
   "metadata": {},
   "source": [
    "I Performed descriptive statistical analysis to explore key characteristics of the dataset. This step helps summarize central tendencies, variability, and distribution patterns across relevant features.\n",
    "\n",
    "These insights provide a foundational understanding for deeper exploratory and predictive analysis.\n",
    "\n",
    "---"
   ]
  },
  {
   "cell_type": "code",
   "execution_count": 38,
   "id": "0c280403-3d09-49e9-b9d5-39d37839ef66",
   "metadata": {},
   "outputs": [
    {
     "data": {
      "text/plain": [
       "CustGender\n",
       "M    760978\n",
       "F    280635\n",
       "T         1\n",
       "Name: count, dtype: int64"
      ]
     },
     "execution_count": 38,
     "metadata": {},
     "output_type": "execute_result"
    }
   ],
   "source": [
    "df['CustGender'].value_counts()"
   ]
  },
  {
   "cell_type": "markdown",
   "id": "14e64026-b5c2-4740-b17a-20d7cb1a26eb",
   "metadata": {},
   "source": [
    "### 🧼 Standardizing Gender Entries: Correcting the inconsistency noticed in the `Customer Gender` column\n",
    "\n",
    "Here, I addressed inconsistencies in the `CustomerGender` column by standardising values across the dataset. This involved correcting typos, harmonising variations (e.g., \"M\", \"Male\", \"male\" → \"Male\"), and ensuring uniform representation for accurate grouping and analysis.\n",
    "\n",
    "Consistent gender labels improve the reliability of demographic segmentation and support clearer visualisations and reporting."
   ]
  },
  {
   "cell_type": "code",
   "execution_count": 40,
   "id": "7c6f946b-e8d9-461d-86dc-e4f73ad56e50",
   "metadata": {},
   "outputs": [],
   "source": [
    "def correctCustGender(x):\n",
    "    if x == 'M':\n",
    "        return x\n",
    "    elif x == 'F':\n",
    "        return x\n",
    "    else:\n",
    "        return 'M'"
   ]
  },
  {
   "cell_type": "code",
   "execution_count": 41,
   "id": "ee7569cf-1019-4d40-9824-eda971170d2c",
   "metadata": {},
   "outputs": [],
   "source": [
    "df['CustGender'] = df['CustGender'].apply(correctCustGender)"
   ]
  },
  {
   "cell_type": "code",
   "execution_count": 42,
   "id": "73f6cb2a-6176-4206-a6a8-6273b0c617bb",
   "metadata": {},
   "outputs": [
    {
     "name": "stdout",
     "output_type": "stream",
     "text": [
      "['F' 'M']\n"
     ]
    }
   ],
   "source": [
    "print(df['CustGender'].unique())"
   ]
  },
  {
   "cell_type": "markdown",
   "id": "bcd3e97b-b50a-4b8d-aa95-d8e2d79e9c03",
   "metadata": {},
   "source": [
    "### 🧠 Feature Engineering: Creating `AgeGroup`\n",
    "\n",
    "To enhance demographic analysis, I introduced a new column, `AgeGroup` by categorising customers based on their calculated age. This segmentation allows for clearer insights into behavioural patterns across different age brackets.\n",
    "\n",
    "#### Example Age Group Bins:\n",
    "- 18–38: Young Adults  \n",
    "- 26–59: Adult  \n",
    "- 36–80: Old Adult \n",
    "- 81+: Elder  \n",
    "\n",
    "This feature supports targeted marketing, customer profiling, and age-based trend analysis."
   ]
  },
  {
   "cell_type": "code",
   "execution_count": 44,
   "id": "9acbefd6-40a0-4e05-b65e-722f1013f24b",
   "metadata": {},
   "outputs": [],
   "source": [
    "def ageGroup(x):\n",
    "    if x <= 38:\n",
    "        return 'Young Adult'\n",
    "    elif x <= 59:\n",
    "        return 'Adult'\n",
    "    elif x <= 80:\n",
    "        return 'Old Adult'\n",
    "    else:\n",
    "        return 'Elder'\n",
    "    "
   ]
  },
  {
   "cell_type": "code",
   "execution_count": 45,
   "id": "84fdcd72-a913-4b2d-bce5-52ec2c3baf67",
   "metadata": {},
   "outputs": [],
   "source": [
    "df['CustAgeGroup'] = df['CustomerAge'].apply(ageGroup)"
   ]
  },
  {
   "cell_type": "code",
   "execution_count": 46,
   "id": "e903b0ac-7fb9-47b0-bfd3-88fdad3bbaec",
   "metadata": {},
   "outputs": [
    {
     "data": {
      "text/html": [
       "<div>\n",
       "<style scoped>\n",
       "    .dataframe tbody tr th:only-of-type {\n",
       "        vertical-align: middle;\n",
       "    }\n",
       "\n",
       "    .dataframe tbody tr th {\n",
       "        vertical-align: top;\n",
       "    }\n",
       "\n",
       "    .dataframe thead th {\n",
       "        text-align: right;\n",
       "    }\n",
       "</style>\n",
       "<table border=\"1\" class=\"dataframe\">\n",
       "  <thead>\n",
       "    <tr style=\"text-align: right;\">\n",
       "      <th></th>\n",
       "      <th>TransactionID</th>\n",
       "      <th>CustomerID</th>\n",
       "      <th>CustGender</th>\n",
       "      <th>CustLocation</th>\n",
       "      <th>CustAccountBalance</th>\n",
       "      <th>TransactionDate</th>\n",
       "      <th>TransactionTime</th>\n",
       "      <th>TransactionAmount (INR)</th>\n",
       "      <th>CustomerAge</th>\n",
       "      <th>Transaction_Date_Time</th>\n",
       "      <th>CustAgeGroup</th>\n",
       "    </tr>\n",
       "  </thead>\n",
       "  <tbody>\n",
       "    <tr>\n",
       "      <th>0</th>\n",
       "      <td>T1</td>\n",
       "      <td>C5841053</td>\n",
       "      <td>F</td>\n",
       "      <td>JAMSHEDPUR</td>\n",
       "      <td>17819.05</td>\n",
       "      <td>2016-02-08</td>\n",
       "      <td>14:32:07</td>\n",
       "      <td>25.0</td>\n",
       "      <td>31</td>\n",
       "      <td>2016-02-08 14:32:07</td>\n",
       "      <td>Young Adult</td>\n",
       "    </tr>\n",
       "    <tr>\n",
       "      <th>1</th>\n",
       "      <td>T2</td>\n",
       "      <td>C2142763</td>\n",
       "      <td>M</td>\n",
       "      <td>JHAJJAR</td>\n",
       "      <td>2270.69</td>\n",
       "      <td>2016-02-08</td>\n",
       "      <td>14:18:58</td>\n",
       "      <td>27999.0</td>\n",
       "      <td>68</td>\n",
       "      <td>2016-02-08 14:18:58</td>\n",
       "      <td>Old Adult</td>\n",
       "    </tr>\n",
       "    <tr>\n",
       "      <th>2</th>\n",
       "      <td>T3</td>\n",
       "      <td>C4417068</td>\n",
       "      <td>F</td>\n",
       "      <td>MUMBAI</td>\n",
       "      <td>17874.44</td>\n",
       "      <td>2016-02-08</td>\n",
       "      <td>14:27:12</td>\n",
       "      <td>459.0</td>\n",
       "      <td>28</td>\n",
       "      <td>2016-02-08 14:27:12</td>\n",
       "      <td>Young Adult</td>\n",
       "    </tr>\n",
       "    <tr>\n",
       "      <th>3</th>\n",
       "      <td>T4</td>\n",
       "      <td>C5342380</td>\n",
       "      <td>F</td>\n",
       "      <td>MUMBAI</td>\n",
       "      <td>866503.21</td>\n",
       "      <td>2016-02-08</td>\n",
       "      <td>14:27:14</td>\n",
       "      <td>2060.0</td>\n",
       "      <td>52</td>\n",
       "      <td>2016-02-08 14:27:14</td>\n",
       "      <td>Adult</td>\n",
       "    </tr>\n",
       "    <tr>\n",
       "      <th>4</th>\n",
       "      <td>T5</td>\n",
       "      <td>C9031234</td>\n",
       "      <td>F</td>\n",
       "      <td>NAVI MUMBAI</td>\n",
       "      <td>6714.43</td>\n",
       "      <td>2016-02-08</td>\n",
       "      <td>18:11:56</td>\n",
       "      <td>1762.5</td>\n",
       "      <td>37</td>\n",
       "      <td>2016-02-08 18:11:56</td>\n",
       "      <td>Young Adult</td>\n",
       "    </tr>\n",
       "  </tbody>\n",
       "</table>\n",
       "</div>"
      ],
      "text/plain": [
       "  TransactionID CustomerID CustGender CustLocation  CustAccountBalance  \\\n",
       "0            T1   C5841053          F   JAMSHEDPUR            17819.05   \n",
       "1            T2   C2142763          M      JHAJJAR             2270.69   \n",
       "2            T3   C4417068          F       MUMBAI            17874.44   \n",
       "3            T4   C5342380          F       MUMBAI           866503.21   \n",
       "4            T5   C9031234          F  NAVI MUMBAI             6714.43   \n",
       "\n",
       "  TransactionDate TransactionTime  TransactionAmount (INR)  CustomerAge  \\\n",
       "0      2016-02-08        14:32:07                     25.0           31   \n",
       "1      2016-02-08        14:18:58                  27999.0           68   \n",
       "2      2016-02-08        14:27:12                    459.0           28   \n",
       "3      2016-02-08        14:27:14                   2060.0           52   \n",
       "4      2016-02-08        18:11:56                   1762.5           37   \n",
       "\n",
       "  Transaction_Date_Time CustAgeGroup  \n",
       "0   2016-02-08 14:32:07  Young Adult  \n",
       "1   2016-02-08 14:18:58    Old Adult  \n",
       "2   2016-02-08 14:27:12  Young Adult  \n",
       "3   2016-02-08 14:27:14        Adult  \n",
       "4   2016-02-08 18:11:56  Young Adult  "
      ]
     },
     "execution_count": 46,
     "metadata": {},
     "output_type": "execute_result"
    }
   ],
   "source": [
    "df.head()"
   ]
  },
  {
   "cell_type": "code",
   "execution_count": 47,
   "id": "f66f5448-b7d4-44e0-b1dc-e486ca0f959a",
   "metadata": {
    "scrolled": true
   },
   "outputs": [
    {
     "data": {
      "text/plain": [
       "225"
      ]
     },
     "execution_count": 47,
     "metadata": {},
     "output_type": "execute_result"
    }
   ],
   "source": [
    "df['CustomerAge'].max()"
   ]
  },
  {
   "cell_type": "code",
   "execution_count": 48,
   "id": "4df2e4bf-3605-4d3d-9c3b-7ad0dfe05c00",
   "metadata": {},
   "outputs": [
    {
     "data": {
      "text/plain": [
       "0"
      ]
     },
     "execution_count": 48,
     "metadata": {},
     "output_type": "execute_result"
    }
   ],
   "source": [
    "df['CustomerAge'].min()"
   ]
  },
  {
   "cell_type": "markdown",
   "id": "e1b355ce-b488-4d1a-b9c4-37b5af4f1883",
   "metadata": {},
   "source": [
    "### 🧹 Filtering Unrealistic Age Values\n",
    "\n",
    "To maintain data quality and ensure meaningful demographic analysis, I removed records where `CustomerAge` falls outside the realistic range:\n",
    "\n",
    "- Ages **below 18** (likely minors or data entry errors)\n",
    "- Ages **above 110** (potential outliers or incorrect birth dates)\n",
    "\n",
    "This step helps prevent skewed insights and supports more accurate segmentation and modelling."
   ]
  },
  {
   "cell_type": "code",
   "execution_count": 50,
   "id": "2589206e-11fe-4b87-9be4-fe8da908bebd",
   "metadata": {},
   "outputs": [
    {
     "data": {
      "text/plain": [
       "(188, 11)"
      ]
     },
     "execution_count": 50,
     "metadata": {},
     "output_type": "execute_result"
    }
   ],
   "source": [
    "below_18 = df[df['CustomerAge'] < 18]\n",
    "below_18.shape"
   ]
  },
  {
   "cell_type": "code",
   "execution_count": 51,
   "id": "4b29735d-dfb4-4bc6-9443-f6588ea5ccb4",
   "metadata": {},
   "outputs": [
    {
     "data": {
      "text/plain": [
       "(56292, 11)"
      ]
     },
     "execution_count": 51,
     "metadata": {},
     "output_type": "execute_result"
    }
   ],
   "source": [
    "above_110 = df[df['CustomerAge'] >110]\n",
    "above_110.shape"
   ]
  },
  {
   "cell_type": "code",
   "execution_count": 52,
   "id": "c7a13553-7d26-4f7c-90d7-9dc639959f7e",
   "metadata": {},
   "outputs": [
    {
     "data": {
      "text/plain": [
       "(1041614, 11)"
      ]
     },
     "execution_count": 52,
     "metadata": {},
     "output_type": "execute_result"
    }
   ],
   "source": [
    "df.shape"
   ]
  },
  {
   "cell_type": "code",
   "execution_count": 53,
   "id": "ef99cf44-4d79-4f0d-a7f6-321cbf31648e",
   "metadata": {},
   "outputs": [],
   "source": [
    "df.drop(df[df['CustomerAge'] < 18].index, inplace=True, axis=0)\n",
    "df.drop(df[df['CustomerAge'] >110].index, inplace=True, axis=0)"
   ]
  },
  {
   "cell_type": "code",
   "execution_count": 54,
   "id": "8d3d4240-9cfb-4628-9592-9ca55a33283d",
   "metadata": {},
   "outputs": [
    {
     "data": {
      "text/plain": [
       "(985134, 11)"
      ]
     },
     "execution_count": 54,
     "metadata": {},
     "output_type": "execute_result"
    }
   ],
   "source": [
    "df.shape"
   ]
  },
  {
   "cell_type": "code",
   "execution_count": 55,
   "id": "1c7b141c-24c1-4de4-b066-4f430e5b7ca3",
   "metadata": {},
   "outputs": [
    {
     "data": {
      "text/html": [
       "<div>\n",
       "<style scoped>\n",
       "    .dataframe tbody tr th:only-of-type {\n",
       "        vertical-align: middle;\n",
       "    }\n",
       "\n",
       "    .dataframe tbody tr th {\n",
       "        vertical-align: top;\n",
       "    }\n",
       "\n",
       "    .dataframe thead th {\n",
       "        text-align: right;\n",
       "    }\n",
       "</style>\n",
       "<table border=\"1\" class=\"dataframe\">\n",
       "  <thead>\n",
       "    <tr style=\"text-align: right;\">\n",
       "      <th></th>\n",
       "      <th>TransactionID</th>\n",
       "      <th>CustomerID</th>\n",
       "      <th>CustGender</th>\n",
       "      <th>CustLocation</th>\n",
       "      <th>CustAccountBalance</th>\n",
       "      <th>TransactionDate</th>\n",
       "      <th>TransactionTime</th>\n",
       "      <th>TransactionAmount (INR)</th>\n",
       "      <th>CustomerAge</th>\n",
       "      <th>Transaction_Date_Time</th>\n",
       "      <th>CustAgeGroup</th>\n",
       "    </tr>\n",
       "  </thead>\n",
       "  <tbody>\n",
       "  </tbody>\n",
       "</table>\n",
       "</div>"
      ],
      "text/plain": [
       "Empty DataFrame\n",
       "Columns: [TransactionID, CustomerID, CustGender, CustLocation, CustAccountBalance, TransactionDate, TransactionTime, TransactionAmount (INR), CustomerAge, Transaction_Date_Time, CustAgeGroup]\n",
       "Index: []"
      ]
     },
     "execution_count": 55,
     "metadata": {},
     "output_type": "execute_result"
    }
   ],
   "source": [
    "df[df['CustomerAge'] < 18]"
   ]
  },
  {
   "cell_type": "code",
   "execution_count": 56,
   "id": "dfaada4a-b75f-41d2-b979-3a3010e0194d",
   "metadata": {},
   "outputs": [
    {
     "data": {
      "text/html": [
       "<div>\n",
       "<style scoped>\n",
       "    .dataframe tbody tr th:only-of-type {\n",
       "        vertical-align: middle;\n",
       "    }\n",
       "\n",
       "    .dataframe tbody tr th {\n",
       "        vertical-align: top;\n",
       "    }\n",
       "\n",
       "    .dataframe thead th {\n",
       "        text-align: right;\n",
       "    }\n",
       "</style>\n",
       "<table border=\"1\" class=\"dataframe\">\n",
       "  <thead>\n",
       "    <tr style=\"text-align: right;\">\n",
       "      <th></th>\n",
       "      <th>TransactionID</th>\n",
       "      <th>CustomerID</th>\n",
       "      <th>CustGender</th>\n",
       "      <th>CustLocation</th>\n",
       "      <th>CustAccountBalance</th>\n",
       "      <th>TransactionDate</th>\n",
       "      <th>TransactionTime</th>\n",
       "      <th>TransactionAmount (INR)</th>\n",
       "      <th>CustomerAge</th>\n",
       "      <th>Transaction_Date_Time</th>\n",
       "      <th>CustAgeGroup</th>\n",
       "    </tr>\n",
       "  </thead>\n",
       "  <tbody>\n",
       "  </tbody>\n",
       "</table>\n",
       "</div>"
      ],
      "text/plain": [
       "Empty DataFrame\n",
       "Columns: [TransactionID, CustomerID, CustGender, CustLocation, CustAccountBalance, TransactionDate, TransactionTime, TransactionAmount (INR), CustomerAge, Transaction_Date_Time, CustAgeGroup]\n",
       "Index: []"
      ]
     },
     "execution_count": 56,
     "metadata": {},
     "output_type": "execute_result"
    }
   ],
   "source": [
    "df[df['CustomerAge'] >110]"
   ]
  },
  {
   "cell_type": "code",
   "execution_count": 57,
   "id": "456f4a4e-d8d8-41c7-9364-eaf2782e18b7",
   "metadata": {},
   "outputs": [
    {
     "data": {
      "text/html": [
       "<div>\n",
       "<style scoped>\n",
       "    .dataframe tbody tr th:only-of-type {\n",
       "        vertical-align: middle;\n",
       "    }\n",
       "\n",
       "    .dataframe tbody tr th {\n",
       "        vertical-align: top;\n",
       "    }\n",
       "\n",
       "    .dataframe thead th {\n",
       "        text-align: right;\n",
       "    }\n",
       "</style>\n",
       "<table border=\"1\" class=\"dataframe\">\n",
       "  <thead>\n",
       "    <tr style=\"text-align: right;\">\n",
       "      <th></th>\n",
       "      <th>TransactionID</th>\n",
       "      <th>CustomerID</th>\n",
       "      <th>CustGender</th>\n",
       "      <th>CustLocation</th>\n",
       "      <th>CustAccountBalance</th>\n",
       "      <th>TransactionDate</th>\n",
       "      <th>TransactionTime</th>\n",
       "      <th>TransactionAmount (INR)</th>\n",
       "      <th>CustomerAge</th>\n",
       "      <th>Transaction_Date_Time</th>\n",
       "      <th>CustAgeGroup</th>\n",
       "    </tr>\n",
       "  </thead>\n",
       "  <tbody>\n",
       "    <tr>\n",
       "      <th>0</th>\n",
       "      <td>T1</td>\n",
       "      <td>C5841053</td>\n",
       "      <td>F</td>\n",
       "      <td>JAMSHEDPUR</td>\n",
       "      <td>17819.05</td>\n",
       "      <td>2016-02-08</td>\n",
       "      <td>14:32:07</td>\n",
       "      <td>25.0</td>\n",
       "      <td>31</td>\n",
       "      <td>2016-02-08 14:32:07</td>\n",
       "      <td>Young Adult</td>\n",
       "    </tr>\n",
       "    <tr>\n",
       "      <th>1</th>\n",
       "      <td>T2</td>\n",
       "      <td>C2142763</td>\n",
       "      <td>M</td>\n",
       "      <td>JHAJJAR</td>\n",
       "      <td>2270.69</td>\n",
       "      <td>2016-02-08</td>\n",
       "      <td>14:18:58</td>\n",
       "      <td>27999.0</td>\n",
       "      <td>68</td>\n",
       "      <td>2016-02-08 14:18:58</td>\n",
       "      <td>Old Adult</td>\n",
       "    </tr>\n",
       "    <tr>\n",
       "      <th>2</th>\n",
       "      <td>T3</td>\n",
       "      <td>C4417068</td>\n",
       "      <td>F</td>\n",
       "      <td>MUMBAI</td>\n",
       "      <td>17874.44</td>\n",
       "      <td>2016-02-08</td>\n",
       "      <td>14:27:12</td>\n",
       "      <td>459.0</td>\n",
       "      <td>28</td>\n",
       "      <td>2016-02-08 14:27:12</td>\n",
       "      <td>Young Adult</td>\n",
       "    </tr>\n",
       "    <tr>\n",
       "      <th>3</th>\n",
       "      <td>T4</td>\n",
       "      <td>C5342380</td>\n",
       "      <td>F</td>\n",
       "      <td>MUMBAI</td>\n",
       "      <td>866503.21</td>\n",
       "      <td>2016-02-08</td>\n",
       "      <td>14:27:14</td>\n",
       "      <td>2060.0</td>\n",
       "      <td>52</td>\n",
       "      <td>2016-02-08 14:27:14</td>\n",
       "      <td>Adult</td>\n",
       "    </tr>\n",
       "    <tr>\n",
       "      <th>4</th>\n",
       "      <td>T5</td>\n",
       "      <td>C9031234</td>\n",
       "      <td>F</td>\n",
       "      <td>NAVI MUMBAI</td>\n",
       "      <td>6714.43</td>\n",
       "      <td>2016-02-08</td>\n",
       "      <td>18:11:56</td>\n",
       "      <td>1762.5</td>\n",
       "      <td>37</td>\n",
       "      <td>2016-02-08 18:11:56</td>\n",
       "      <td>Young Adult</td>\n",
       "    </tr>\n",
       "  </tbody>\n",
       "</table>\n",
       "</div>"
      ],
      "text/plain": [
       "  TransactionID CustomerID CustGender CustLocation  CustAccountBalance  \\\n",
       "0            T1   C5841053          F   JAMSHEDPUR            17819.05   \n",
       "1            T2   C2142763          M      JHAJJAR             2270.69   \n",
       "2            T3   C4417068          F       MUMBAI            17874.44   \n",
       "3            T4   C5342380          F       MUMBAI           866503.21   \n",
       "4            T5   C9031234          F  NAVI MUMBAI             6714.43   \n",
       "\n",
       "  TransactionDate TransactionTime  TransactionAmount (INR)  CustomerAge  \\\n",
       "0      2016-02-08        14:32:07                     25.0           31   \n",
       "1      2016-02-08        14:18:58                  27999.0           68   \n",
       "2      2016-02-08        14:27:12                    459.0           28   \n",
       "3      2016-02-08        14:27:14                   2060.0           52   \n",
       "4      2016-02-08        18:11:56                   1762.5           37   \n",
       "\n",
       "  Transaction_Date_Time CustAgeGroup  \n",
       "0   2016-02-08 14:32:07  Young Adult  \n",
       "1   2016-02-08 14:18:58    Old Adult  \n",
       "2   2016-02-08 14:27:12  Young Adult  \n",
       "3   2016-02-08 14:27:14        Adult  \n",
       "4   2016-02-08 18:11:56  Young Adult  "
      ]
     },
     "execution_count": 57,
     "metadata": {},
     "output_type": "execute_result"
    }
   ],
   "source": [
    "df.head()"
   ]
  },
  {
   "cell_type": "code",
   "execution_count": 58,
   "id": "dc448be5-af57-4a26-8c15-47037e2733bc",
   "metadata": {},
   "outputs": [],
   "source": [
    "df.to_csv(\"C:/Users/user/Desktop/retail banking/preprocessed_data/preprocessed_df_02.csv\", index=False)"
   ]
  },
  {
   "cell_type": "markdown",
   "id": "682bbd5e-5c25-4883-bec4-880b93f7ccc9",
   "metadata": {},
   "source": [
    "### 🔍 Performing Exploratory Data Analysis (EDA)\n",
    "\n",
    "I initiated exploratory data analysis to uncover patterns in the dataset. This phase provides foundational insights that guide feature engineering, modelling, and business strategy.\n",
    "\n",
    "#### Key Objectives:\n",
    "- Visualize relationships between key variables\n",
    "- Segment data by relevant dimensions (e.g., age, gender, transaction type)\n",
    "\n",
    "This helps transform raw data into actionable knowledge and sets the stage for deeper analytical modeling."
   ]
  },
  {
   "cell_type": "markdown",
   "id": "fb6f46e9-cca6-4fa9-a0cf-3eb7c86fdd4f",
   "metadata": {},
   "source": [
    "`Top 10 performing Locations by Transaction Count` and `Leading 10 Locations by Transaction Volume`"
   ]
  },
  {
   "cell_type": "code",
   "execution_count": 61,
   "id": "dfebc23b-248f-4b42-9384-040e9a21146f",
   "metadata": {},
   "outputs": [
    {
     "data": {
      "image/png": "[encoded data removed]",
      "text/plain": [
       "<Figure size 2100x500 with 2 Axes>"
      ]
     },
     "metadata": {},
     "output_type": "display_data"
    }
   ],
   "source": [
    "# Top 10 performing Locations by Transaction Count\n",
    "loc_by_trans = df.groupby('CustLocation')['TransactionID'].count().reset_index()\n",
    "top_10_loc_by_trans = loc_by_trans.sort_values('TransactionID', ascending=False)\n",
    "top_10_loc_by_trans = top_10_loc_by_trans.head(10)\n",
    "\n",
    "# Leading 10 Locations by Transaction Volume\n",
    "loc_by_amt = df.groupby('CustLocation')['TransactionAmount (INR)'].sum().reset_index()\n",
    "top_10_loc_by_amt = loc_by_amt.sort_values('TransactionAmount (INR)', ascending=False)\n",
    "top_10_loc_by_amt = top_10_loc_by_amt.head(10)\n",
    "\n",
    "plt.figure(figsize=(21,5))\n",
    "plt.subplot(1,2,1)\n",
    "sns.barplot(x='CustLocation', y='TransactionID', data=top_10_loc_by_trans, palette='CMRmap')\n",
    "plt.title('Top 10 performing Locations by Transaction Count', weight='bold', fontsize='15')\n",
    "plt.xlabel('Locations', weight='bold', fontsize='12')\n",
    "plt.ylabel('Transaction Counts', weight='bold', fontsize='12')\n",
    "\n",
    "plt.subplot(1,2,2)\n",
    "sns.barplot(x='CustLocation', y='TransactionAmount (INR)', data=top_10_loc_by_amt, palette='Dark2')\n",
    "plt.title('Leading 10 Locations by Transaction Volume', weight='bold', fontsize='15')\n",
    "plt.xlabel('Locations', weight='bold', fontsize='12')\n",
    "plt.ylabel('Transaction Amount', weight='bold', fontsize='12')\n",
    "plt.tight_layout();"
   ]
  },
  {
   "cell_type": "markdown",
   "id": "3c3483c0-4de8-4fe4-93fe-406aa4626b72",
   "metadata": {},
   "source": [
    "### `Top Customers Ranked by Transaction Sum`"
   ]
  },
  {
   "cell_type": "code",
   "execution_count": 63,
   "id": "524af4b0-59f2-4266-a0b6-7f362d927287",
   "metadata": {},
   "outputs": [
    {
     "data": {
      "image/png": "[encoded data removed]",
      "text/plain": [
       "<Figure size 2000x500 with 1 Axes>"
      ]
     },
     "metadata": {},
     "output_type": "display_data"
    }
   ],
   "source": [
    "cust_by_amt = df.groupby('CustomerID')['TransactionAmount (INR)'].sum().reset_index()\n",
    "top_10_cust_by_amt = cust_by_amt.sort_values('TransactionAmount (INR)', ascending=False)\n",
    "top_10_cust_by_amt = top_10_cust_by_amt.head(10)\n",
    "\n",
    "plt.figure(figsize=(20,5))\n",
    "sns.barplot(x='TransactionAmount (INR)', y='CustomerID', data=top_10_cust_by_amt, palette='Set2')\n",
    "plt.title('Top Customers Ranked by Transaction Sum', weight='bold', fontsize='15')\n",
    "plt.ylabel('Customer ID', weight='bold', fontsize='12')\n",
    "plt.xlabel('Transaction Amount (INR)', weight='bold', fontsize='12')\n",
    "plt.tight_layout()\n",
    "plt.show()"
   ]
  },
  {
   "cell_type": "markdown",
   "id": "23dd8a98-f781-4d6b-8e68-bfeb8cf86d83",
   "metadata": {},
   "source": [
    "### `Gender-Based Transaction Analysis`"
   ]
  },
  {
   "cell_type": "code",
   "execution_count": 65,
   "id": "0397162d-6d4d-455c-99fc-b7b2f63cb010",
   "metadata": {},
   "outputs": [
    {
     "data": {
      "text/html": [
       "<div>\n",
       "<style scoped>\n",
       "    .dataframe tbody tr th:only-of-type {\n",
       "        vertical-align: middle;\n",
       "    }\n",
       "\n",
       "    .dataframe tbody tr th {\n",
       "        vertical-align: top;\n",
       "    }\n",
       "\n",
       "    .dataframe thead th {\n",
       "        text-align: right;\n",
       "    }\n",
       "</style>\n",
       "<table border=\"1\" class=\"dataframe\">\n",
       "  <thead>\n",
       "    <tr style=\"text-align: right;\">\n",
       "      <th></th>\n",
       "      <th>CustGender</th>\n",
       "      <th>TransactionAmount (INR)</th>\n",
       "    </tr>\n",
       "  </thead>\n",
       "  <tbody>\n",
       "    <tr>\n",
       "      <th>0</th>\n",
       "      <td>F</td>\n",
       "      <td>4.361919e+08</td>\n",
       "    </tr>\n",
       "    <tr>\n",
       "      <th>1</th>\n",
       "      <td>M</td>\n",
       "      <td>9.943717e+08</td>\n",
       "    </tr>\n",
       "  </tbody>\n",
       "</table>\n",
       "</div>"
      ],
      "text/plain": [
       "  CustGender  TransactionAmount (INR)\n",
       "0          F             4.361919e+08\n",
       "1          M             9.943717e+08"
      ]
     },
     "execution_count": 65,
     "metadata": {},
     "output_type": "execute_result"
    }
   ],
   "source": [
    "GenerTransactionVol = df.groupby('CustGender')['TransactionAmount (INR)'].sum().reset_index()\n",
    "GenerTransactionVol"
   ]
  },
  {
   "cell_type": "markdown",
   "id": "f08a51ef-70a6-4aaa-82b7-0c15713ab914",
   "metadata": {},
   "source": [
    "### `Transaction Counts by Gender`"
   ]
  },
  {
   "cell_type": "code",
   "execution_count": 67,
   "id": "3de9f96f-6dca-4078-814e-14c657bad9be",
   "metadata": {},
   "outputs": [
    {
     "data": {
      "text/html": [
       "<div>\n",
       "<style scoped>\n",
       "    .dataframe tbody tr th:only-of-type {\n",
       "        vertical-align: middle;\n",
       "    }\n",
       "\n",
       "    .dataframe tbody tr th {\n",
       "        vertical-align: top;\n",
       "    }\n",
       "\n",
       "    .dataframe thead th {\n",
       "        text-align: right;\n",
       "    }\n",
       "</style>\n",
       "<table border=\"1\" class=\"dataframe\">\n",
       "  <thead>\n",
       "    <tr style=\"text-align: right;\">\n",
       "      <th></th>\n",
       "      <th>CustGender</th>\n",
       "      <th>count</th>\n",
       "    </tr>\n",
       "  </thead>\n",
       "  <tbody>\n",
       "    <tr>\n",
       "      <th>0</th>\n",
       "      <td>M</td>\n",
       "      <td>712302</td>\n",
       "    </tr>\n",
       "    <tr>\n",
       "      <th>1</th>\n",
       "      <td>F</td>\n",
       "      <td>272832</td>\n",
       "    </tr>\n",
       "  </tbody>\n",
       "</table>\n",
       "</div>"
      ],
      "text/plain": [
       "  CustGender   count\n",
       "0          M  712302\n",
       "1          F  272832"
      ]
     },
     "execution_count": 67,
     "metadata": {},
     "output_type": "execute_result"
    }
   ],
   "source": [
    "gender_transaction_count = df['CustGender'].value_counts().reset_index()\n",
    "gender_transaction_count"
   ]
  },
  {
   "cell_type": "code",
   "execution_count": 96,
   "id": "18f07f20-c374-4e9e-a797-a30287dde95b",
   "metadata": {},
   "outputs": [
    {
     "data": {
      "image/png": "[encoded data removed]",
      "text/plain": [
       "<Figure size 2100x500 with 2 Axes>"
      ]
     },
     "metadata": {},
     "output_type": "display_data"
    }
   ],
   "source": [
    "plt.figure(figsize=(21,5))\n",
    "plt.subplot(1,2,1)\n",
    "# plt.pie(gender_transaction_count['CustGender'], labels=gender_transaction_count['count'])\n",
    "sns.barplot(x='CustGender', y='TransactionAmount (INR)', data=GenerTransactionVol, palette='CMRmap', width=0.4)\n",
    "plt.title('Gender-Based Transaction Volume', weight='bold', fontsize='15')\n",
    "plt.xlabel('Customer Gender', weight='bold', fontsize='12')\n",
    "plt.ylabel('Transaction Amount', weight='bold', fontsize='12')\n",
    "\n",
    "plt.subplot(1,2,2)\n",
    "sns.barplot(x='CustGender', y='count', data=gender_transaction_count, palette='Purples_d', width=0.4)\n",
    "plt.title('- Transaction Counts by Gender', weight='bold', fontsize='15')\n",
    "plt.xlabel('Customer Gender', weight='bold', fontsize='12')\n",
    "plt.ylabel('Counts', weight='bold', fontsize='12')\n",
    "\n",
    "plt.tight_layout()\n",
    "plt.show()"
   ]
  },
  {
   "cell_type": "markdown",
   "id": "7413b9be-bd0d-4012-adcf-dc4bd076686c",
   "metadata": {},
   "source": [
    "### `Monthly Transaction Patterns`"
   ]
  },
  {
   "cell_type": "code",
   "execution_count": 84,
   "id": "c10624df-61d3-4d68-884d-9a0d55279890",
   "metadata": {},
   "outputs": [
    {
     "data": {
      "text/html": [
       "<div>\n",
       "<style scoped>\n",
       "    .dataframe tbody tr th:only-of-type {\n",
       "        vertical-align: middle;\n",
       "    }\n",
       "\n",
       "    .dataframe tbody tr th {\n",
       "        vertical-align: top;\n",
       "    }\n",
       "\n",
       "    .dataframe thead th {\n",
       "        text-align: right;\n",
       "    }\n",
       "</style>\n",
       "<table border=\"1\" class=\"dataframe\">\n",
       "  <thead>\n",
       "    <tr style=\"text-align: right;\">\n",
       "      <th></th>\n",
       "      <th>TransactionDate</th>\n",
       "      <th>TransactionAmount (INR)</th>\n",
       "    </tr>\n",
       "  </thead>\n",
       "  <tbody>\n",
       "    <tr>\n",
       "      <th>0</th>\n",
       "      <td>2016-01</td>\n",
       "      <td>5.375421e+07</td>\n",
       "    </tr>\n",
       "    <tr>\n",
       "      <th>1</th>\n",
       "      <td>2016-02</td>\n",
       "      <td>5.856847e+07</td>\n",
       "    </tr>\n",
       "    <tr>\n",
       "      <th>2</th>\n",
       "      <td>2016-03</td>\n",
       "      <td>6.782119e+07</td>\n",
       "    </tr>\n",
       "    <tr>\n",
       "      <th>3</th>\n",
       "      <td>2016-04</td>\n",
       "      <td>7.271519e+07</td>\n",
       "    </tr>\n",
       "    <tr>\n",
       "      <th>4</th>\n",
       "      <td>2016-05</td>\n",
       "      <td>6.013530e+07</td>\n",
       "    </tr>\n",
       "    <tr>\n",
       "      <th>5</th>\n",
       "      <td>2016-06</td>\n",
       "      <td>6.799314e+07</td>\n",
       "    </tr>\n",
       "    <tr>\n",
       "      <th>6</th>\n",
       "      <td>2016-07</td>\n",
       "      <td>6.622034e+07</td>\n",
       "    </tr>\n",
       "    <tr>\n",
       "      <th>7</th>\n",
       "      <td>2016-08</td>\n",
       "      <td>5.853416e+08</td>\n",
       "    </tr>\n",
       "    <tr>\n",
       "      <th>8</th>\n",
       "      <td>2016-09</td>\n",
       "      <td>2.078602e+08</td>\n",
       "    </tr>\n",
       "    <tr>\n",
       "      <th>9</th>\n",
       "      <td>2016-10</td>\n",
       "      <td>6.918623e+07</td>\n",
       "    </tr>\n",
       "    <tr>\n",
       "      <th>10</th>\n",
       "      <td>2016-11</td>\n",
       "      <td>6.529275e+07</td>\n",
       "    </tr>\n",
       "    <tr>\n",
       "      <th>11</th>\n",
       "      <td>2016-12</td>\n",
       "      <td>5.567510e+07</td>\n",
       "    </tr>\n",
       "  </tbody>\n",
       "</table>\n",
       "</div>"
      ],
      "text/plain": [
       "   TransactionDate  TransactionAmount (INR)\n",
       "0          2016-01             5.375421e+07\n",
       "1          2016-02             5.856847e+07\n",
       "2          2016-03             6.782119e+07\n",
       "3          2016-04             7.271519e+07\n",
       "4          2016-05             6.013530e+07\n",
       "5          2016-06             6.799314e+07\n",
       "6          2016-07             6.622034e+07\n",
       "7          2016-08             5.853416e+08\n",
       "8          2016-09             2.078602e+08\n",
       "9          2016-10             6.918623e+07\n",
       "10         2016-11             6.529275e+07\n",
       "11         2016-12             5.567510e+07"
      ]
     },
     "execution_count": 84,
     "metadata": {},
     "output_type": "execute_result"
    }
   ],
   "source": [
    "monthPattern = df.groupby(df['TransactionDate'].dt.to_period('M'))['TransactionAmount (INR)'].sum().reset_index()\n",
    "monthPattern"
   ]
  },
  {
   "cell_type": "code",
   "execution_count": 108,
   "id": "57d635b4-88c8-4792-b662-ffa3cb333fad",
   "metadata": {},
   "outputs": [
    {
     "ename": "AttributeError",
     "evalue": "'RangeIndex' object has no attribute 'strftime'",
     "output_type": "error",
     "traceback": [
      "\u001b[31m---------------------------------------------------------------------------\u001b[39m",
      "\u001b[31mAttributeError\u001b[39m                            Traceback (most recent call last)",
      "\u001b[36mCell\u001b[39m\u001b[36m \u001b[39m\u001b[32mIn[108]\u001b[39m\u001b[32m, line 2\u001b[39m\n\u001b[32m      1\u001b[39m plt.figure(figsize=(\u001b[32m20\u001b[39m,\u001b[32m10\u001b[39m))\n\u001b[32m----> \u001b[39m\u001b[32m2\u001b[39m plt.plot(\u001b[43mmonthPattern\u001b[49m\u001b[43m[\u001b[49m\u001b[33;43m'\u001b[39;49m\u001b[33;43mTransactionDate\u001b[39;49m\u001b[33;43m'\u001b[39;49m\u001b[43m]\u001b[49m\u001b[43m.\u001b[49m\u001b[43mindex\u001b[49m\u001b[43m.\u001b[49m\u001b[43mstrftime\u001b[49m(\u001b[33m'\u001b[39m\u001b[33m%\u001b[39m\u001b[33mY-\u001b[39m\u001b[33m%\u001b[39m\u001b[33mm\u001b[39m\u001b[33m'\u001b[39m), monthPattern[\u001b[33m'\u001b[39m\u001b[33mTransactionAmount (INR)\u001b[39m\u001b[33m'\u001b[39m])\n\u001b[32m      3\u001b[39m \u001b[38;5;66;03m#monthPattern['TransactionDate'] = pd.to_datetime(monthPattern['TransactionDate'], format='%Y-%m')\u001b[39;00m\n\u001b[32m      4\u001b[39m plt.plot(monthPattern[\u001b[33m'\u001b[39m\u001b[33mTransactionDate\u001b[39m\u001b[33m'\u001b[39m], monthPattern[\u001b[33m'\u001b[39m\u001b[33mTransactionAmount (INR)\u001b[39m\u001b[33m'\u001b[39m], marker=\u001b[33m'\u001b[39m\u001b[33mo\u001b[39m\u001b[33m'\u001b[39m)\n",
      "\u001b[31mAttributeError\u001b[39m: 'RangeIndex' object has no attribute 'strftime'"
     ]
    },
    {
     "data": {
      "text/plain": [
       "<Figure size 2000x1000 with 0 Axes>"
      ]
     },
     "metadata": {},
     "output_type": "display_data"
    }
   ],
   "source": [
    "plt.figure(figsize=(20,10))\n",
    "plt.plot(monthPattern['TransactionDate'].index.strftime('%Y-%m'), monthPattern['TransactionAmount (INR)'])\n",
    "#monthPattern['TransactionDate'] = pd.to_datetime(monthPattern['TransactionDate'], format='%Y-%m')\n",
    "plt.plot(monthPattern['TransactionDate'], monthPattern['TransactionAmount (INR)'], marker='o')\n",
    "\n",
    "plt.tight_layout()\n",
    "plt.show()"
   ]
  },
  {
   "cell_type": "markdown",
   "id": "59bf611b-4760-4221-ac21-92881e3206fe",
   "metadata": {},
   "source": [
    "### `Transaction Volume by Age Group`"
   ]
  },
  {
   "cell_type": "code",
   "execution_count": 111,
   "id": "82a16723-a6c1-49f3-a163-b7a9df9af545",
   "metadata": {},
   "outputs": [
    {
     "data": {
      "image/png": "[encoded data removed]",
      "text/plain": [
       "<Figure size 2500x500 with 2 Axes>"
      ]
     },
     "metadata": {},
     "output_type": "display_data"
    }
   ],
   "source": [
    "# Transaction Volume by Age Group\n",
    "ageGrpVol = df.groupby('CustAgeGroup')['TransactionID'].count().reset_index()\n",
    "ageGrpVol.sort_values('TransactionID', ascending=False)\n",
    "\n",
    "# Total Transaction by Age Group\n",
    "ageGrpTotal = df.groupby('CustAgeGroup')['TransactionAmount (INR)'].sum().reset_index()\n",
    "ageGrpTotal.sort_values('TransactionAmount (INR)', ascending=False)\n",
    "\n",
    "plt.figure(figsize=(25,5))\n",
    "plt.subplot(1,2,1)\n",
    "plt.pie(ageGrpVol['TransactionID'], labels=ageGrpVol['CustAgeGroup'], autopct='%1.2f%%')\n",
    "plt.title('Transaction Volume by Age Group', weight='bold', fontsize='12')\n",
    "\n",
    "plt.subplot(1,2,2)\n",
    "sns.barplot(x='CustAgeGroup', y='TransactionAmount (INR)', data=ageGrpTotal, palette='Set1')\n",
    "#plt.pie(ageGrpTotal['TransactionAmount (INR)'], labels=ageGrpTotal['CustAgeGroup'], autopct='%1.2f%%')\n",
    "plt.title('Total Transaction by Age Group', weight='bold', fontsize='12')\n",
    "plt.show();"
   ]
  },
  {
   "cell_type": "markdown",
   "id": "eb38a07b-6985-49e8-ba0c-5fb27ee17ac9",
   "metadata": {},
   "source": [
    "### `Total Transaction by Age Group`"
   ]
  },
  {
   "cell_type": "code",
   "execution_count": 119,
   "id": "ecb9031a-1545-4afa-9ee2-913fd67190fc",
   "metadata": {},
   "outputs": [
    {
     "data": {
      "text/html": [
       "<div>\n",
       "<style scoped>\n",
       "    .dataframe tbody tr th:only-of-type {\n",
       "        vertical-align: middle;\n",
       "    }\n",
       "\n",
       "    .dataframe tbody tr th {\n",
       "        vertical-align: top;\n",
       "    }\n",
       "\n",
       "    .dataframe thead th {\n",
       "        text-align: right;\n",
       "    }\n",
       "</style>\n",
       "<table border=\"1\" class=\"dataframe\">\n",
       "  <thead>\n",
       "    <tr style=\"text-align: right;\">\n",
       "      <th></th>\n",
       "      <th>CustAgeGroup</th>\n",
       "      <th>TransactionAmount (INR)</th>\n",
       "    </tr>\n",
       "  </thead>\n",
       "  <tbody>\n",
       "    <tr>\n",
       "      <th>0</th>\n",
       "      <td>Adult</td>\n",
       "      <td>7.522977e+08</td>\n",
       "    </tr>\n",
       "    <tr>\n",
       "      <th>3</th>\n",
       "      <td>Young Adult</td>\n",
       "      <td>5.491460e+08</td>\n",
       "    </tr>\n",
       "    <tr>\n",
       "      <th>2</th>\n",
       "      <td>Old Adult</td>\n",
       "      <td>1.189512e+08</td>\n",
       "    </tr>\n",
       "    <tr>\n",
       "      <th>1</th>\n",
       "      <td>Elder</td>\n",
       "      <td>1.016881e+07</td>\n",
       "    </tr>\n",
       "  </tbody>\n",
       "</table>\n",
       "</div>"
      ],
      "text/plain": [
       "  CustAgeGroup  TransactionAmount (INR)\n",
       "0        Adult             7.522977e+08\n",
       "3  Young Adult             5.491460e+08\n",
       "2    Old Adult             1.189512e+08\n",
       "1        Elder             1.016881e+07"
      ]
     },
     "execution_count": 119,
     "metadata": {},
     "output_type": "execute_result"
    }
   ],
   "source": [
    "ageGrpTotal = df.groupby('CustAgeGroup')['TransactionAmount (INR)'].sum().reset_index()\n",
    "ageGrpTotal.sort_values('TransactionAmount (INR)', ascending=False)"
   ]
  },
  {
   "cell_type": "code",
   "execution_count": 121,
   "id": "8a11c87f-0c72-405d-bb9c-305d5a3caf58",
   "metadata": {},
   "outputs": [
    {
     "data": {
      "text/plain": [
       "18"
      ]
     },
     "execution_count": 121,
     "metadata": {},
     "output_type": "execute_result"
    }
   ],
   "source": [
    "df['CustomerAge'].min()"
   ]
  },
  {
   "cell_type": "code",
   "execution_count": 153,
   "id": "e85a60e3-e125-4014-b9ac-d31e4c95827e",
   "metadata": {},
   "outputs": [
    {
     "data": {
      "text/plain": [
       "<bound method NDFrame.head of 0         2016-02-08\n",
       "1         2016-02-08\n",
       "2         2016-02-08\n",
       "3         2016-02-08\n",
       "4         2016-02-08\n",
       "             ...    \n",
       "1041609   2016-09-18\n",
       "1041610   2016-09-18\n",
       "1041611   2016-09-18\n",
       "1041612   2016-09-18\n",
       "1041613   2016-09-18\n",
       "Name: TransactionDate, Length: 985134, dtype: datetime64[ns]>"
      ]
     },
     "execution_count": 153,
     "metadata": {},
     "output_type": "execute_result"
    }
   ],
   "source": [
    "df['TransactionDate'].head"
   ]
  },
  {
   "cell_type": "code",
   "execution_count": null,
   "id": "27f1f979-99c1-4251-bff7-c468d65933e4",
   "metadata": {},
   "outputs": [],
   "source": []
  }
 ],
 "metadata": {
  "kernelspec": {
   "display_name": "Python 3 (ipykernel)",
   "language": "python",
   "name": "python3"
  },
  "language_info": {
   "codemirror_mode": {
    "name": "ipython",
    "version": 3
   },
   "file_extension": ".py",
   "mimetype": "text/x-python",
   "name": "python",
   "nbconvert_exporter": "python",
   "pygments_lexer": "ipython3",
   "version": "3.12.7"
  }
 },
 "nbformat": 4,
 "nbformat_minor": 5
}
